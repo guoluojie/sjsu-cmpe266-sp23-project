{
  "nbformat": 4,
  "nbformat_minor": 0,
  "metadata": {
    "colab": {
      "provenance": [],
      "collapsed_sections": [
        "UZuIi2yGL3jD",
        "gLwRGGZNU12_",
        "AsP9HV5TVK0N",
        "fb8VoF5mg4wp",
        "jzJyiwfnj9To",
        "a762ra7U2Ary",
        "veJlAHFctW8g"
      ],
      "toc_visible": true
    },
    "kernelspec": {
      "name": "python3",
      "display_name": "Python 3"
    },
    "language_info": {
      "name": "python"
    }
  },
  "cells": [
    {
      "cell_type": "markdown",
      "source": [
        "CMPE 266-01\n",
        "\n",
        "Spring 2023\n",
        "\n",
        "Team: Phillip Nguyen, Xuewei Zheng, Roger Kuo"
      ],
      "metadata": {
        "id": "CFG16IKkLWTU"
      }
    },
    {
      "cell_type": "markdown",
      "source": [
        "Movie Recommendation System (using multi-dimensional indexing)"
      ],
      "metadata": {
        "id": "k2Fzl7nGLwab"
      }
    },
    {
      "cell_type": "markdown",
      "source": [
        "# Initialization"
      ],
      "metadata": {
        "id": "UZuIi2yGL3jD"
      }
    },
    {
      "cell_type": "code",
      "source": [
        "# If using Google Colab\n",
        "from google.colab import drive \n",
        "drive.mount('/content/gdrive')"
      ],
      "metadata": {
        "colab": {
          "base_uri": "https://localhost:8080/"
        },
        "id": "ZR--NjbvNJJq",
        "outputId": "44cb87ca-1ae3-4003-bc8f-079619d6bd6d"
      },
      "execution_count": 1,
      "outputs": [
        {
          "output_type": "stream",
          "name": "stdout",
          "text": [
            "Mounted at /content/gdrive\n"
          ]
        }
      ]
    },
    {
      "cell_type": "code",
      "source": [
        "import time\n",
        "import pandas as pd"
      ],
      "metadata": {
        "id": "EeMicOF1NP-a"
      },
      "execution_count": 21,
      "outputs": []
    },
    {
      "cell_type": "markdown",
      "source": [
        "MovieLens 1M Dataset found here: https://grouplens.org/datasets/movielens/1m/"
      ],
      "metadata": {
        "id": "wT_wnZeEMAi6"
      }
    },
    {
      "cell_type": "code",
      "execution_count": 3,
      "metadata": {
        "id": "_VKAK-P-LKdJ"
      },
      "outputs": [],
      "source": [
        "# Change directory\n",
        "directory = \"gdrive/My Drive/Colab Notebooks/CMPE 266/\"\n",
        "# directory = \"gdrive/My Drive/CMPE 266/Group Project/\"\n",
        "\n",
        "movies = pd.read_csv(directory+\"movies.dat\", sep='::', names=['mID','title','genres'], engine='python', encoding=\"ISO-8859-1\")\n",
        "ratings = pd.read_csv(directory+\"ratings.dat\", sep='::', names=['uID','mID','rating','timestamp'], engine='python')\n",
        "users = pd.read_csv(directory+\"users.dat\", sep='::', names=['uID','gender','age','occupation','zip'], engine='python')"
      ]
    },
    {
      "cell_type": "markdown",
      "source": [
        "# Data Preparation"
      ],
      "metadata": {
        "id": "tX_3jJWEPnHg"
      }
    },
    {
      "cell_type": "markdown",
      "source": [
        "## View datasets"
      ],
      "metadata": {
        "id": "gLwRGGZNU12_"
      }
    },
    {
      "cell_type": "markdown",
      "source": [
        "Information on the tables and their columns: https://files.grouplens.org/datasets/movielens/ml-1m-README.txt"
      ],
      "metadata": {
        "id": "jUndl-A_WsoG"
      }
    },
    {
      "cell_type": "code",
      "source": [
        "print(movies.shape)\n",
        "movies.head()"
      ],
      "metadata": {
        "colab": {
          "base_uri": "https://localhost:8080/",
          "height": 0
        },
        "id": "Gmwopb1lPniI",
        "outputId": "57118a2c-6ece-4783-b408-567ed46f240b"
      },
      "execution_count": 4,
      "outputs": [
        {
          "output_type": "stream",
          "name": "stdout",
          "text": [
            "(3883, 3)\n"
          ]
        },
        {
          "output_type": "execute_result",
          "data": {
            "text/plain": [
              "   mID                               title                        genres\n",
              "0    1                    Toy Story (1995)   Animation|Children's|Comedy\n",
              "1    2                      Jumanji (1995)  Adventure|Children's|Fantasy\n",
              "2    3             Grumpier Old Men (1995)                Comedy|Romance\n",
              "3    4            Waiting to Exhale (1995)                  Comedy|Drama\n",
              "4    5  Father of the Bride Part II (1995)                        Comedy"
            ],
            "text/html": [
              "\n",
              "  <div id=\"df-6d24b20d-662c-4308-9cb5-3912b982d3c0\">\n",
              "    <div class=\"colab-df-container\">\n",
              "      <div>\n",
              "<style scoped>\n",
              "    .dataframe tbody tr th:only-of-type {\n",
              "        vertical-align: middle;\n",
              "    }\n",
              "\n",
              "    .dataframe tbody tr th {\n",
              "        vertical-align: top;\n",
              "    }\n",
              "\n",
              "    .dataframe thead th {\n",
              "        text-align: right;\n",
              "    }\n",
              "</style>\n",
              "<table border=\"1\" class=\"dataframe\">\n",
              "  <thead>\n",
              "    <tr style=\"text-align: right;\">\n",
              "      <th></th>\n",
              "      <th>mID</th>\n",
              "      <th>title</th>\n",
              "      <th>genres</th>\n",
              "    </tr>\n",
              "  </thead>\n",
              "  <tbody>\n",
              "    <tr>\n",
              "      <th>0</th>\n",
              "      <td>1</td>\n",
              "      <td>Toy Story (1995)</td>\n",
              "      <td>Animation|Children's|Comedy</td>\n",
              "    </tr>\n",
              "    <tr>\n",
              "      <th>1</th>\n",
              "      <td>2</td>\n",
              "      <td>Jumanji (1995)</td>\n",
              "      <td>Adventure|Children's|Fantasy</td>\n",
              "    </tr>\n",
              "    <tr>\n",
              "      <th>2</th>\n",
              "      <td>3</td>\n",
              "      <td>Grumpier Old Men (1995)</td>\n",
              "      <td>Comedy|Romance</td>\n",
              "    </tr>\n",
              "    <tr>\n",
              "      <th>3</th>\n",
              "      <td>4</td>\n",
              "      <td>Waiting to Exhale (1995)</td>\n",
              "      <td>Comedy|Drama</td>\n",
              "    </tr>\n",
              "    <tr>\n",
              "      <th>4</th>\n",
              "      <td>5</td>\n",
              "      <td>Father of the Bride Part II (1995)</td>\n",
              "      <td>Comedy</td>\n",
              "    </tr>\n",
              "  </tbody>\n",
              "</table>\n",
              "</div>\n",
              "      <button class=\"colab-df-convert\" onclick=\"convertToInteractive('df-6d24b20d-662c-4308-9cb5-3912b982d3c0')\"\n",
              "              title=\"Convert this dataframe to an interactive table.\"\n",
              "              style=\"display:none;\">\n",
              "        \n",
              "  <svg xmlns=\"http://www.w3.org/2000/svg\" height=\"24px\"viewBox=\"0 0 24 24\"\n",
              "       width=\"24px\">\n",
              "    <path d=\"M0 0h24v24H0V0z\" fill=\"none\"/>\n",
              "    <path d=\"M18.56 5.44l.94 2.06.94-2.06 2.06-.94-2.06-.94-.94-2.06-.94 2.06-2.06.94zm-11 1L8.5 8.5l.94-2.06 2.06-.94-2.06-.94L8.5 2.5l-.94 2.06-2.06.94zm10 10l.94 2.06.94-2.06 2.06-.94-2.06-.94-.94-2.06-.94 2.06-2.06.94z\"/><path d=\"M17.41 7.96l-1.37-1.37c-.4-.4-.92-.59-1.43-.59-.52 0-1.04.2-1.43.59L10.3 9.45l-7.72 7.72c-.78.78-.78 2.05 0 2.83L4 21.41c.39.39.9.59 1.41.59.51 0 1.02-.2 1.41-.59l7.78-7.78 2.81-2.81c.8-.78.8-2.07 0-2.86zM5.41 20L4 18.59l7.72-7.72 1.47 1.35L5.41 20z\"/>\n",
              "  </svg>\n",
              "      </button>\n",
              "      \n",
              "  <style>\n",
              "    .colab-df-container {\n",
              "      display:flex;\n",
              "      flex-wrap:wrap;\n",
              "      gap: 12px;\n",
              "    }\n",
              "\n",
              "    .colab-df-convert {\n",
              "      background-color: #E8F0FE;\n",
              "      border: none;\n",
              "      border-radius: 50%;\n",
              "      cursor: pointer;\n",
              "      display: none;\n",
              "      fill: #1967D2;\n",
              "      height: 32px;\n",
              "      padding: 0 0 0 0;\n",
              "      width: 32px;\n",
              "    }\n",
              "\n",
              "    .colab-df-convert:hover {\n",
              "      background-color: #E2EBFA;\n",
              "      box-shadow: 0px 1px 2px rgba(60, 64, 67, 0.3), 0px 1px 3px 1px rgba(60, 64, 67, 0.15);\n",
              "      fill: #174EA6;\n",
              "    }\n",
              "\n",
              "    [theme=dark] .colab-df-convert {\n",
              "      background-color: #3B4455;\n",
              "      fill: #D2E3FC;\n",
              "    }\n",
              "\n",
              "    [theme=dark] .colab-df-convert:hover {\n",
              "      background-color: #434B5C;\n",
              "      box-shadow: 0px 1px 3px 1px rgba(0, 0, 0, 0.15);\n",
              "      filter: drop-shadow(0px 1px 2px rgba(0, 0, 0, 0.3));\n",
              "      fill: #FFFFFF;\n",
              "    }\n",
              "  </style>\n",
              "\n",
              "      <script>\n",
              "        const buttonEl =\n",
              "          document.querySelector('#df-6d24b20d-662c-4308-9cb5-3912b982d3c0 button.colab-df-convert');\n",
              "        buttonEl.style.display =\n",
              "          google.colab.kernel.accessAllowed ? 'block' : 'none';\n",
              "\n",
              "        async function convertToInteractive(key) {\n",
              "          const element = document.querySelector('#df-6d24b20d-662c-4308-9cb5-3912b982d3c0');\n",
              "          const dataTable =\n",
              "            await google.colab.kernel.invokeFunction('convertToInteractive',\n",
              "                                                     [key], {});\n",
              "          if (!dataTable) return;\n",
              "\n",
              "          const docLinkHtml = 'Like what you see? Visit the ' +\n",
              "            '<a target=\"_blank\" href=https://colab.research.google.com/notebooks/data_table.ipynb>data table notebook</a>'\n",
              "            + ' to learn more about interactive tables.';\n",
              "          element.innerHTML = '';\n",
              "          dataTable['output_type'] = 'display_data';\n",
              "          await google.colab.output.renderOutput(dataTable, element);\n",
              "          const docLink = document.createElement('div');\n",
              "          docLink.innerHTML = docLinkHtml;\n",
              "          element.appendChild(docLink);\n",
              "        }\n",
              "      </script>\n",
              "    </div>\n",
              "  </div>\n",
              "  "
            ]
          },
          "metadata": {},
          "execution_count": 4
        }
      ]
    },
    {
      "cell_type": "code",
      "source": [
        "print(ratings.shape)\n",
        "ratings.head()"
      ],
      "metadata": {
        "colab": {
          "base_uri": "https://localhost:8080/",
          "height": 0
        },
        "id": "SKwIL5YsUutW",
        "outputId": "881a61ef-77fa-4da3-bb46-4ee880f9ea0d"
      },
      "execution_count": 5,
      "outputs": [
        {
          "output_type": "stream",
          "name": "stdout",
          "text": [
            "(1000209, 4)\n"
          ]
        },
        {
          "output_type": "execute_result",
          "data": {
            "text/plain": [
              "   uID   mID  rating  timestamp\n",
              "0    1  1193       5  978300760\n",
              "1    1   661       3  978302109\n",
              "2    1   914       3  978301968\n",
              "3    1  3408       4  978300275\n",
              "4    1  2355       5  978824291"
            ],
            "text/html": [
              "\n",
              "  <div id=\"df-d6f19e01-88ce-4737-99fd-ca417dc2fe7a\">\n",
              "    <div class=\"colab-df-container\">\n",
              "      <div>\n",
              "<style scoped>\n",
              "    .dataframe tbody tr th:only-of-type {\n",
              "        vertical-align: middle;\n",
              "    }\n",
              "\n",
              "    .dataframe tbody tr th {\n",
              "        vertical-align: top;\n",
              "    }\n",
              "\n",
              "    .dataframe thead th {\n",
              "        text-align: right;\n",
              "    }\n",
              "</style>\n",
              "<table border=\"1\" class=\"dataframe\">\n",
              "  <thead>\n",
              "    <tr style=\"text-align: right;\">\n",
              "      <th></th>\n",
              "      <th>uID</th>\n",
              "      <th>mID</th>\n",
              "      <th>rating</th>\n",
              "      <th>timestamp</th>\n",
              "    </tr>\n",
              "  </thead>\n",
              "  <tbody>\n",
              "    <tr>\n",
              "      <th>0</th>\n",
              "      <td>1</td>\n",
              "      <td>1193</td>\n",
              "      <td>5</td>\n",
              "      <td>978300760</td>\n",
              "    </tr>\n",
              "    <tr>\n",
              "      <th>1</th>\n",
              "      <td>1</td>\n",
              "      <td>661</td>\n",
              "      <td>3</td>\n",
              "      <td>978302109</td>\n",
              "    </tr>\n",
              "    <tr>\n",
              "      <th>2</th>\n",
              "      <td>1</td>\n",
              "      <td>914</td>\n",
              "      <td>3</td>\n",
              "      <td>978301968</td>\n",
              "    </tr>\n",
              "    <tr>\n",
              "      <th>3</th>\n",
              "      <td>1</td>\n",
              "      <td>3408</td>\n",
              "      <td>4</td>\n",
              "      <td>978300275</td>\n",
              "    </tr>\n",
              "    <tr>\n",
              "      <th>4</th>\n",
              "      <td>1</td>\n",
              "      <td>2355</td>\n",
              "      <td>5</td>\n",
              "      <td>978824291</td>\n",
              "    </tr>\n",
              "  </tbody>\n",
              "</table>\n",
              "</div>\n",
              "      <button class=\"colab-df-convert\" onclick=\"convertToInteractive('df-d6f19e01-88ce-4737-99fd-ca417dc2fe7a')\"\n",
              "              title=\"Convert this dataframe to an interactive table.\"\n",
              "              style=\"display:none;\">\n",
              "        \n",
              "  <svg xmlns=\"http://www.w3.org/2000/svg\" height=\"24px\"viewBox=\"0 0 24 24\"\n",
              "       width=\"24px\">\n",
              "    <path d=\"M0 0h24v24H0V0z\" fill=\"none\"/>\n",
              "    <path d=\"M18.56 5.44l.94 2.06.94-2.06 2.06-.94-2.06-.94-.94-2.06-.94 2.06-2.06.94zm-11 1L8.5 8.5l.94-2.06 2.06-.94-2.06-.94L8.5 2.5l-.94 2.06-2.06.94zm10 10l.94 2.06.94-2.06 2.06-.94-2.06-.94-.94-2.06-.94 2.06-2.06.94z\"/><path d=\"M17.41 7.96l-1.37-1.37c-.4-.4-.92-.59-1.43-.59-.52 0-1.04.2-1.43.59L10.3 9.45l-7.72 7.72c-.78.78-.78 2.05 0 2.83L4 21.41c.39.39.9.59 1.41.59.51 0 1.02-.2 1.41-.59l7.78-7.78 2.81-2.81c.8-.78.8-2.07 0-2.86zM5.41 20L4 18.59l7.72-7.72 1.47 1.35L5.41 20z\"/>\n",
              "  </svg>\n",
              "      </button>\n",
              "      \n",
              "  <style>\n",
              "    .colab-df-container {\n",
              "      display:flex;\n",
              "      flex-wrap:wrap;\n",
              "      gap: 12px;\n",
              "    }\n",
              "\n",
              "    .colab-df-convert {\n",
              "      background-color: #E8F0FE;\n",
              "      border: none;\n",
              "      border-radius: 50%;\n",
              "      cursor: pointer;\n",
              "      display: none;\n",
              "      fill: #1967D2;\n",
              "      height: 32px;\n",
              "      padding: 0 0 0 0;\n",
              "      width: 32px;\n",
              "    }\n",
              "\n",
              "    .colab-df-convert:hover {\n",
              "      background-color: #E2EBFA;\n",
              "      box-shadow: 0px 1px 2px rgba(60, 64, 67, 0.3), 0px 1px 3px 1px rgba(60, 64, 67, 0.15);\n",
              "      fill: #174EA6;\n",
              "    }\n",
              "\n",
              "    [theme=dark] .colab-df-convert {\n",
              "      background-color: #3B4455;\n",
              "      fill: #D2E3FC;\n",
              "    }\n",
              "\n",
              "    [theme=dark] .colab-df-convert:hover {\n",
              "      background-color: #434B5C;\n",
              "      box-shadow: 0px 1px 3px 1px rgba(0, 0, 0, 0.15);\n",
              "      filter: drop-shadow(0px 1px 2px rgba(0, 0, 0, 0.3));\n",
              "      fill: #FFFFFF;\n",
              "    }\n",
              "  </style>\n",
              "\n",
              "      <script>\n",
              "        const buttonEl =\n",
              "          document.querySelector('#df-d6f19e01-88ce-4737-99fd-ca417dc2fe7a button.colab-df-convert');\n",
              "        buttonEl.style.display =\n",
              "          google.colab.kernel.accessAllowed ? 'block' : 'none';\n",
              "\n",
              "        async function convertToInteractive(key) {\n",
              "          const element = document.querySelector('#df-d6f19e01-88ce-4737-99fd-ca417dc2fe7a');\n",
              "          const dataTable =\n",
              "            await google.colab.kernel.invokeFunction('convertToInteractive',\n",
              "                                                     [key], {});\n",
              "          if (!dataTable) return;\n",
              "\n",
              "          const docLinkHtml = 'Like what you see? Visit the ' +\n",
              "            '<a target=\"_blank\" href=https://colab.research.google.com/notebooks/data_table.ipynb>data table notebook</a>'\n",
              "            + ' to learn more about interactive tables.';\n",
              "          element.innerHTML = '';\n",
              "          dataTable['output_type'] = 'display_data';\n",
              "          await google.colab.output.renderOutput(dataTable, element);\n",
              "          const docLink = document.createElement('div');\n",
              "          docLink.innerHTML = docLinkHtml;\n",
              "          element.appendChild(docLink);\n",
              "        }\n",
              "      </script>\n",
              "    </div>\n",
              "  </div>\n",
              "  "
            ]
          },
          "metadata": {},
          "execution_count": 5
        }
      ]
    },
    {
      "cell_type": "code",
      "source": [
        "print(users.shape)\n",
        "users.head()"
      ],
      "metadata": {
        "colab": {
          "base_uri": "https://localhost:8080/",
          "height": 0
        },
        "id": "gjK49bhrUwgv",
        "outputId": "91b85b88-2766-47ae-8bb5-7b764121d167"
      },
      "execution_count": 6,
      "outputs": [
        {
          "output_type": "stream",
          "name": "stdout",
          "text": [
            "(6040, 5)\n"
          ]
        },
        {
          "output_type": "execute_result",
          "data": {
            "text/plain": [
              "   uID gender  age  occupation    zip\n",
              "0    1      F    1          10  48067\n",
              "1    2      M   56          16  70072\n",
              "2    3      M   25          15  55117\n",
              "3    4      M   45           7  02460\n",
              "4    5      M   25          20  55455"
            ],
            "text/html": [
              "\n",
              "  <div id=\"df-f6ca1dcb-5812-4dd9-bb1b-618e58ff7023\">\n",
              "    <div class=\"colab-df-container\">\n",
              "      <div>\n",
              "<style scoped>\n",
              "    .dataframe tbody tr th:only-of-type {\n",
              "        vertical-align: middle;\n",
              "    }\n",
              "\n",
              "    .dataframe tbody tr th {\n",
              "        vertical-align: top;\n",
              "    }\n",
              "\n",
              "    .dataframe thead th {\n",
              "        text-align: right;\n",
              "    }\n",
              "</style>\n",
              "<table border=\"1\" class=\"dataframe\">\n",
              "  <thead>\n",
              "    <tr style=\"text-align: right;\">\n",
              "      <th></th>\n",
              "      <th>uID</th>\n",
              "      <th>gender</th>\n",
              "      <th>age</th>\n",
              "      <th>occupation</th>\n",
              "      <th>zip</th>\n",
              "    </tr>\n",
              "  </thead>\n",
              "  <tbody>\n",
              "    <tr>\n",
              "      <th>0</th>\n",
              "      <td>1</td>\n",
              "      <td>F</td>\n",
              "      <td>1</td>\n",
              "      <td>10</td>\n",
              "      <td>48067</td>\n",
              "    </tr>\n",
              "    <tr>\n",
              "      <th>1</th>\n",
              "      <td>2</td>\n",
              "      <td>M</td>\n",
              "      <td>56</td>\n",
              "      <td>16</td>\n",
              "      <td>70072</td>\n",
              "    </tr>\n",
              "    <tr>\n",
              "      <th>2</th>\n",
              "      <td>3</td>\n",
              "      <td>M</td>\n",
              "      <td>25</td>\n",
              "      <td>15</td>\n",
              "      <td>55117</td>\n",
              "    </tr>\n",
              "    <tr>\n",
              "      <th>3</th>\n",
              "      <td>4</td>\n",
              "      <td>M</td>\n",
              "      <td>45</td>\n",
              "      <td>7</td>\n",
              "      <td>02460</td>\n",
              "    </tr>\n",
              "    <tr>\n",
              "      <th>4</th>\n",
              "      <td>5</td>\n",
              "      <td>M</td>\n",
              "      <td>25</td>\n",
              "      <td>20</td>\n",
              "      <td>55455</td>\n",
              "    </tr>\n",
              "  </tbody>\n",
              "</table>\n",
              "</div>\n",
              "      <button class=\"colab-df-convert\" onclick=\"convertToInteractive('df-f6ca1dcb-5812-4dd9-bb1b-618e58ff7023')\"\n",
              "              title=\"Convert this dataframe to an interactive table.\"\n",
              "              style=\"display:none;\">\n",
              "        \n",
              "  <svg xmlns=\"http://www.w3.org/2000/svg\" height=\"24px\"viewBox=\"0 0 24 24\"\n",
              "       width=\"24px\">\n",
              "    <path d=\"M0 0h24v24H0V0z\" fill=\"none\"/>\n",
              "    <path d=\"M18.56 5.44l.94 2.06.94-2.06 2.06-.94-2.06-.94-.94-2.06-.94 2.06-2.06.94zm-11 1L8.5 8.5l.94-2.06 2.06-.94-2.06-.94L8.5 2.5l-.94 2.06-2.06.94zm10 10l.94 2.06.94-2.06 2.06-.94-2.06-.94-.94-2.06-.94 2.06-2.06.94z\"/><path d=\"M17.41 7.96l-1.37-1.37c-.4-.4-.92-.59-1.43-.59-.52 0-1.04.2-1.43.59L10.3 9.45l-7.72 7.72c-.78.78-.78 2.05 0 2.83L4 21.41c.39.39.9.59 1.41.59.51 0 1.02-.2 1.41-.59l7.78-7.78 2.81-2.81c.8-.78.8-2.07 0-2.86zM5.41 20L4 18.59l7.72-7.72 1.47 1.35L5.41 20z\"/>\n",
              "  </svg>\n",
              "      </button>\n",
              "      \n",
              "  <style>\n",
              "    .colab-df-container {\n",
              "      display:flex;\n",
              "      flex-wrap:wrap;\n",
              "      gap: 12px;\n",
              "    }\n",
              "\n",
              "    .colab-df-convert {\n",
              "      background-color: #E8F0FE;\n",
              "      border: none;\n",
              "      border-radius: 50%;\n",
              "      cursor: pointer;\n",
              "      display: none;\n",
              "      fill: #1967D2;\n",
              "      height: 32px;\n",
              "      padding: 0 0 0 0;\n",
              "      width: 32px;\n",
              "    }\n",
              "\n",
              "    .colab-df-convert:hover {\n",
              "      background-color: #E2EBFA;\n",
              "      box-shadow: 0px 1px 2px rgba(60, 64, 67, 0.3), 0px 1px 3px 1px rgba(60, 64, 67, 0.15);\n",
              "      fill: #174EA6;\n",
              "    }\n",
              "\n",
              "    [theme=dark] .colab-df-convert {\n",
              "      background-color: #3B4455;\n",
              "      fill: #D2E3FC;\n",
              "    }\n",
              "\n",
              "    [theme=dark] .colab-df-convert:hover {\n",
              "      background-color: #434B5C;\n",
              "      box-shadow: 0px 1px 3px 1px rgba(0, 0, 0, 0.15);\n",
              "      filter: drop-shadow(0px 1px 2px rgba(0, 0, 0, 0.3));\n",
              "      fill: #FFFFFF;\n",
              "    }\n",
              "  </style>\n",
              "\n",
              "      <script>\n",
              "        const buttonEl =\n",
              "          document.querySelector('#df-f6ca1dcb-5812-4dd9-bb1b-618e58ff7023 button.colab-df-convert');\n",
              "        buttonEl.style.display =\n",
              "          google.colab.kernel.accessAllowed ? 'block' : 'none';\n",
              "\n",
              "        async function convertToInteractive(key) {\n",
              "          const element = document.querySelector('#df-f6ca1dcb-5812-4dd9-bb1b-618e58ff7023');\n",
              "          const dataTable =\n",
              "            await google.colab.kernel.invokeFunction('convertToInteractive',\n",
              "                                                     [key], {});\n",
              "          if (!dataTable) return;\n",
              "\n",
              "          const docLinkHtml = 'Like what you see? Visit the ' +\n",
              "            '<a target=\"_blank\" href=https://colab.research.google.com/notebooks/data_table.ipynb>data table notebook</a>'\n",
              "            + ' to learn more about interactive tables.';\n",
              "          element.innerHTML = '';\n",
              "          dataTable['output_type'] = 'display_data';\n",
              "          await google.colab.output.renderOutput(dataTable, element);\n",
              "          const docLink = document.createElement('div');\n",
              "          docLink.innerHTML = docLinkHtml;\n",
              "          element.appendChild(docLink);\n",
              "        }\n",
              "      </script>\n",
              "    </div>\n",
              "  </div>\n",
              "  "
            ]
          },
          "metadata": {},
          "execution_count": 6
        }
      ]
    },
    {
      "cell_type": "markdown",
      "source": [
        "## Preprocessing"
      ],
      "metadata": {
        "id": "AsP9HV5TVK0N"
      }
    },
    {
      "cell_type": "code",
      "source": [
        "from sklearn.preprocessing import LabelEncoder"
      ],
      "metadata": {
        "id": "bKisRi8_cMqk"
      },
      "execution_count": 7,
      "outputs": []
    },
    {
      "cell_type": "markdown",
      "source": [
        "### Movies table\n",
        "\n",
        "Omit the title column. We will use it later.\n",
        "\n",
        "Each movie can have multiple genres, sorted in alphabetical order. \n",
        "To simplify our process, we just use the first assigned genre.\n",
        "Otherwise we will have to incorporate more feature vectors.\n",
        "While this would work fine with machine learning, it is ineffiient for our purposes with multi-dimensional indexing."
      ],
      "metadata": {
        "id": "CvfRVd90csYb"
      }
    },
    {
      "cell_type": "code",
      "source": [
        "# Omit title column\n",
        "m_df = movies.copy(deep=True)\n",
        "m_df = m_df[['mID','genres']]\n",
        "# Simplify genres column\n",
        "m_df['genres'] = m_df['genres'].map(lambda genres: genres.split('|')[0])\n",
        "\n",
        "# Encode the genres as integers\n",
        "mle = LabelEncoder()\n",
        "m_df['genres'] = mle.fit_transform(m_df['genres'])\n",
        "\n",
        "m_df.head()"
      ],
      "metadata": {
        "colab": {
          "base_uri": "https://localhost:8080/",
          "height": 0
        },
        "id": "tYRmIGfKXAZr",
        "outputId": "31b5f963-5fad-47ae-9656-dd44c5b50069"
      },
      "execution_count": 8,
      "outputs": [
        {
          "output_type": "execute_result",
          "data": {
            "text/plain": [
              "   mID  genres\n",
              "0    1       2\n",
              "1    2       1\n",
              "2    3       4\n",
              "3    4       4\n",
              "4    5       4"
            ],
            "text/html": [
              "\n",
              "  <div id=\"df-b8444088-fdab-40f4-9dd5-e189d3c00cd2\">\n",
              "    <div class=\"colab-df-container\">\n",
              "      <div>\n",
              "<style scoped>\n",
              "    .dataframe tbody tr th:only-of-type {\n",
              "        vertical-align: middle;\n",
              "    }\n",
              "\n",
              "    .dataframe tbody tr th {\n",
              "        vertical-align: top;\n",
              "    }\n",
              "\n",
              "    .dataframe thead th {\n",
              "        text-align: right;\n",
              "    }\n",
              "</style>\n",
              "<table border=\"1\" class=\"dataframe\">\n",
              "  <thead>\n",
              "    <tr style=\"text-align: right;\">\n",
              "      <th></th>\n",
              "      <th>mID</th>\n",
              "      <th>genres</th>\n",
              "    </tr>\n",
              "  </thead>\n",
              "  <tbody>\n",
              "    <tr>\n",
              "      <th>0</th>\n",
              "      <td>1</td>\n",
              "      <td>2</td>\n",
              "    </tr>\n",
              "    <tr>\n",
              "      <th>1</th>\n",
              "      <td>2</td>\n",
              "      <td>1</td>\n",
              "    </tr>\n",
              "    <tr>\n",
              "      <th>2</th>\n",
              "      <td>3</td>\n",
              "      <td>4</td>\n",
              "    </tr>\n",
              "    <tr>\n",
              "      <th>3</th>\n",
              "      <td>4</td>\n",
              "      <td>4</td>\n",
              "    </tr>\n",
              "    <tr>\n",
              "      <th>4</th>\n",
              "      <td>5</td>\n",
              "      <td>4</td>\n",
              "    </tr>\n",
              "  </tbody>\n",
              "</table>\n",
              "</div>\n",
              "      <button class=\"colab-df-convert\" onclick=\"convertToInteractive('df-b8444088-fdab-40f4-9dd5-e189d3c00cd2')\"\n",
              "              title=\"Convert this dataframe to an interactive table.\"\n",
              "              style=\"display:none;\">\n",
              "        \n",
              "  <svg xmlns=\"http://www.w3.org/2000/svg\" height=\"24px\"viewBox=\"0 0 24 24\"\n",
              "       width=\"24px\">\n",
              "    <path d=\"M0 0h24v24H0V0z\" fill=\"none\"/>\n",
              "    <path d=\"M18.56 5.44l.94 2.06.94-2.06 2.06-.94-2.06-.94-.94-2.06-.94 2.06-2.06.94zm-11 1L8.5 8.5l.94-2.06 2.06-.94-2.06-.94L8.5 2.5l-.94 2.06-2.06.94zm10 10l.94 2.06.94-2.06 2.06-.94-2.06-.94-.94-2.06-.94 2.06-2.06.94z\"/><path d=\"M17.41 7.96l-1.37-1.37c-.4-.4-.92-.59-1.43-.59-.52 0-1.04.2-1.43.59L10.3 9.45l-7.72 7.72c-.78.78-.78 2.05 0 2.83L4 21.41c.39.39.9.59 1.41.59.51 0 1.02-.2 1.41-.59l7.78-7.78 2.81-2.81c.8-.78.8-2.07 0-2.86zM5.41 20L4 18.59l7.72-7.72 1.47 1.35L5.41 20z\"/>\n",
              "  </svg>\n",
              "      </button>\n",
              "      \n",
              "  <style>\n",
              "    .colab-df-container {\n",
              "      display:flex;\n",
              "      flex-wrap:wrap;\n",
              "      gap: 12px;\n",
              "    }\n",
              "\n",
              "    .colab-df-convert {\n",
              "      background-color: #E8F0FE;\n",
              "      border: none;\n",
              "      border-radius: 50%;\n",
              "      cursor: pointer;\n",
              "      display: none;\n",
              "      fill: #1967D2;\n",
              "      height: 32px;\n",
              "      padding: 0 0 0 0;\n",
              "      width: 32px;\n",
              "    }\n",
              "\n",
              "    .colab-df-convert:hover {\n",
              "      background-color: #E2EBFA;\n",
              "      box-shadow: 0px 1px 2px rgba(60, 64, 67, 0.3), 0px 1px 3px 1px rgba(60, 64, 67, 0.15);\n",
              "      fill: #174EA6;\n",
              "    }\n",
              "\n",
              "    [theme=dark] .colab-df-convert {\n",
              "      background-color: #3B4455;\n",
              "      fill: #D2E3FC;\n",
              "    }\n",
              "\n",
              "    [theme=dark] .colab-df-convert:hover {\n",
              "      background-color: #434B5C;\n",
              "      box-shadow: 0px 1px 3px 1px rgba(0, 0, 0, 0.15);\n",
              "      filter: drop-shadow(0px 1px 2px rgba(0, 0, 0, 0.3));\n",
              "      fill: #FFFFFF;\n",
              "    }\n",
              "  </style>\n",
              "\n",
              "      <script>\n",
              "        const buttonEl =\n",
              "          document.querySelector('#df-b8444088-fdab-40f4-9dd5-e189d3c00cd2 button.colab-df-convert');\n",
              "        buttonEl.style.display =\n",
              "          google.colab.kernel.accessAllowed ? 'block' : 'none';\n",
              "\n",
              "        async function convertToInteractive(key) {\n",
              "          const element = document.querySelector('#df-b8444088-fdab-40f4-9dd5-e189d3c00cd2');\n",
              "          const dataTable =\n",
              "            await google.colab.kernel.invokeFunction('convertToInteractive',\n",
              "                                                     [key], {});\n",
              "          if (!dataTable) return;\n",
              "\n",
              "          const docLinkHtml = 'Like what you see? Visit the ' +\n",
              "            '<a target=\"_blank\" href=https://colab.research.google.com/notebooks/data_table.ipynb>data table notebook</a>'\n",
              "            + ' to learn more about interactive tables.';\n",
              "          element.innerHTML = '';\n",
              "          dataTable['output_type'] = 'display_data';\n",
              "          await google.colab.output.renderOutput(dataTable, element);\n",
              "          const docLink = document.createElement('div');\n",
              "          docLink.innerHTML = docLinkHtml;\n",
              "          element.appendChild(docLink);\n",
              "        }\n",
              "      </script>\n",
              "    </div>\n",
              "  </div>\n",
              "  "
            ]
          },
          "metadata": {},
          "execution_count": 8
        }
      ]
    },
    {
      "cell_type": "markdown",
      "source": [
        "### Ratings table\n",
        "\n",
        "Omit the timestamp column. This feature is uselesss.\n",
        "\n",
        "Omit the rating column. We may use it later."
      ],
      "metadata": {
        "id": "9uVtgZ0SgKxi"
      }
    },
    {
      "cell_type": "code",
      "source": [
        "r_df = ratings.copy(deep=True)\n",
        "r_df = r_df[['uID','mID']]\n",
        "r_df.head()"
      ],
      "metadata": {
        "colab": {
          "base_uri": "https://localhost:8080/",
          "height": 0
        },
        "id": "9wkAnhpnVIJQ",
        "outputId": "36b84880-b20c-4cd7-e13f-37c9bc677c4b"
      },
      "execution_count": 9,
      "outputs": [
        {
          "output_type": "execute_result",
          "data": {
            "text/plain": [
              "   uID   mID\n",
              "0    1  1193\n",
              "1    1   661\n",
              "2    1   914\n",
              "3    1  3408\n",
              "4    1  2355"
            ],
            "text/html": [
              "\n",
              "  <div id=\"df-b0c8c55a-a2fd-436f-ac7b-359665b812b5\">\n",
              "    <div class=\"colab-df-container\">\n",
              "      <div>\n",
              "<style scoped>\n",
              "    .dataframe tbody tr th:only-of-type {\n",
              "        vertical-align: middle;\n",
              "    }\n",
              "\n",
              "    .dataframe tbody tr th {\n",
              "        vertical-align: top;\n",
              "    }\n",
              "\n",
              "    .dataframe thead th {\n",
              "        text-align: right;\n",
              "    }\n",
              "</style>\n",
              "<table border=\"1\" class=\"dataframe\">\n",
              "  <thead>\n",
              "    <tr style=\"text-align: right;\">\n",
              "      <th></th>\n",
              "      <th>uID</th>\n",
              "      <th>mID</th>\n",
              "    </tr>\n",
              "  </thead>\n",
              "  <tbody>\n",
              "    <tr>\n",
              "      <th>0</th>\n",
              "      <td>1</td>\n",
              "      <td>1193</td>\n",
              "    </tr>\n",
              "    <tr>\n",
              "      <th>1</th>\n",
              "      <td>1</td>\n",
              "      <td>661</td>\n",
              "    </tr>\n",
              "    <tr>\n",
              "      <th>2</th>\n",
              "      <td>1</td>\n",
              "      <td>914</td>\n",
              "    </tr>\n",
              "    <tr>\n",
              "      <th>3</th>\n",
              "      <td>1</td>\n",
              "      <td>3408</td>\n",
              "    </tr>\n",
              "    <tr>\n",
              "      <th>4</th>\n",
              "      <td>1</td>\n",
              "      <td>2355</td>\n",
              "    </tr>\n",
              "  </tbody>\n",
              "</table>\n",
              "</div>\n",
              "      <button class=\"colab-df-convert\" onclick=\"convertToInteractive('df-b0c8c55a-a2fd-436f-ac7b-359665b812b5')\"\n",
              "              title=\"Convert this dataframe to an interactive table.\"\n",
              "              style=\"display:none;\">\n",
              "        \n",
              "  <svg xmlns=\"http://www.w3.org/2000/svg\" height=\"24px\"viewBox=\"0 0 24 24\"\n",
              "       width=\"24px\">\n",
              "    <path d=\"M0 0h24v24H0V0z\" fill=\"none\"/>\n",
              "    <path d=\"M18.56 5.44l.94 2.06.94-2.06 2.06-.94-2.06-.94-.94-2.06-.94 2.06-2.06.94zm-11 1L8.5 8.5l.94-2.06 2.06-.94-2.06-.94L8.5 2.5l-.94 2.06-2.06.94zm10 10l.94 2.06.94-2.06 2.06-.94-2.06-.94-.94-2.06-.94 2.06-2.06.94z\"/><path d=\"M17.41 7.96l-1.37-1.37c-.4-.4-.92-.59-1.43-.59-.52 0-1.04.2-1.43.59L10.3 9.45l-7.72 7.72c-.78.78-.78 2.05 0 2.83L4 21.41c.39.39.9.59 1.41.59.51 0 1.02-.2 1.41-.59l7.78-7.78 2.81-2.81c.8-.78.8-2.07 0-2.86zM5.41 20L4 18.59l7.72-7.72 1.47 1.35L5.41 20z\"/>\n",
              "  </svg>\n",
              "      </button>\n",
              "      \n",
              "  <style>\n",
              "    .colab-df-container {\n",
              "      display:flex;\n",
              "      flex-wrap:wrap;\n",
              "      gap: 12px;\n",
              "    }\n",
              "\n",
              "    .colab-df-convert {\n",
              "      background-color: #E8F0FE;\n",
              "      border: none;\n",
              "      border-radius: 50%;\n",
              "      cursor: pointer;\n",
              "      display: none;\n",
              "      fill: #1967D2;\n",
              "      height: 32px;\n",
              "      padding: 0 0 0 0;\n",
              "      width: 32px;\n",
              "    }\n",
              "\n",
              "    .colab-df-convert:hover {\n",
              "      background-color: #E2EBFA;\n",
              "      box-shadow: 0px 1px 2px rgba(60, 64, 67, 0.3), 0px 1px 3px 1px rgba(60, 64, 67, 0.15);\n",
              "      fill: #174EA6;\n",
              "    }\n",
              "\n",
              "    [theme=dark] .colab-df-convert {\n",
              "      background-color: #3B4455;\n",
              "      fill: #D2E3FC;\n",
              "    }\n",
              "\n",
              "    [theme=dark] .colab-df-convert:hover {\n",
              "      background-color: #434B5C;\n",
              "      box-shadow: 0px 1px 3px 1px rgba(0, 0, 0, 0.15);\n",
              "      filter: drop-shadow(0px 1px 2px rgba(0, 0, 0, 0.3));\n",
              "      fill: #FFFFFF;\n",
              "    }\n",
              "  </style>\n",
              "\n",
              "      <script>\n",
              "        const buttonEl =\n",
              "          document.querySelector('#df-b0c8c55a-a2fd-436f-ac7b-359665b812b5 button.colab-df-convert');\n",
              "        buttonEl.style.display =\n",
              "          google.colab.kernel.accessAllowed ? 'block' : 'none';\n",
              "\n",
              "        async function convertToInteractive(key) {\n",
              "          const element = document.querySelector('#df-b0c8c55a-a2fd-436f-ac7b-359665b812b5');\n",
              "          const dataTable =\n",
              "            await google.colab.kernel.invokeFunction('convertToInteractive',\n",
              "                                                     [key], {});\n",
              "          if (!dataTable) return;\n",
              "\n",
              "          const docLinkHtml = 'Like what you see? Visit the ' +\n",
              "            '<a target=\"_blank\" href=https://colab.research.google.com/notebooks/data_table.ipynb>data table notebook</a>'\n",
              "            + ' to learn more about interactive tables.';\n",
              "          element.innerHTML = '';\n",
              "          dataTable['output_type'] = 'display_data';\n",
              "          await google.colab.output.renderOutput(dataTable, element);\n",
              "          const docLink = document.createElement('div');\n",
              "          docLink.innerHTML = docLinkHtml;\n",
              "          element.appendChild(docLink);\n",
              "        }\n",
              "      </script>\n",
              "    </div>\n",
              "  </div>\n",
              "  "
            ]
          },
          "metadata": {},
          "execution_count": 9
        }
      ]
    },
    {
      "cell_type": "markdown",
      "source": [
        "### Users table\n",
        "\n",
        "Because many ratings come from the same user, we may not want to use every user feature.\n",
        "Otherwise, we may get recommendations from the same user."
      ],
      "metadata": {
        "id": "jJ0qTpkAgp-i"
      }
    },
    {
      "cell_type": "code",
      "source": [
        "# Omit occupation and zip columns\n",
        "u_df = users.copy(deep=True)\n",
        "\n",
        "# Omit occupation and zip columns\n",
        "u_df = u_df[['uID','gender','age']]\n",
        "\n",
        "# Omit zip column\n",
        "# u_df = u_df[['uID','gender','age','occupation']]\n",
        "\n",
        "# Keep all columns\n",
        "# u_df = u_df[['uID','gender','age','occupation','zip']]\n",
        "\n",
        "# Encode the genders as integers\n",
        "ule = LabelEncoder()\n",
        "u_df['gender'] = ule.fit_transform(u_df['gender'])\n",
        "\n",
        "u_df.head()"
      ],
      "metadata": {
        "colab": {
          "base_uri": "https://localhost:8080/",
          "height": 0
        },
        "id": "5jx6ZtNXXAul",
        "outputId": "e767145e-635d-4fb3-aa7c-40eb7e866e22"
      },
      "execution_count": 10,
      "outputs": [
        {
          "output_type": "execute_result",
          "data": {
            "text/plain": [
              "   uID  gender  age\n",
              "0    1       0    1\n",
              "1    2       1   56\n",
              "2    3       1   25\n",
              "3    4       1   45\n",
              "4    5       1   25"
            ],
            "text/html": [
              "\n",
              "  <div id=\"df-ba379fc8-fb90-4e42-b040-44cb8fc8060e\">\n",
              "    <div class=\"colab-df-container\">\n",
              "      <div>\n",
              "<style scoped>\n",
              "    .dataframe tbody tr th:only-of-type {\n",
              "        vertical-align: middle;\n",
              "    }\n",
              "\n",
              "    .dataframe tbody tr th {\n",
              "        vertical-align: top;\n",
              "    }\n",
              "\n",
              "    .dataframe thead th {\n",
              "        text-align: right;\n",
              "    }\n",
              "</style>\n",
              "<table border=\"1\" class=\"dataframe\">\n",
              "  <thead>\n",
              "    <tr style=\"text-align: right;\">\n",
              "      <th></th>\n",
              "      <th>uID</th>\n",
              "      <th>gender</th>\n",
              "      <th>age</th>\n",
              "    </tr>\n",
              "  </thead>\n",
              "  <tbody>\n",
              "    <tr>\n",
              "      <th>0</th>\n",
              "      <td>1</td>\n",
              "      <td>0</td>\n",
              "      <td>1</td>\n",
              "    </tr>\n",
              "    <tr>\n",
              "      <th>1</th>\n",
              "      <td>2</td>\n",
              "      <td>1</td>\n",
              "      <td>56</td>\n",
              "    </tr>\n",
              "    <tr>\n",
              "      <th>2</th>\n",
              "      <td>3</td>\n",
              "      <td>1</td>\n",
              "      <td>25</td>\n",
              "    </tr>\n",
              "    <tr>\n",
              "      <th>3</th>\n",
              "      <td>4</td>\n",
              "      <td>1</td>\n",
              "      <td>45</td>\n",
              "    </tr>\n",
              "    <tr>\n",
              "      <th>4</th>\n",
              "      <td>5</td>\n",
              "      <td>1</td>\n",
              "      <td>25</td>\n",
              "    </tr>\n",
              "  </tbody>\n",
              "</table>\n",
              "</div>\n",
              "      <button class=\"colab-df-convert\" onclick=\"convertToInteractive('df-ba379fc8-fb90-4e42-b040-44cb8fc8060e')\"\n",
              "              title=\"Convert this dataframe to an interactive table.\"\n",
              "              style=\"display:none;\">\n",
              "        \n",
              "  <svg xmlns=\"http://www.w3.org/2000/svg\" height=\"24px\"viewBox=\"0 0 24 24\"\n",
              "       width=\"24px\">\n",
              "    <path d=\"M0 0h24v24H0V0z\" fill=\"none\"/>\n",
              "    <path d=\"M18.56 5.44l.94 2.06.94-2.06 2.06-.94-2.06-.94-.94-2.06-.94 2.06-2.06.94zm-11 1L8.5 8.5l.94-2.06 2.06-.94-2.06-.94L8.5 2.5l-.94 2.06-2.06.94zm10 10l.94 2.06.94-2.06 2.06-.94-2.06-.94-.94-2.06-.94 2.06-2.06.94z\"/><path d=\"M17.41 7.96l-1.37-1.37c-.4-.4-.92-.59-1.43-.59-.52 0-1.04.2-1.43.59L10.3 9.45l-7.72 7.72c-.78.78-.78 2.05 0 2.83L4 21.41c.39.39.9.59 1.41.59.51 0 1.02-.2 1.41-.59l7.78-7.78 2.81-2.81c.8-.78.8-2.07 0-2.86zM5.41 20L4 18.59l7.72-7.72 1.47 1.35L5.41 20z\"/>\n",
              "  </svg>\n",
              "      </button>\n",
              "      \n",
              "  <style>\n",
              "    .colab-df-container {\n",
              "      display:flex;\n",
              "      flex-wrap:wrap;\n",
              "      gap: 12px;\n",
              "    }\n",
              "\n",
              "    .colab-df-convert {\n",
              "      background-color: #E8F0FE;\n",
              "      border: none;\n",
              "      border-radius: 50%;\n",
              "      cursor: pointer;\n",
              "      display: none;\n",
              "      fill: #1967D2;\n",
              "      height: 32px;\n",
              "      padding: 0 0 0 0;\n",
              "      width: 32px;\n",
              "    }\n",
              "\n",
              "    .colab-df-convert:hover {\n",
              "      background-color: #E2EBFA;\n",
              "      box-shadow: 0px 1px 2px rgba(60, 64, 67, 0.3), 0px 1px 3px 1px rgba(60, 64, 67, 0.15);\n",
              "      fill: #174EA6;\n",
              "    }\n",
              "\n",
              "    [theme=dark] .colab-df-convert {\n",
              "      background-color: #3B4455;\n",
              "      fill: #D2E3FC;\n",
              "    }\n",
              "\n",
              "    [theme=dark] .colab-df-convert:hover {\n",
              "      background-color: #434B5C;\n",
              "      box-shadow: 0px 1px 3px 1px rgba(0, 0, 0, 0.15);\n",
              "      filter: drop-shadow(0px 1px 2px rgba(0, 0, 0, 0.3));\n",
              "      fill: #FFFFFF;\n",
              "    }\n",
              "  </style>\n",
              "\n",
              "      <script>\n",
              "        const buttonEl =\n",
              "          document.querySelector('#df-ba379fc8-fb90-4e42-b040-44cb8fc8060e button.colab-df-convert');\n",
              "        buttonEl.style.display =\n",
              "          google.colab.kernel.accessAllowed ? 'block' : 'none';\n",
              "\n",
              "        async function convertToInteractive(key) {\n",
              "          const element = document.querySelector('#df-ba379fc8-fb90-4e42-b040-44cb8fc8060e');\n",
              "          const dataTable =\n",
              "            await google.colab.kernel.invokeFunction('convertToInteractive',\n",
              "                                                     [key], {});\n",
              "          if (!dataTable) return;\n",
              "\n",
              "          const docLinkHtml = 'Like what you see? Visit the ' +\n",
              "            '<a target=\"_blank\" href=https://colab.research.google.com/notebooks/data_table.ipynb>data table notebook</a>'\n",
              "            + ' to learn more about interactive tables.';\n",
              "          element.innerHTML = '';\n",
              "          dataTable['output_type'] = 'display_data';\n",
              "          await google.colab.output.renderOutput(dataTable, element);\n",
              "          const docLink = document.createElement('div');\n",
              "          docLink.innerHTML = docLinkHtml;\n",
              "          element.appendChild(docLink);\n",
              "        }\n",
              "      </script>\n",
              "    </div>\n",
              "  </div>\n",
              "  "
            ]
          },
          "metadata": {},
          "execution_count": 10
        }
      ]
    },
    {
      "cell_type": "markdown",
      "source": [
        "### Combined table\n",
        "\n",
        "Combine all three tables into one"
      ],
      "metadata": {
        "id": "fb8VoF5mg4wp"
      }
    },
    {
      "cell_type": "code",
      "source": [
        "result = pd.merge(r_df, m_df, left_on='mID', right_on='mID')\n",
        "result = pd.merge(result, u_df, left_on='uID', right_on='uID')\n",
        "\n",
        "# Omit uID and mID\n",
        "result = result[['genres','gender','age']]\n",
        "feature_count = result.shape[1]\n",
        "print(result.shape)\n",
        "result.head()"
      ],
      "metadata": {
        "colab": {
          "base_uri": "https://localhost:8080/",
          "height": 0
        },
        "id": "PCL-ANQAinRJ",
        "outputId": "bb4436d8-7e3f-41bc-e4af-1e1504cb5874"
      },
      "execution_count": 11,
      "outputs": [
        {
          "output_type": "stream",
          "name": "stdout",
          "text": [
            "(1000209, 3)\n"
          ]
        },
        {
          "output_type": "execute_result",
          "data": {
            "text/plain": [
              "   genres  gender  age\n",
              "0       7       0    1\n",
              "1       2       0    1\n",
              "2      11       0    1\n",
              "3       7       0    1\n",
              "4       2       0    1"
            ],
            "text/html": [
              "\n",
              "  <div id=\"df-bba577e6-614e-4d71-96d5-93ab40e7686a\">\n",
              "    <div class=\"colab-df-container\">\n",
              "      <div>\n",
              "<style scoped>\n",
              "    .dataframe tbody tr th:only-of-type {\n",
              "        vertical-align: middle;\n",
              "    }\n",
              "\n",
              "    .dataframe tbody tr th {\n",
              "        vertical-align: top;\n",
              "    }\n",
              "\n",
              "    .dataframe thead th {\n",
              "        text-align: right;\n",
              "    }\n",
              "</style>\n",
              "<table border=\"1\" class=\"dataframe\">\n",
              "  <thead>\n",
              "    <tr style=\"text-align: right;\">\n",
              "      <th></th>\n",
              "      <th>genres</th>\n",
              "      <th>gender</th>\n",
              "      <th>age</th>\n",
              "    </tr>\n",
              "  </thead>\n",
              "  <tbody>\n",
              "    <tr>\n",
              "      <th>0</th>\n",
              "      <td>7</td>\n",
              "      <td>0</td>\n",
              "      <td>1</td>\n",
              "    </tr>\n",
              "    <tr>\n",
              "      <th>1</th>\n",
              "      <td>2</td>\n",
              "      <td>0</td>\n",
              "      <td>1</td>\n",
              "    </tr>\n",
              "    <tr>\n",
              "      <th>2</th>\n",
              "      <td>11</td>\n",
              "      <td>0</td>\n",
              "      <td>1</td>\n",
              "    </tr>\n",
              "    <tr>\n",
              "      <th>3</th>\n",
              "      <td>7</td>\n",
              "      <td>0</td>\n",
              "      <td>1</td>\n",
              "    </tr>\n",
              "    <tr>\n",
              "      <th>4</th>\n",
              "      <td>2</td>\n",
              "      <td>0</td>\n",
              "      <td>1</td>\n",
              "    </tr>\n",
              "  </tbody>\n",
              "</table>\n",
              "</div>\n",
              "      <button class=\"colab-df-convert\" onclick=\"convertToInteractive('df-bba577e6-614e-4d71-96d5-93ab40e7686a')\"\n",
              "              title=\"Convert this dataframe to an interactive table.\"\n",
              "              style=\"display:none;\">\n",
              "        \n",
              "  <svg xmlns=\"http://www.w3.org/2000/svg\" height=\"24px\"viewBox=\"0 0 24 24\"\n",
              "       width=\"24px\">\n",
              "    <path d=\"M0 0h24v24H0V0z\" fill=\"none\"/>\n",
              "    <path d=\"M18.56 5.44l.94 2.06.94-2.06 2.06-.94-2.06-.94-.94-2.06-.94 2.06-2.06.94zm-11 1L8.5 8.5l.94-2.06 2.06-.94-2.06-.94L8.5 2.5l-.94 2.06-2.06.94zm10 10l.94 2.06.94-2.06 2.06-.94-2.06-.94-.94-2.06-.94 2.06-2.06.94z\"/><path d=\"M17.41 7.96l-1.37-1.37c-.4-.4-.92-.59-1.43-.59-.52 0-1.04.2-1.43.59L10.3 9.45l-7.72 7.72c-.78.78-.78 2.05 0 2.83L4 21.41c.39.39.9.59 1.41.59.51 0 1.02-.2 1.41-.59l7.78-7.78 2.81-2.81c.8-.78.8-2.07 0-2.86zM5.41 20L4 18.59l7.72-7.72 1.47 1.35L5.41 20z\"/>\n",
              "  </svg>\n",
              "      </button>\n",
              "      \n",
              "  <style>\n",
              "    .colab-df-container {\n",
              "      display:flex;\n",
              "      flex-wrap:wrap;\n",
              "      gap: 12px;\n",
              "    }\n",
              "\n",
              "    .colab-df-convert {\n",
              "      background-color: #E8F0FE;\n",
              "      border: none;\n",
              "      border-radius: 50%;\n",
              "      cursor: pointer;\n",
              "      display: none;\n",
              "      fill: #1967D2;\n",
              "      height: 32px;\n",
              "      padding: 0 0 0 0;\n",
              "      width: 32px;\n",
              "    }\n",
              "\n",
              "    .colab-df-convert:hover {\n",
              "      background-color: #E2EBFA;\n",
              "      box-shadow: 0px 1px 2px rgba(60, 64, 67, 0.3), 0px 1px 3px 1px rgba(60, 64, 67, 0.15);\n",
              "      fill: #174EA6;\n",
              "    }\n",
              "\n",
              "    [theme=dark] .colab-df-convert {\n",
              "      background-color: #3B4455;\n",
              "      fill: #D2E3FC;\n",
              "    }\n",
              "\n",
              "    [theme=dark] .colab-df-convert:hover {\n",
              "      background-color: #434B5C;\n",
              "      box-shadow: 0px 1px 3px 1px rgba(0, 0, 0, 0.15);\n",
              "      filter: drop-shadow(0px 1px 2px rgba(0, 0, 0, 0.3));\n",
              "      fill: #FFFFFF;\n",
              "    }\n",
              "  </style>\n",
              "\n",
              "      <script>\n",
              "        const buttonEl =\n",
              "          document.querySelector('#df-bba577e6-614e-4d71-96d5-93ab40e7686a button.colab-df-convert');\n",
              "        buttonEl.style.display =\n",
              "          google.colab.kernel.accessAllowed ? 'block' : 'none';\n",
              "\n",
              "        async function convertToInteractive(key) {\n",
              "          const element = document.querySelector('#df-bba577e6-614e-4d71-96d5-93ab40e7686a');\n",
              "          const dataTable =\n",
              "            await google.colab.kernel.invokeFunction('convertToInteractive',\n",
              "                                                     [key], {});\n",
              "          if (!dataTable) return;\n",
              "\n",
              "          const docLinkHtml = 'Like what you see? Visit the ' +\n",
              "            '<a target=\"_blank\" href=https://colab.research.google.com/notebooks/data_table.ipynb>data table notebook</a>'\n",
              "            + ' to learn more about interactive tables.';\n",
              "          element.innerHTML = '';\n",
              "          dataTable['output_type'] = 'display_data';\n",
              "          await google.colab.output.renderOutput(dataTable, element);\n",
              "          const docLink = document.createElement('div');\n",
              "          docLink.innerHTML = docLinkHtml;\n",
              "          element.appendChild(docLink);\n",
              "        }\n",
              "      </script>\n",
              "    </div>\n",
              "  </div>\n",
              "  "
            ]
          },
          "metadata": {},
          "execution_count": 11
        }
      ]
    },
    {
      "cell_type": "markdown",
      "source": [
        "# Multi-dimensional Indexing"
      ],
      "metadata": {
        "id": "2t58bNbsjcYp"
      }
    },
    {
      "cell_type": "markdown",
      "source": [
        "## KD Tree\n",
        "\n",
        "Insert our combined table into a KD-Tree."
      ],
      "metadata": {
        "id": "PgJxg2LSj7kA"
      }
    },
    {
      "cell_type": "code",
      "source": [
        "from sklearn.metrics.pairwise import distance_metrics\n",
        "from sklearn.neighbors import KDTree"
      ],
      "metadata": {
        "id": "9F1QCGisj6JR"
      },
      "execution_count": 12,
      "outputs": []
    },
    {
      "cell_type": "code",
      "source": [
        "KDTree.valid_metrics"
      ],
      "metadata": {
        "colab": {
          "base_uri": "https://localhost:8080/"
        },
        "id": "c934vn3TnyzG",
        "outputId": "cdb34084-8e73-4cf9-e249-4c24b7538e6a"
      },
      "execution_count": 13,
      "outputs": [
        {
          "output_type": "execute_result",
          "data": {
            "text/plain": [
              "['euclidean',\n",
              " 'l2',\n",
              " 'minkowski',\n",
              " 'p',\n",
              " 'manhattan',\n",
              " 'cityblock',\n",
              " 'l1',\n",
              " 'chebyshev',\n",
              " 'infinity']"
            ]
          },
          "metadata": {},
          "execution_count": 13
        }
      ]
    },
    {
      "cell_type": "code",
      "source": [
        "# Default similarity metric is minkowski.\n",
        "\n",
        "# Create four trees for comparision\n",
        "start = time.time()\n",
        "kdt2 = KDTree(result, leaf_size=2, metric='euclidean')\n",
        "print(\"Time to train kdt2:\", time.time() - start)\n",
        "\n",
        "start = time.time()\n",
        "kdt4 = KDTree(result, leaf_size=4, metric='euclidean')\n",
        "print(\"Time to train kdt4:\", time.time() - start)\n",
        "\n",
        "start = time.time()\n",
        "kdt8 = KDTree(result, leaf_size=8, metric='euclidean')\n",
        "print(\"Time to train kdt8:\", time.time() - start)\n",
        "\n",
        "start = time.time()\n",
        "kdt16 = KDTree(result, leaf_size=16, metric='euclidean')\n",
        "print(\"Time to train kdt16:\", time.time() - start)"
      ],
      "metadata": {
        "id": "wOsQt9XokJcx",
        "colab": {
          "base_uri": "https://localhost:8080/"
        },
        "outputId": "934e3d4b-91e4-4ec2-990c-e4d15f7b1530"
      },
      "execution_count": 22,
      "outputs": [
        {
          "output_type": "stream",
          "name": "stdout",
          "text": [
            "Time to train kdt2: 1.033564567565918\n",
            "Time to train kdt4: 0.9127256870269775\n",
            "Time to train kdt8: 0.8331103324890137\n",
            "Time to train kdt16: 0.9205224514007568\n"
          ]
        }
      ]
    },
    {
      "cell_type": "markdown",
      "source": [
        "## LSH"
      ],
      "metadata": {
        "id": "jzJyiwfnj9To"
      }
    },
    {
      "cell_type": "code",
      "source": [
        "# If using Colab\n",
        "import sys\n",
        "sys.path.insert(0,'/content/gdrive/My Drive/Colab Notebooks/CMPE 266')\n",
        "# sys.path.insert(0,'/content/gdrive/My Drive/CMPE 266/Group Project')"
      ],
      "metadata": {
        "id": "b2aOu5mwZuU1"
      },
      "execution_count": 17,
      "outputs": []
    },
    {
      "cell_type": "code",
      "source": [
        "# Reuse lsh library provided from previous class activity\n",
        "# NOTE: This LSH library states that it is not the most optimal\n",
        "from lsh import clsh"
      ],
      "metadata": {
        "id": "eKJBrHYSmIOq"
      },
      "execution_count": 18,
      "outputs": []
    },
    {
      "cell_type": "code",
      "source": [
        "# Create six lsh for comparison\n",
        "\n",
        "# 2 functions\n",
        "start = time.time()\n",
        "lsh12 = clsh(result.to_numpy(), ntables=1, nfunctions=2)\n",
        "print(\"Time to train lsh12:\", time.time() - start)\n",
        "\n",
        "# 4 functions\n",
        "start = time.time()\n",
        "lsh14 = clsh(result.to_numpy(), ntables=1, nfunctions=4)\n",
        "print(\"Time to train lsh14:\", time.time() - start)\n",
        "\n",
        "# 8 functions\n",
        "start = time.time()\n",
        "lsh18 = clsh(result.to_numpy(), ntables=1, nfunctions=8)\n",
        "print(\"Time to train lsh18:\", time.time() - start)\n",
        "\n",
        "# 4 tables 2 functions\n",
        "start = time.time()\n",
        "lsh42 = clsh(result.to_numpy(), ntables=4, nfunctions=2)\n",
        "print(\"Time to train lsh42:\", time.time() - start)\n",
        "\n",
        "# 4 tables 4 functions\n",
        "start = time.time()\n",
        "lsh44 = clsh(result.to_numpy(), ntables=4, nfunctions=4)\n",
        "print(\"Time to train lsh44:\", time.time() - start)\n",
        "\n",
        "# 4 tables 8 functions\n",
        "start = time.time()\n",
        "lsh48 = clsh(result.to_numpy(), ntables=4, nfunctions=8)\n",
        "print(\"Time to train lsh48:\", time.time() - start)"
      ],
      "metadata": {
        "id": "-WVMN1YEZ3vP",
        "colab": {
          "base_uri": "https://localhost:8080/"
        },
        "outputId": "2bfe5f65-c5d7-47ce-9119-ddb69f41fba6"
      },
      "execution_count": 23,
      "outputs": [
        {
          "output_type": "stream",
          "name": "stdout",
          "text": [
            "Time to train lsh12: 5.172131299972534\n",
            "Time to train lsh14: 13.894601106643677\n",
            "Time to train lsh18: 22.716301918029785\n",
            "Time to train lsh42: 21.07439351081848\n",
            "Time to train lsh44: 57.07830023765564\n",
            "Time to train lsh48: 94.97461485862732\n"
          ]
        }
      ]
    },
    {
      "cell_type": "markdown",
      "source": [
        "# NN Querying"
      ],
      "metadata": {
        "id": "N9AiKXT6j2aT"
      }
    },
    {
      "cell_type": "markdown",
      "source": [
        "### Setup"
      ],
      "metadata": {
        "id": "Ohb4Zrwmis4y"
      }
    },
    {
      "cell_type": "code",
      "source": [
        "# Get the corresponding movies from a list of indices\n",
        "def get_recommendations(ind):\n",
        "  print(\"\\nRecommended movies:\")\n",
        "  for i in ind[0]:\n",
        "    mID = ratings.iloc[i]['mID']\n",
        "    movie = movies.loc[movies['mID'] == mID].iloc[0]['title']\n",
        "    print(movie)"
      ],
      "metadata": {
        "id": "c4yAnz0a3awv"
      },
      "execution_count": 24,
      "outputs": []
    },
    {
      "cell_type": "markdown",
      "source": [
        "## Define our user(s)"
      ],
      "metadata": {
        "id": "a762ra7U2Ary"
      }
    },
    {
      "cell_type": "code",
      "source": [
        "# Show query input parameters\n",
        "result.head(1)"
      ],
      "metadata": {
        "colab": {
          "base_uri": "https://localhost:8080/",
          "height": 0
        },
        "id": "ez6A1UiDuhIM",
        "outputId": "f247748f-1d29-4804-a6b6-090a8936b6b3"
      },
      "execution_count": 25,
      "outputs": [
        {
          "output_type": "execute_result",
          "data": {
            "text/plain": [
              "   genres  gender  age\n",
              "0       7       0    1"
            ],
            "text/html": [
              "\n",
              "  <div id=\"df-51086de8-f15f-4f6d-9baf-df5099d3366d\">\n",
              "    <div class=\"colab-df-container\">\n",
              "      <div>\n",
              "<style scoped>\n",
              "    .dataframe tbody tr th:only-of-type {\n",
              "        vertical-align: middle;\n",
              "    }\n",
              "\n",
              "    .dataframe tbody tr th {\n",
              "        vertical-align: top;\n",
              "    }\n",
              "\n",
              "    .dataframe thead th {\n",
              "        text-align: right;\n",
              "    }\n",
              "</style>\n",
              "<table border=\"1\" class=\"dataframe\">\n",
              "  <thead>\n",
              "    <tr style=\"text-align: right;\">\n",
              "      <th></th>\n",
              "      <th>genres</th>\n",
              "      <th>gender</th>\n",
              "      <th>age</th>\n",
              "    </tr>\n",
              "  </thead>\n",
              "  <tbody>\n",
              "    <tr>\n",
              "      <th>0</th>\n",
              "      <td>7</td>\n",
              "      <td>0</td>\n",
              "      <td>1</td>\n",
              "    </tr>\n",
              "  </tbody>\n",
              "</table>\n",
              "</div>\n",
              "      <button class=\"colab-df-convert\" onclick=\"convertToInteractive('df-51086de8-f15f-4f6d-9baf-df5099d3366d')\"\n",
              "              title=\"Convert this dataframe to an interactive table.\"\n",
              "              style=\"display:none;\">\n",
              "        \n",
              "  <svg xmlns=\"http://www.w3.org/2000/svg\" height=\"24px\"viewBox=\"0 0 24 24\"\n",
              "       width=\"24px\">\n",
              "    <path d=\"M0 0h24v24H0V0z\" fill=\"none\"/>\n",
              "    <path d=\"M18.56 5.44l.94 2.06.94-2.06 2.06-.94-2.06-.94-.94-2.06-.94 2.06-2.06.94zm-11 1L8.5 8.5l.94-2.06 2.06-.94-2.06-.94L8.5 2.5l-.94 2.06-2.06.94zm10 10l.94 2.06.94-2.06 2.06-.94-2.06-.94-.94-2.06-.94 2.06-2.06.94z\"/><path d=\"M17.41 7.96l-1.37-1.37c-.4-.4-.92-.59-1.43-.59-.52 0-1.04.2-1.43.59L10.3 9.45l-7.72 7.72c-.78.78-.78 2.05 0 2.83L4 21.41c.39.39.9.59 1.41.59.51 0 1.02-.2 1.41-.59l7.78-7.78 2.81-2.81c.8-.78.8-2.07 0-2.86zM5.41 20L4 18.59l7.72-7.72 1.47 1.35L5.41 20z\"/>\n",
              "  </svg>\n",
              "      </button>\n",
              "      \n",
              "  <style>\n",
              "    .colab-df-container {\n",
              "      display:flex;\n",
              "      flex-wrap:wrap;\n",
              "      gap: 12px;\n",
              "    }\n",
              "\n",
              "    .colab-df-convert {\n",
              "      background-color: #E8F0FE;\n",
              "      border: none;\n",
              "      border-radius: 50%;\n",
              "      cursor: pointer;\n",
              "      display: none;\n",
              "      fill: #1967D2;\n",
              "      height: 32px;\n",
              "      padding: 0 0 0 0;\n",
              "      width: 32px;\n",
              "    }\n",
              "\n",
              "    .colab-df-convert:hover {\n",
              "      background-color: #E2EBFA;\n",
              "      box-shadow: 0px 1px 2px rgba(60, 64, 67, 0.3), 0px 1px 3px 1px rgba(60, 64, 67, 0.15);\n",
              "      fill: #174EA6;\n",
              "    }\n",
              "\n",
              "    [theme=dark] .colab-df-convert {\n",
              "      background-color: #3B4455;\n",
              "      fill: #D2E3FC;\n",
              "    }\n",
              "\n",
              "    [theme=dark] .colab-df-convert:hover {\n",
              "      background-color: #434B5C;\n",
              "      box-shadow: 0px 1px 3px 1px rgba(0, 0, 0, 0.15);\n",
              "      filter: drop-shadow(0px 1px 2px rgba(0, 0, 0, 0.3));\n",
              "      fill: #FFFFFF;\n",
              "    }\n",
              "  </style>\n",
              "\n",
              "      <script>\n",
              "        const buttonEl =\n",
              "          document.querySelector('#df-51086de8-f15f-4f6d-9baf-df5099d3366d button.colab-df-convert');\n",
              "        buttonEl.style.display =\n",
              "          google.colab.kernel.accessAllowed ? 'block' : 'none';\n",
              "\n",
              "        async function convertToInteractive(key) {\n",
              "          const element = document.querySelector('#df-51086de8-f15f-4f6d-9baf-df5099d3366d');\n",
              "          const dataTable =\n",
              "            await google.colab.kernel.invokeFunction('convertToInteractive',\n",
              "                                                     [key], {});\n",
              "          if (!dataTable) return;\n",
              "\n",
              "          const docLinkHtml = 'Like what you see? Visit the ' +\n",
              "            '<a target=\"_blank\" href=https://colab.research.google.com/notebooks/data_table.ipynb>data table notebook</a>'\n",
              "            + ' to learn more about interactive tables.';\n",
              "          element.innerHTML = '';\n",
              "          dataTable['output_type'] = 'display_data';\n",
              "          await google.colab.output.renderOutput(dataTable, element);\n",
              "          const docLink = document.createElement('div');\n",
              "          docLink.innerHTML = docLinkHtml;\n",
              "          element.appendChild(docLink);\n",
              "        }\n",
              "      </script>\n",
              "    </div>\n",
              "  </div>\n",
              "  "
            ]
          },
          "metadata": {},
          "execution_count": 25
        }
      ]
    },
    {
      "cell_type": "code",
      "source": [
        "#Show genre mapping\n",
        "print(dict(zip(mle.classes_, mle.transform(mle.classes_))))"
      ],
      "metadata": {
        "colab": {
          "base_uri": "https://localhost:8080/"
        },
        "id": "Kc6Y9V7Hunm9",
        "outputId": "8632cac3-340f-4446-e649-f96d1c05d0a1"
      },
      "execution_count": 26,
      "outputs": [
        {
          "output_type": "stream",
          "name": "stdout",
          "text": [
            "{'Action': 0, 'Adventure': 1, 'Animation': 2, \"Children's\": 3, 'Comedy': 4, 'Crime': 5, 'Documentary': 6, 'Drama': 7, 'Fantasy': 8, 'Film-Noir': 9, 'Horror': 10, 'Musical': 11, 'Mystery': 12, 'Romance': 13, 'Sci-Fi': 14, 'Thriller': 15, 'War': 16, 'Western': 17}\n"
          ]
        }
      ]
    },
    {
      "cell_type": "code",
      "source": [
        "# Show gender mapping\n",
        "print(dict(zip(ule.classes_, ule.transform(ule.classes_))))"
      ],
      "metadata": {
        "colab": {
          "base_uri": "https://localhost:8080/"
        },
        "id": "InUvh2dvutql",
        "outputId": "cf4fb080-6af4-4830-b6c1-f6dc7f054f6d"
      },
      "execution_count": 27,
      "outputs": [
        {
          "output_type": "stream",
          "name": "stdout",
          "text": [
            "{'F': 0, 'M': 1}\n"
          ]
        }
      ]
    },
    {
      "cell_type": "markdown",
      "source": [
        "Age and occupation mappings can be found here: https://files.grouplens.org/datasets/movielens/ml-1m-README.txt\n",
        "\n",
        "under the USERS FILE DESCRIPTION section"
      ],
      "metadata": {
        "id": "RIJ9j17YvCx0"
      }
    },
    {
      "cell_type": "code",
      "source": [
        "# Define our user(s)\n",
        "user1 = [13, 0, 18] # Female, age 18-24, looking for Romance films\n",
        "user2 = [6, 1, 45] # Male, age 45-49, looking for Documentaries\n",
        "user3 = [1, 1, 25] # Male, age 25-43, looking for Adventure films\n",
        "\n",
        "# Define how many movies we want\n",
        "K = 5"
      ],
      "metadata": {
        "id": "7IimXKt4t_WN"
      },
      "execution_count": 28,
      "outputs": []
    },
    {
      "cell_type": "markdown",
      "source": [
        "## KD Tree"
      ],
      "metadata": {
        "id": "veJlAHFctW8g"
      }
    },
    {
      "cell_type": "code",
      "source": [
        "# Cound time of KDTree query, and return indices of similar user/preference\n",
        "def run_KD(tree, user, k):\n",
        "  start = time.time()\n",
        "  dist, ind = tree.query([user], k=k)\n",
        "  end = time.time()\n",
        "  print(\"Time: \", end - start)\n",
        "  return ind, end - start"
      ],
      "metadata": {
        "id": "GNXBZywY35r2"
      },
      "execution_count": 29,
      "outputs": []
    },
    {
      "cell_type": "code",
      "source": [
        "# Run query on user1, using KD-Tree with leaf-size=2\n",
        "print(\"Run query on user1, using KD-Tree with leaf-size=2\")\n",
        "ind, k12 = run_KD(kdt2, user1, K)\n",
        "get_recommendations(ind)\n",
        "\n",
        "# Run query on user1, using KD-Tree with leaf-size=4\n",
        "print(\"\\nRun query on user1, using KD-Tree with leaf-size=4\")\n",
        "ind, k14 = run_KD(kdt4, user1, K)\n",
        "get_recommendations(ind)\n",
        "\n",
        "# Run query on user1, using KD-Tree with leaf-size=8\n",
        "print(\"\\nRun query on user1, using KD-Tree with leaf-size=8\")\n",
        "ind, k18 = run_KD(kdt8, user1, K)\n",
        "get_recommendations(ind)\n",
        "\n",
        "# Run query on user1, using KD-Tree with leaf-size=16\n",
        "print(\"\\nRun query on user1, using KD-Tree with leaf-size=16\")\n",
        "ind, k116 = run_KD(kdt16, user1, K)\n",
        "get_recommendations(ind)"
      ],
      "metadata": {
        "colab": {
          "base_uri": "https://localhost:8080/"
        },
        "id": "QjkjEKV66ecY",
        "outputId": "c315f27a-c5f0-43cc-ba86-a8acee91d2ab"
      },
      "execution_count": 30,
      "outputs": [
        {
          "output_type": "stream",
          "name": "stdout",
          "text": [
            "Run query on user1, using KD-Tree with leaf-size=2\n",
            "Time:  0.0016438961029052734\n",
            "\n",
            "Recommended movies:\n",
            "Dark Crystal, The (1982)\n",
            "All About My Mother (Todo Sobre Mi Madre) (1999)\n",
            "Time Bandits (1981)\n",
            "Game, The (1997)\n",
            "Donnie Brasco (1997)\n",
            "\n",
            "Run query on user1, using KD-Tree with leaf-size=4\n",
            "Time:  0.00041174888610839844\n",
            "\n",
            "Recommended movies:\n",
            "Dark Crystal, The (1982)\n",
            "Time Bandits (1981)\n",
            "Braveheart (1995)\n",
            "Game, The (1997)\n",
            "Donnie Brasco (1997)\n",
            "\n",
            "Run query on user1, using KD-Tree with leaf-size=8\n",
            "Time:  0.0006928443908691406\n",
            "\n",
            "Recommended movies:\n",
            "Game, The (1997)\n",
            "Time Bandits (1981)\n",
            "My Dog Skip (1999)\n",
            "Donnie Brasco (1997)\n",
            "Dark Crystal, The (1982)\n",
            "\n",
            "Run query on user1, using KD-Tree with leaf-size=16\n",
            "Time:  0.0013790130615234375\n",
            "\n",
            "Recommended movies:\n",
            "Game, The (1997)\n",
            "Time Bandits (1981)\n",
            "What's Eating Gilbert Grape (1993)\n",
            "Donnie Brasco (1997)\n",
            "Dark Crystal, The (1982)\n"
          ]
        }
      ]
    },
    {
      "cell_type": "code",
      "source": [
        "# Run query on user2, using KD-Tree with leaf-size=2\n",
        "print(\"Run query on user2, using KD-Tree with leaf-size=2\")\n",
        "ind, k22 = run_KD(kdt2, user2, K)\n",
        "get_recommendations(ind)\n",
        "\n",
        "# Run query on user2, using KD-Tree with leaf-size=4\n",
        "print(\"\\nRun query on user2, using KD-Tree with leaf-size=4\")\n",
        "ind, k24 = run_KD(kdt4, user2, K)\n",
        "get_recommendations(ind)\n",
        "\n",
        "# Run query on user2, using KD-Tree with leaf-size=8\n",
        "print(\"\\nRun query on user2, using KD-Tree with leaf-size=8\")\n",
        "ind, k28 = run_KD(kdt8, user2, K)\n",
        "get_recommendations(ind)\n",
        "\n",
        "# Run query on user2, using KD-Tree with leaf-size=16\n",
        "print(\"\\nRun query on user2, using KD-Tree with leaf-size=16\")\n",
        "ind, k216 = run_KD(kdt16, user2, K)\n",
        "get_recommendations(ind)"
      ],
      "metadata": {
        "colab": {
          "base_uri": "https://localhost:8080/"
        },
        "id": "0TVK0ibx6eFw",
        "outputId": "fa3c214e-76c5-451a-a826-c62393c48d57"
      },
      "execution_count": 31,
      "outputs": [
        {
          "output_type": "stream",
          "name": "stdout",
          "text": [
            "Run query on user2, using KD-Tree with leaf-size=2\n",
            "Time:  0.0016791820526123047\n",
            "\n",
            "Recommended movies:\n",
            "Mystery Science Theater 3000: The Movie (1996)\n",
            "Little Big Man (1970)\n",
            "Haunting, The (1999)\n",
            "Creepshow (1982)\n",
            "Lost in Space (1998)\n",
            "\n",
            "Run query on user2, using KD-Tree with leaf-size=4\n",
            "Time:  0.00035762786865234375\n",
            "\n",
            "Recommended movies:\n",
            "Creepshow (1982)\n",
            "Little Big Man (1970)\n",
            "Lost in Space (1998)\n",
            "Haunting, The (1999)\n",
            "Mystery Science Theater 3000: The Movie (1996)\n",
            "\n",
            "Run query on user2, using KD-Tree with leaf-size=8\n",
            "Time:  0.0006763935089111328\n",
            "\n",
            "Recommended movies:\n",
            "Creepshow (1982)\n",
            "Lost in Space (1998)\n",
            "Mystery Science Theater 3000: The Movie (1996)\n",
            "Haunting, The (1999)\n",
            "Conan the Barbarian (1982)\n",
            "\n",
            "Run query on user2, using KD-Tree with leaf-size=16\n",
            "Time:  0.00039267539978027344\n",
            "\n",
            "Recommended movies:\n",
            "Haunting, The (1999)\n",
            "Lost in Space (1998)\n",
            "Mystery Science Theater 3000: The Movie (1996)\n",
            "Creepshow (1982)\n",
            "Conan the Barbarian (1982)\n"
          ]
        }
      ]
    },
    {
      "cell_type": "code",
      "source": [
        "# Run query on user3, using KD-Tree with leaf-size=2\n",
        "print(\"Run query on user3, using KD-Tree with leaf-size=2\")\n",
        "ind, k32 = run_KD(kdt2, user3, K)\n",
        "get_recommendations(ind)\n",
        "\n",
        "# Run query on user3, using KD-Tree with leaf-size=4\n",
        "print(\"\\nRun query on user3, using KD-Tree with leaf-size=4\")\n",
        "ind, k34 = run_KD(kdt4, user3, K)\n",
        "get_recommendations(ind)\n",
        "\n",
        "# Run query on user3, using KD-Tree with leaf-size=8\n",
        "print(\"\\nRun query on user3, using KD-Tree with leaf-size=8\")\n",
        "ind, k38 = run_KD(kdt8, user3, K)\n",
        "get_recommendations(ind)\n",
        "\n",
        "# Run query on user3, using KD-Tree with leaf-size=16\n",
        "print(\"\\nRun query on user3, using KD-Tree with leaf-size=16\")\n",
        "ind, k316 = run_KD(kdt16, user3, K)\n",
        "get_recommendations(ind)"
      ],
      "metadata": {
        "colab": {
          "base_uri": "https://localhost:8080/"
        },
        "id": "-NSdVmvMj5IY",
        "outputId": "02b1f078-c95f-478a-d5d0-4e94bb4cd39b"
      },
      "execution_count": 32,
      "outputs": [
        {
          "output_type": "stream",
          "name": "stdout",
          "text": [
            "Run query on user3, using KD-Tree with leaf-size=2\n",
            "Time:  0.003661632537841797\n",
            "\n",
            "Recommended movies:\n",
            "Natural Born Killers (1994)\n",
            "Tender Mercies (1983)\n",
            "Mission: Impossible (1996)\n",
            "Star Wars: Episode IV - A New Hope (1977)\n",
            "Abyss, The (1989)\n",
            "\n",
            "Run query on user3, using KD-Tree with leaf-size=4\n",
            "Time:  0.0016841888427734375\n",
            "\n",
            "Recommended movies:\n",
            "Star Wars: Episode IV - A New Hope (1977)\n",
            "Fast, Cheap & Out of Control (1997)\n",
            "Abyss, The (1989)\n",
            "Mission: Impossible (1996)\n",
            "Natural Born Killers (1994)\n",
            "\n",
            "Run query on user3, using KD-Tree with leaf-size=8\n",
            "Time:  0.0048296451568603516\n",
            "\n",
            "Recommended movies:\n",
            "Natural Born Killers (1994)\n",
            "Tender Mercies (1983)\n",
            "Mission: Impossible (1996)\n",
            "Star Wars: Episode IV - A New Hope (1977)\n",
            "Fast, Cheap & Out of Control (1997)\n",
            "\n",
            "Run query on user3, using KD-Tree with leaf-size=16\n",
            "Time:  0.0030777454376220703\n",
            "\n",
            "Recommended movies:\n",
            "Star Wars: Episode IV - A New Hope (1977)\n",
            "Tender Mercies (1983)\n",
            "Abyss, The (1989)\n",
            "Mission: Impossible (1996)\n",
            "Natural Born Killers (1994)\n"
          ]
        }
      ]
    },
    {
      "cell_type": "markdown",
      "source": [
        "## LSH"
      ],
      "metadata": {
        "id": "y6GL4cI9taTV"
      }
    },
    {
      "cell_type": "code",
      "source": [
        "import numpy as np"
      ],
      "metadata": {
        "id": "xc0ufxQMvpu8"
      },
      "execution_count": 33,
      "outputs": []
    },
    {
      "cell_type": "code",
      "source": [
        "# Count time of LSH query\n",
        "def run_lsh(lsh, user, k):\n",
        "  start = time.time()\n",
        "  ind = lsh.findNeighbors(user, k=k)\n",
        "  end = time.time()\n",
        "  print(\"Time: \", end - start)\n",
        "  return ind, end - start"
      ],
      "metadata": {
        "id": "NY2vijzrdzec"
      },
      "execution_count": 34,
      "outputs": []
    },
    {
      "cell_type": "code",
      "source": [
        "# Run query on user1, using LSH with 2 functions\n",
        "print(\"Run query on user1, using LSH with 2 functions\")\n",
        "ind, l112 = run_lsh(lsh12, np.array([user1]), K)\n",
        "get_recommendations(ind)\n",
        "\n",
        "# Run query on user1, using LSH with 4 functions\n",
        "print(\"\\nRun query on user1, using LSH with 4 functions\")\n",
        "ind, l114 = run_lsh(lsh14, np.array([user1]), K)\n",
        "get_recommendations(ind)\n",
        "\n",
        "# Run query on user1, using LSH with 8 functions\n",
        "print(\"\\nRun query on user1, using LSH with 8 functions\")\n",
        "ind, l118 = run_lsh(lsh18, np.array([user1]), K)\n",
        "get_recommendations(ind)\n",
        "\n",
        "# Run query on user1, using LSH with 4 tables 2 functions\n",
        "print(\"Run query on user1, using LSH with 4 tables 2 2 functions\")\n",
        "ind, l142 = run_lsh(lsh42, np.array([user1]), K)\n",
        "get_recommendations(ind)\n",
        "\n",
        "# Run query on user1, using LSH with 4 tables 4 functions\n",
        "print(\"\\nRun query on user1, using LSH with 4 tables 2 4 functions\")\n",
        "ind, l144 = run_lsh(lsh44, np.array([user1]), K)\n",
        "get_recommendations(ind)\n",
        "\n",
        "# Run query on user1, using LSH with 4 tables 8 functions\n",
        "print(\"\\nRun query on user1, using LSH with 4 tables 2 8 functions\")\n",
        "ind, l148 = run_lsh(lsh48, np.array([user1]), K)\n",
        "get_recommendations(ind)"
      ],
      "metadata": {
        "colab": {
          "base_uri": "https://localhost:8080/"
        },
        "id": "WeS3DkMaCcLd",
        "outputId": "6124992d-a752-41e9-f0ad-689a3f720439"
      },
      "execution_count": 35,
      "outputs": [
        {
          "output_type": "stream",
          "name": "stdout",
          "text": [
            "Run query on user1, using LSH with 2 functions\n",
            "Time:  19.070104360580444\n",
            "\n",
            "Recommended movies:\n",
            "Game, The (1997)\n",
            "Dark Crystal, The (1982)\n",
            "Donnie Brasco (1997)\n",
            "All About My Mother (Todo Sobre Mi Madre) (1999)\n",
            "Time Bandits (1981)\n",
            "\n",
            "Run query on user1, using LSH with 4 functions\n",
            "Time:  2.0396530628204346\n",
            "\n",
            "Recommended movies:\n",
            "Run Lola Run (Lola rennt) (1998)\n",
            "Wizard of Oz, The (1939)\n",
            "Beautician and the Beast, The (1997)\n",
            "Forces of Nature (1999)\n",
            "Blood Simple (1984)\n",
            "\n",
            "Run query on user1, using LSH with 8 functions\n",
            "Time:  0.24433183670043945\n",
            "\n",
            "Recommended movies:\n",
            "Batman (1989)\n",
            "Raging Bull (1980)\n",
            "Sting, The (1973)\n",
            "Love and Death (1975)\n",
            "American Beauty (1999)\n",
            "Run query on user1, using LSH with 4 tables 2 2 functions\n",
            "Time:  19.769280195236206\n",
            "\n",
            "Recommended movies:\n",
            "Game, The (1997)\n",
            "Dark Crystal, The (1982)\n",
            "Donnie Brasco (1997)\n",
            "All About My Mother (Todo Sobre Mi Madre) (1999)\n",
            "Time Bandits (1981)\n",
            "\n",
            "Run query on user1, using LSH with 4 tables 2 4 functions\n",
            "Time:  23.012451171875\n",
            "\n",
            "Recommended movies:\n",
            "Game, The (1997)\n",
            "Dark Crystal, The (1982)\n",
            "Donnie Brasco (1997)\n",
            "All About My Mother (Todo Sobre Mi Madre) (1999)\n",
            "Time Bandits (1981)\n",
            "\n",
            "Run query on user1, using LSH with 4 tables 2 8 functions\n",
            "Time:  24.03775906562805\n",
            "\n",
            "Recommended movies:\n",
            "Game, The (1997)\n",
            "Dark Crystal, The (1982)\n",
            "Donnie Brasco (1997)\n",
            "All About My Mother (Todo Sobre Mi Madre) (1999)\n",
            "Time Bandits (1981)\n"
          ]
        }
      ]
    },
    {
      "cell_type": "code",
      "source": [
        "# Run query on user2, using LSH with 2 functions\n",
        "print(\"Run query on user2, using LSH with 2 functions\")\n",
        "ind, l212 = run_lsh(lsh12, np.array([user2]), K)\n",
        "get_recommendations(ind)\n",
        "\n",
        "# Run query on user2, using LSH with 4 functions\n",
        "print(\"\\nRun query on user2, using LSH with 4 functions\")\n",
        "ind, l214 = run_lsh(lsh14, np.array([user2]), K)\n",
        "get_recommendations(ind)\n",
        "\n",
        "# Run query on user2, using LSH with 8 functions\n",
        "print(\"\\nRun query on user2, using LSH with 8 functions\")\n",
        "ind, l218 = run_lsh(lsh18, np.array([user2]), K)\n",
        "get_recommendations(ind)\n",
        "\n",
        "# Run query on user2, using LSH with 4 tables 2 functions\n",
        "print(\"Run query on user2, using LSH with 4 tables 2 2 functions\")\n",
        "ind, l242 = run_lsh(lsh42, np.array([user2]), K)\n",
        "get_recommendations(ind)\n",
        "\n",
        "# Run query on user2, using LSH with 4 tables 4 functions\n",
        "print(\"\\nRun query on user2, using LSH with 4 tables 2 4 functions\")\n",
        "ind, l244 = run_lsh(lsh44, np.array([user2]), K)\n",
        "get_recommendations(ind)\n",
        "\n",
        "# Run query on user2, using LSH with 4 tables 8 functions\n",
        "print(\"\\nRun query on user2, using LSH with 4 tables 2 8 functions\")\n",
        "ind, l248 = run_lsh(lsh48, np.array([user2]), K)\n",
        "get_recommendations(ind)"
      ],
      "metadata": {
        "colab": {
          "base_uri": "https://localhost:8080/"
        },
        "id": "lk1ftFA6Cb1f",
        "outputId": "2315e779-2f89-49a2-a307-d57ab7a06613"
      },
      "execution_count": 36,
      "outputs": [
        {
          "output_type": "stream",
          "name": "stdout",
          "text": [
            "Run query on user2, using LSH with 2 functions\n",
            "Time:  21.16823959350586\n",
            "\n",
            "Recommended movies:\n",
            "Haunting, The (1999)\n",
            "Creepshow (1982)\n",
            "Mystery Science Theater 3000: The Movie (1996)\n",
            "Lost in Space (1998)\n",
            "Little Big Man (1970)\n",
            "\n",
            "Run query on user2, using LSH with 4 functions\n",
            "Time:  15.52151107788086\n",
            "\n",
            "Recommended movies:\n",
            "Haunting, The (1999)\n",
            "Creepshow (1982)\n",
            "Mystery Science Theater 3000: The Movie (1996)\n",
            "Lost in Space (1998)\n",
            "Little Big Man (1970)\n",
            "\n",
            "Run query on user2, using LSH with 8 functions\n",
            "Time:  15.719181060791016\n",
            "\n",
            "Recommended movies:\n",
            "Haunting, The (1999)\n",
            "Creepshow (1982)\n",
            "Mystery Science Theater 3000: The Movie (1996)\n",
            "Lost in Space (1998)\n",
            "Little Big Man (1970)\n",
            "Run query on user2, using LSH with 4 tables 2 2 functions\n",
            "Time:  22.524784326553345\n",
            "\n",
            "Recommended movies:\n",
            "Haunting, The (1999)\n",
            "Creepshow (1982)\n",
            "Mystery Science Theater 3000: The Movie (1996)\n",
            "Lost in Space (1998)\n",
            "Little Big Man (1970)\n",
            "\n",
            "Run query on user2, using LSH with 4 tables 2 4 functions\n",
            "Time:  19.497164011001587\n",
            "\n",
            "Recommended movies:\n",
            "Haunting, The (1999)\n",
            "Creepshow (1982)\n",
            "Mystery Science Theater 3000: The Movie (1996)\n",
            "Lost in Space (1998)\n",
            "Little Big Man (1970)\n",
            "\n",
            "Run query on user2, using LSH with 4 tables 2 8 functions\n",
            "Time:  22.059277772903442\n",
            "\n",
            "Recommended movies:\n",
            "Haunting, The (1999)\n",
            "Creepshow (1982)\n",
            "Mystery Science Theater 3000: The Movie (1996)\n",
            "Lost in Space (1998)\n",
            "Little Big Man (1970)\n"
          ]
        }
      ]
    },
    {
      "cell_type": "code",
      "source": [
        "# Run query on user3, using LSH with 2 functions\n",
        "print(\"Run query on user3, using LSH with 2 functions\")\n",
        "ind, l312 = run_lsh(lsh12, np.array([user3]), K)\n",
        "get_recommendations(ind)\n",
        "\n",
        "# Run query on user3, using LSH with 4 functions\n",
        "print(\"\\nRun query on user3, using LSH with 4 functions\")\n",
        "ind, l314 = run_lsh(lsh14, np.array([user3]), K)\n",
        "get_recommendations(ind)\n",
        "\n",
        "# Run query on user3, using LSH with 8 functions\n",
        "print(\"\\nRun query on user3, using LSH with 8 functions\")\n",
        "ind, l318 = run_lsh(lsh18, np.array([user3]), K)\n",
        "get_recommendations(ind)\n",
        "\n",
        "# Run query on user3, using LSH with 4 tables 2 functions\n",
        "print(\"Run query on user3, using LSH with 4 tables 2 2 functions\")\n",
        "ind, l342 = run_lsh(lsh42, np.array([user3]), K)\n",
        "get_recommendations(ind)\n",
        "\n",
        "# Run query on user3, using LSH with 4 tables 4 functions\n",
        "print(\"\\nRun query on user3, using LSH with 4 tables 2 4 functions\")\n",
        "ind, l344 = run_lsh(lsh44, np.array([user3]), K)\n",
        "get_recommendations(ind)\n",
        "\n",
        "# Run query on user3, using LSH with 4 tables 8 functions\n",
        "print(\"\\nRun query on user3, using LSH with 4 tables 2 8 functions\")\n",
        "ind, l348 = run_lsh(lsh48, np.array([user3]), K)\n",
        "get_recommendations(ind)"
      ],
      "metadata": {
        "colab": {
          "base_uri": "https://localhost:8080/"
        },
        "id": "551yObrNtbwR",
        "outputId": "70e30fed-ccb5-4e1d-aef7-dbd99aa12c94"
      },
      "execution_count": 37,
      "outputs": [
        {
          "output_type": "stream",
          "name": "stdout",
          "text": [
            "Run query on user3, using LSH with 2 functions\n",
            "Time:  17.434277772903442\n",
            "\n",
            "Recommended movies:\n",
            "Mission: Impossible (1996)\n",
            "Star Wars: Episode IV - A New Hope (1977)\n",
            "Natural Born Killers (1994)\n",
            "Abyss, The (1989)\n",
            "Tender Mercies (1983)\n",
            "\n",
            "Run query on user3, using LSH with 4 functions\n",
            "Time:  16.600163459777832\n",
            "\n",
            "Recommended movies:\n",
            "Mission: Impossible (1996)\n",
            "Star Wars: Episode IV - A New Hope (1977)\n",
            "Natural Born Killers (1994)\n",
            "Abyss, The (1989)\n",
            "Tender Mercies (1983)\n",
            "\n",
            "Run query on user3, using LSH with 8 functions\n",
            "Time:  18.346718072891235\n",
            "\n",
            "Recommended movies:\n",
            "Mission: Impossible (1996)\n",
            "Star Wars: Episode IV - A New Hope (1977)\n",
            "Natural Born Killers (1994)\n",
            "Abyss, The (1989)\n",
            "Tender Mercies (1983)\n",
            "Run query on user3, using LSH with 4 tables 2 2 functions\n",
            "Time:  17.523998975753784\n",
            "\n",
            "Recommended movies:\n",
            "Mission: Impossible (1996)\n",
            "Star Wars: Episode IV - A New Hope (1977)\n",
            "Natural Born Killers (1994)\n",
            "Abyss, The (1989)\n",
            "Tender Mercies (1983)\n",
            "\n",
            "Run query on user3, using LSH with 4 tables 2 4 functions\n",
            "Time:  18.745213747024536\n",
            "\n",
            "Recommended movies:\n",
            "Mission: Impossible (1996)\n",
            "Star Wars: Episode IV - A New Hope (1977)\n",
            "Natural Born Killers (1994)\n",
            "Abyss, The (1989)\n",
            "Tender Mercies (1983)\n",
            "\n",
            "Run query on user3, using LSH with 4 tables 2 8 functions\n",
            "Time:  18.739476203918457\n",
            "\n",
            "Recommended movies:\n",
            "Mission: Impossible (1996)\n",
            "Star Wars: Episode IV - A New Hope (1977)\n",
            "Natural Born Killers (1994)\n",
            "Abyss, The (1989)\n",
            "Tender Mercies (1983)\n"
          ]
        }
      ]
    },
    {
      "cell_type": "markdown",
      "source": [
        "## No multi-dimensional index"
      ],
      "metadata": {
        "id": "oN4-fPM9zHg7"
      }
    },
    {
      "cell_type": "code",
      "source": [
        "from sklearn.neighbors import NearestNeighbors"
      ],
      "metadata": {
        "id": "O7TsfMw_0pTL"
      },
      "execution_count": 38,
      "outputs": []
    },
    {
      "cell_type": "code",
      "source": [
        "# Count time of regular NN query\n",
        "# Note that changing the algorithm to 'kd_tree' or 'ball_tree' gives similar results\n",
        "# to LSH and KD trees, but brute force is different. Is brute force more accurate\n",
        "# due to pairwise comparison with all points?\n",
        "def run_Brute(result, user, k):\n",
        "  nrst_neigh = NearestNeighbors(n_neighbors = k, algorithm = 'brute')\n",
        "  nrst_neigh.fit(result)\n",
        "  start = time.time()\n",
        "  dist, ind = nrst_neigh.kneighbors(user)\n",
        "  end = time.time()\n",
        "  print(\"Time: \", end - start)\n",
        "  return ind, end - start"
      ],
      "metadata": {
        "id": "I4fDgVfVzR4q"
      },
      "execution_count": 39,
      "outputs": []
    },
    {
      "cell_type": "code",
      "source": [
        "print(\"Run query on user1, using brute force\")\n",
        "ind, b1 = run_Brute(result.values, np.array([user1]), K)\n",
        "get_recommendations(ind)"
      ],
      "metadata": {
        "colab": {
          "base_uri": "https://localhost:8080/"
        },
        "id": "cZqSI0Ht3p9V",
        "outputId": "d97f79c6-431b-4d17-822a-74d05e88f566"
      },
      "execution_count": 40,
      "outputs": [
        {
          "output_type": "stream",
          "name": "stdout",
          "text": [
            "Run query on user1, using brute force\n",
            "Time:  0.05452609062194824\n",
            "\n",
            "Recommended movies:\n",
            "Creepshow (1982)\n",
            "Animal House (1978)\n",
            "Trading Places (1983)\n",
            "Backdraft (1991)\n",
            "Wild Wild West (1999)\n"
          ]
        }
      ]
    },
    {
      "cell_type": "code",
      "source": [
        "print(\"Run query on user2, using brute force\")\n",
        "ind, b2 = run_Brute(result.values, np.array([user2]), K)\n",
        "get_recommendations(ind)"
      ],
      "metadata": {
        "colab": {
          "base_uri": "https://localhost:8080/"
        },
        "id": "UM5RQ2iEBDEt",
        "outputId": "985db075-e248-4693-a29c-bf3c3dc2bdd5"
      },
      "execution_count": 41,
      "outputs": [
        {
          "output_type": "stream",
          "name": "stdout",
          "text": [
            "Run query on user2, using brute force\n",
            "Time:  0.03659987449645996\n",
            "\n",
            "Recommended movies:\n",
            "In the Line of Fire (1993)\n",
            "Rain Man (1988)\n",
            "They Shoot Horses, Don't They? (1969)\n",
            "Courage Under Fire (1996)\n",
            "Supercop (1992)\n"
          ]
        }
      ]
    },
    {
      "cell_type": "code",
      "source": [
        "print(\"Run query on user3, using brute force\")\n",
        "ind, b3 = run_Brute(result.values, np.array([user3]), K)\n",
        "get_recommendations(ind)"
      ],
      "metadata": {
        "colab": {
          "base_uri": "https://localhost:8080/"
        },
        "id": "s1xrfDt4BHSS",
        "outputId": "d0048382-b36d-4dbc-caca-2a13647e33ef"
      },
      "execution_count": 42,
      "outputs": [
        {
          "output_type": "stream",
          "name": "stdout",
          "text": [
            "Run query on user3, using brute force\n",
            "Time:  0.04035449028015137\n",
            "\n",
            "Recommended movies:\n",
            "Hustler, The (1961)\n",
            "Mask, The (1994)\n",
            "Dirty Dancing (1987)\n",
            "Superman II (1980)\n",
            "Manchurian Candidate, The (1962)\n"
          ]
        }
      ]
    },
    {
      "cell_type": "markdown",
      "source": [
        "# Results / Analysis"
      ],
      "metadata": {
        "id": "XZtYOTcp68lg"
      }
    },
    {
      "cell_type": "markdown",
      "source": [
        "Due to the limitations of our indexes and the number of total parameters we used, our recommendation system is neither optimal nor very accurate. \n",
        "Although, we should take note that the query results from the KDTrees and the LSHs are similar.\n",
        "\n",
        "Regardless, our main goal is to measure the performances of the two different multidimensional indexes."
      ],
      "metadata": {
        "id": "W7MJoU3bFAqE"
      }
    },
    {
      "cell_type": "markdown",
      "source": [
        "## KD Tree"
      ],
      "metadata": {
        "id": "36LMJY8gLTEe"
      }
    },
    {
      "cell_type": "code",
      "source": [
        "print(\"Using KD-Tree leaf-size 2, our NN query averaged:\")\n",
        "print((k12 + k22 + k32)/3,\"seconds of runtime.\")"
      ],
      "metadata": {
        "colab": {
          "base_uri": "https://localhost:8080/"
        },
        "id": "4Upepa_bBVkF",
        "outputId": "3f3beb9a-93c7-4d16-fd84-79aebc68167f"
      },
      "execution_count": 43,
      "outputs": [
        {
          "output_type": "stream",
          "name": "stdout",
          "text": [
            "Using KD-Tree leaf-size 2, our NN query averaged:\n",
            "0.0023282368977864585 seconds of runtime.\n"
          ]
        }
      ]
    },
    {
      "cell_type": "code",
      "source": [
        "print(\"Using KD-Tree leaf-size 4, our NN query averaged:\")\n",
        "print((k14 + k24 + k34)/3,\"seconds of runtime.\")"
      ],
      "metadata": {
        "colab": {
          "base_uri": "https://localhost:8080/"
        },
        "id": "VF3ivl4WBm3u",
        "outputId": "88239a3d-6fa6-45f8-e4c6-853b1dc159d0"
      },
      "execution_count": 44,
      "outputs": [
        {
          "output_type": "stream",
          "name": "stdout",
          "text": [
            "Using KD-Tree leaf-size 4, our NN query averaged:\n",
            "0.0008178551991780599 seconds of runtime.\n"
          ]
        }
      ]
    },
    {
      "cell_type": "code",
      "source": [
        "print(\"Using KD-Tree leaf-size 8, our NN query averaged:\")\n",
        "print((k18 + k28 + k38)/3,\"seconds of runtime.\")"
      ],
      "metadata": {
        "colab": {
          "base_uri": "https://localhost:8080/"
        },
        "id": "XwyGpdyiK-3u",
        "outputId": "30c0ac54-2d19-4fbc-ba6b-478bf0a1dd1f"
      },
      "execution_count": 45,
      "outputs": [
        {
          "output_type": "stream",
          "name": "stdout",
          "text": [
            "Using KD-Tree leaf-size 8, our NN query averaged:\n",
            "0.0020662943522135415 seconds of runtime.\n"
          ]
        }
      ]
    },
    {
      "cell_type": "code",
      "source": [
        "print(\"Using KD-Tree leaf-size 16, our NN query averaged:\")\n",
        "print((k116 + k216 + k316)/3,\"seconds of runtime.\")"
      ],
      "metadata": {
        "colab": {
          "base_uri": "https://localhost:8080/"
        },
        "id": "RzwOXZsVK_O7",
        "outputId": "729b38ea-f432-4321-cca1-abe805c4bace"
      },
      "execution_count": 46,
      "outputs": [
        {
          "output_type": "stream",
          "name": "stdout",
          "text": [
            "Using KD-Tree leaf-size 16, our NN query averaged:\n",
            "0.0016164779663085938 seconds of runtime.\n"
          ]
        }
      ]
    },
    {
      "cell_type": "markdown",
      "source": [
        "## LSH"
      ],
      "metadata": {
        "id": "q5V5HI7ULWAc"
      }
    },
    {
      "cell_type": "code",
      "source": [
        "print(\"Using LSH with 2 functions, our NN query averaged:\")\n",
        "print((l112 + l212 + l312)/3,\"seconds of runtime.\")"
      ],
      "metadata": {
        "colab": {
          "base_uri": "https://localhost:8080/"
        },
        "id": "qhK8u7YZB3HO",
        "outputId": "f53e542e-be18-4893-8d1e-902fcb68e8e1"
      },
      "execution_count": 47,
      "outputs": [
        {
          "output_type": "stream",
          "name": "stdout",
          "text": [
            "Using LSH with 2 functions, our NN query averaged:\n",
            "19.224207242329914 seconds of runtime.\n"
          ]
        }
      ]
    },
    {
      "cell_type": "code",
      "source": [
        "print(\"Using LSH with 4 functions, our NN query averaged:\")\n",
        "print((l114 + l214 + l314)/3,\"seconds of runtime.\")"
      ],
      "metadata": {
        "colab": {
          "base_uri": "https://localhost:8080/"
        },
        "id": "0oN07suiCqee",
        "outputId": "84fc4e30-55db-41cb-b97d-2c590e0ec0a6"
      },
      "execution_count": 48,
      "outputs": [
        {
          "output_type": "stream",
          "name": "stdout",
          "text": [
            "Using LSH with 4 functions, our NN query averaged:\n",
            "11.387109200159708 seconds of runtime.\n"
          ]
        }
      ]
    },
    {
      "cell_type": "code",
      "source": [
        "print(\"Using LSH with 8 functions, our NN query averaged:\")\n",
        "print((l118 + l218 + l318)/3,\"seconds of runtime.\")"
      ],
      "metadata": {
        "colab": {
          "base_uri": "https://localhost:8080/"
        },
        "id": "rl3dNrcRLi_b",
        "outputId": "66583b8c-a2ba-43be-e721-908ca7a132d8"
      },
      "execution_count": 49,
      "outputs": [
        {
          "output_type": "stream",
          "name": "stdout",
          "text": [
            "Using LSH with 8 functions, our NN query averaged:\n",
            "11.43674365679423 seconds of runtime.\n"
          ]
        }
      ]
    },
    {
      "cell_type": "code",
      "source": [
        "print(\"Using LSH with 4 tables 2 functions, our NN query averaged:\")\n",
        "print((l142 + l242 + l342)/3,\"seconds of runtime.\")"
      ],
      "metadata": {
        "colab": {
          "base_uri": "https://localhost:8080/"
        },
        "id": "QX7bJ7ZoLkVF",
        "outputId": "7a2756cc-fc85-476a-8714-ed0b009d320b"
      },
      "execution_count": 50,
      "outputs": [
        {
          "output_type": "stream",
          "name": "stdout",
          "text": [
            "Using LSH with 4 tables 2 functions, our NN query averaged:\n",
            "19.93935449918111 seconds of runtime.\n"
          ]
        }
      ]
    },
    {
      "cell_type": "code",
      "source": [
        "print(\"Using LSH with 4 tables 4 functions, our NN query averaged:\")\n",
        "print((l144 + l244 + l344)/3,\"seconds of runtime.\")"
      ],
      "metadata": {
        "colab": {
          "base_uri": "https://localhost:8080/"
        },
        "id": "hyOhryTaL0fz",
        "outputId": "09f33589-8d48-40a9-f951-51dc71776df7"
      },
      "execution_count": 51,
      "outputs": [
        {
          "output_type": "stream",
          "name": "stdout",
          "text": [
            "Using LSH with 4 tables 4 functions, our NN query averaged:\n",
            "20.41827630996704 seconds of runtime.\n"
          ]
        }
      ]
    },
    {
      "cell_type": "code",
      "source": [
        "print(\"Using LSH with 4 tables 8 functions, our NN query averaged:\")\n",
        "print((l148 + l248 + l348)/3,\"seconds of runtime.\")"
      ],
      "metadata": {
        "colab": {
          "base_uri": "https://localhost:8080/"
        },
        "id": "FWMNycVmL08j",
        "outputId": "1222f53b-6f95-40fb-e577-666f70905f05"
      },
      "execution_count": 52,
      "outputs": [
        {
          "output_type": "stream",
          "name": "stdout",
          "text": [
            "Using LSH with 4 tables 8 functions, our NN query averaged:\n",
            "21.612171014149983 seconds of runtime.\n"
          ]
        }
      ]
    },
    {
      "cell_type": "markdown",
      "source": [
        "## Brute Force"
      ],
      "metadata": {
        "id": "24Dr4rdBLYAk"
      }
    },
    {
      "cell_type": "code",
      "source": [
        "print(\"Using brute force, our NN query averaged:\")\n",
        "print((b1 + b2 + b3)/3,\"seconds of runtime.\")"
      ],
      "metadata": {
        "colab": {
          "base_uri": "https://localhost:8080/"
        },
        "id": "g8Pei7Y5ByuI",
        "outputId": "884868ce-ac0b-40b0-c86d-5754cc280bc2"
      },
      "execution_count": 53,
      "outputs": [
        {
          "output_type": "stream",
          "name": "stdout",
          "text": [
            "Using brute force, our NN query averaged:\n",
            "0.04382681846618652 seconds of runtime.\n"
          ]
        }
      ]
    },
    {
      "cell_type": "markdown",
      "source": [
        "## Analysis"
      ],
      "metadata": {
        "id": "Vdm1dSl2LZvz"
      }
    },
    {
      "cell_type": "markdown",
      "source": [
        "### Training Time"
      ],
      "metadata": {
        "id": "bhp_k4mwNlWK"
      }
    },
    {
      "cell_type": "markdown",
      "source": [
        "For training time, the four KD-trees took arroximately ~1 second each to fit.\n",
        "- Time to train kdt2: 1.033564567565918\n",
        "- Time to train kdt4: 0.9127256870269775\n",
        "- Time to train kdt8: 0.8331103324890137\n",
        "- Time to train kdt16: 0.9205224514007568"
      ],
      "metadata": {
        "id": "xKD3mgG9QAqZ"
      }
    },
    {
      "cell_type": "markdown",
      "source": [
        "However for LSH, the training times took longer when we increased either the number of tables or the number of functions.\n",
        "\n",
        "- Time to train lsh12: 5.172131299972534\n",
        "- Time to train lsh14: 13.894601106643677\n",
        "- Time to train lsh18: 22.716301918029785\n",
        "- Time to train lsh42: 21.07439351081848\n",
        "- Time to train lsh44: 57.07830023765564\n",
        "- Time to train lsh48: 94.97461485862732"
      ],
      "metadata": {
        "id": "p5x3zwttNHyE"
      }
    },
    {
      "cell_type": "markdown",
      "source": [
        "### Recommendation Time"
      ],
      "metadata": {
        "id": "O9tY6F2NNnRy"
      }
    },
    {
      "cell_type": "markdown",
      "source": [
        "From our KD-Tree, there is no discernable pattern suggesting that increasing the leaf size would improve performance.\n",
        "\n",
        "For LSH, there was only improvement in performance when using a low number of tables and a higher number of functions. We see that using 1 table and 4/8 functions produced the fastest times, averaging ~11 seconds. The rest of the 4 LSHs averaged ~20 seconds.\n",
        "\n",
        "Our brute force method was slightly slower than KD-Tree, but it still out-performed LSH."
      ],
      "metadata": {
        "id": "4cXzhOIiCt0h"
      }
    },
    {
      "cell_type": "markdown",
      "source": [
        "### Recommendations"
      ],
      "metadata": {
        "id": "oLvfxEzMNpcy"
      }
    },
    {
      "cell_type": "markdown",
      "source": [
        "Movie recommendations mostly the same amongst the KD-Tree and LSH.\n",
        "\n",
        "For KD-Tree, slight variance in recommendations occured with bigger leaf sizes.\n",
        "\n",
        "For LSH, the results were consistent. \n",
        "\n",
        "The brute force method had a few similar recommendations compared to the first two methods."
      ],
      "metadata": {
        "id": "1I5P7Va6MYz7"
      }
    },
    {
      "cell_type": "markdown",
      "source": [
        "### Overview"
      ],
      "metadata": {
        "id": "8cacVk8sNrqa"
      }
    },
    {
      "cell_type": "markdown",
      "source": [
        "Comparing KD-Tree to LSH, our KD-tree performed significantly faster, in terms of both training and recommendation.\n",
        "\n",
        "Using brute force was also faster than LSH, but slower than the KD-Tree\n",
        "\n",
        "It is important to note that the LSH library used in our implementation is not optimal.\n",
        "\n",
        "Despite this, the results we have are expected. LSH addresses curse of dimensionality in KD-Trees. However, we are using a very low number of dimensions. With a low number of dimensions, a KD-Tree can outperform LSH. "
      ],
      "metadata": {
        "id": "weoAl9iZn1r_"
      }
    }
  ]
}