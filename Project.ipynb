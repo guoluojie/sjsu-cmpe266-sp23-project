{
  "nbformat": 4,
  "nbformat_minor": 0,
  "metadata": {
    "colab": {
      "provenance": [],
      "collapsed_sections": [
        "UZuIi2yGL3jD",
        "gLwRGGZNU12_",
        "AsP9HV5TVK0N",
        "fb8VoF5mg4wp",
        "jzJyiwfnj9To",
        "a762ra7U2Ary",
        "veJlAHFctW8g"
      ]
    },
    "kernelspec": {
      "name": "python3",
      "display_name": "Python 3"
    },
    "language_info": {
      "name": "python"
    }
  },
  "cells": [
    {
      "cell_type": "markdown",
      "source": [
        "CMPE 266-01\n",
        "\n",
        "Spring 2023\n",
        "\n",
        "Team: Phillip Nguyen, Xuewei Zheng, Roger Kuo"
      ],
      "metadata": {
        "id": "CFG16IKkLWTU"
      }
    },
    {
      "cell_type": "markdown",
      "source": [
        "Movie Recommendation System (using multi-dimensional indexing)"
      ],
      "metadata": {
        "id": "k2Fzl7nGLwab"
      }
    },
    {
      "cell_type": "markdown",
      "source": [
        "# Initialization"
      ],
      "metadata": {
        "id": "UZuIi2yGL3jD"
      }
    },
    {
      "cell_type": "code",
      "source": [
        "# If using Google Colab\n",
        "from google.colab import drive \n",
        "drive.mount('/content/gdrive')"
      ],
      "metadata": {
        "colab": {
          "base_uri": "https://localhost:8080/"
        },
        "id": "ZR--NjbvNJJq",
        "outputId": "9eb8ba67-a15d-4582-b902-6995e7b1ccb3"
      },
      "execution_count": 103,
      "outputs": [
        {
          "output_type": "stream",
          "name": "stdout",
          "text": [
            "Drive already mounted at /content/gdrive; to attempt to forcibly remount, call drive.mount(\"/content/gdrive\", force_remount=True).\n"
          ]
        }
      ]
    },
    {
      "cell_type": "code",
      "source": [
        "import pandas as pd"
      ],
      "metadata": {
        "id": "EeMicOF1NP-a"
      },
      "execution_count": 104,
      "outputs": []
    },
    {
      "cell_type": "markdown",
      "source": [
        "MovieLens 1M Dataset found here: https://grouplens.org/datasets/movielens/1m/"
      ],
      "metadata": {
        "id": "wT_wnZeEMAi6"
      }
    },
    {
      "cell_type": "code",
      "execution_count": 105,
      "metadata": {
        "id": "_VKAK-P-LKdJ"
      },
      "outputs": [],
      "source": [
        "# Change directory\n",
        "#directory = \"gdrive/My Drive/Colab Notebooks/CMPE 266/\"\n",
        "directory = \"gdrive/My Drive/CMPE 266/Group Project/\"\n",
        "\n",
        "movies = pd.read_csv(directory+\"movies.dat\", sep='::', names=['mID','title','genres'], engine='python', encoding=\"ISO-8859-1\")\n",
        "ratings = pd.read_csv(directory+\"ratings.dat\", sep='::', names=['uID','mID','rating','timestamp'], engine='python')\n",
        "users = pd.read_csv(directory+\"users.dat\", sep='::', names=['uID','gender','age','occupation','zip'], engine='python')"
      ]
    },
    {
      "cell_type": "markdown",
      "source": [
        "# Data Preparation"
      ],
      "metadata": {
        "id": "tX_3jJWEPnHg"
      }
    },
    {
      "cell_type": "markdown",
      "source": [
        "## View datasets"
      ],
      "metadata": {
        "id": "gLwRGGZNU12_"
      }
    },
    {
      "cell_type": "markdown",
      "source": [
        "Information on the tables and their columns: https://files.grouplens.org/datasets/movielens/ml-1m-README.txt"
      ],
      "metadata": {
        "id": "jUndl-A_WsoG"
      }
    },
    {
      "cell_type": "code",
      "source": [
        "print(movies.shape)\n",
        "movies.head()"
      ],
      "metadata": {
        "colab": {
          "base_uri": "https://localhost:8080/",
          "height": 224
        },
        "id": "Gmwopb1lPniI",
        "outputId": "95ce5635-a2fb-4fbc-e5ea-d263951f5669"
      },
      "execution_count": 106,
      "outputs": [
        {
          "output_type": "stream",
          "name": "stdout",
          "text": [
            "(3883, 3)\n"
          ]
        },
        {
          "output_type": "execute_result",
          "data": {
            "text/plain": [
              "   mID                               title                        genres\n",
              "0    1                    Toy Story (1995)   Animation|Children's|Comedy\n",
              "1    2                      Jumanji (1995)  Adventure|Children's|Fantasy\n",
              "2    3             Grumpier Old Men (1995)                Comedy|Romance\n",
              "3    4            Waiting to Exhale (1995)                  Comedy|Drama\n",
              "4    5  Father of the Bride Part II (1995)                        Comedy"
            ],
            "text/html": [
              "\n",
              "  <div id=\"df-fdfcb369-9f22-4dc4-b9d7-88c035ceb9b1\">\n",
              "    <div class=\"colab-df-container\">\n",
              "      <div>\n",
              "<style scoped>\n",
              "    .dataframe tbody tr th:only-of-type {\n",
              "        vertical-align: middle;\n",
              "    }\n",
              "\n",
              "    .dataframe tbody tr th {\n",
              "        vertical-align: top;\n",
              "    }\n",
              "\n",
              "    .dataframe thead th {\n",
              "        text-align: right;\n",
              "    }\n",
              "</style>\n",
              "<table border=\"1\" class=\"dataframe\">\n",
              "  <thead>\n",
              "    <tr style=\"text-align: right;\">\n",
              "      <th></th>\n",
              "      <th>mID</th>\n",
              "      <th>title</th>\n",
              "      <th>genres</th>\n",
              "    </tr>\n",
              "  </thead>\n",
              "  <tbody>\n",
              "    <tr>\n",
              "      <th>0</th>\n",
              "      <td>1</td>\n",
              "      <td>Toy Story (1995)</td>\n",
              "      <td>Animation|Children's|Comedy</td>\n",
              "    </tr>\n",
              "    <tr>\n",
              "      <th>1</th>\n",
              "      <td>2</td>\n",
              "      <td>Jumanji (1995)</td>\n",
              "      <td>Adventure|Children's|Fantasy</td>\n",
              "    </tr>\n",
              "    <tr>\n",
              "      <th>2</th>\n",
              "      <td>3</td>\n",
              "      <td>Grumpier Old Men (1995)</td>\n",
              "      <td>Comedy|Romance</td>\n",
              "    </tr>\n",
              "    <tr>\n",
              "      <th>3</th>\n",
              "      <td>4</td>\n",
              "      <td>Waiting to Exhale (1995)</td>\n",
              "      <td>Comedy|Drama</td>\n",
              "    </tr>\n",
              "    <tr>\n",
              "      <th>4</th>\n",
              "      <td>5</td>\n",
              "      <td>Father of the Bride Part II (1995)</td>\n",
              "      <td>Comedy</td>\n",
              "    </tr>\n",
              "  </tbody>\n",
              "</table>\n",
              "</div>\n",
              "      <button class=\"colab-df-convert\" onclick=\"convertToInteractive('df-fdfcb369-9f22-4dc4-b9d7-88c035ceb9b1')\"\n",
              "              title=\"Convert this dataframe to an interactive table.\"\n",
              "              style=\"display:none;\">\n",
              "        \n",
              "  <svg xmlns=\"http://www.w3.org/2000/svg\" height=\"24px\"viewBox=\"0 0 24 24\"\n",
              "       width=\"24px\">\n",
              "    <path d=\"M0 0h24v24H0V0z\" fill=\"none\"/>\n",
              "    <path d=\"M18.56 5.44l.94 2.06.94-2.06 2.06-.94-2.06-.94-.94-2.06-.94 2.06-2.06.94zm-11 1L8.5 8.5l.94-2.06 2.06-.94-2.06-.94L8.5 2.5l-.94 2.06-2.06.94zm10 10l.94 2.06.94-2.06 2.06-.94-2.06-.94-.94-2.06-.94 2.06-2.06.94z\"/><path d=\"M17.41 7.96l-1.37-1.37c-.4-.4-.92-.59-1.43-.59-.52 0-1.04.2-1.43.59L10.3 9.45l-7.72 7.72c-.78.78-.78 2.05 0 2.83L4 21.41c.39.39.9.59 1.41.59.51 0 1.02-.2 1.41-.59l7.78-7.78 2.81-2.81c.8-.78.8-2.07 0-2.86zM5.41 20L4 18.59l7.72-7.72 1.47 1.35L5.41 20z\"/>\n",
              "  </svg>\n",
              "      </button>\n",
              "      \n",
              "  <style>\n",
              "    .colab-df-container {\n",
              "      display:flex;\n",
              "      flex-wrap:wrap;\n",
              "      gap: 12px;\n",
              "    }\n",
              "\n",
              "    .colab-df-convert {\n",
              "      background-color: #E8F0FE;\n",
              "      border: none;\n",
              "      border-radius: 50%;\n",
              "      cursor: pointer;\n",
              "      display: none;\n",
              "      fill: #1967D2;\n",
              "      height: 32px;\n",
              "      padding: 0 0 0 0;\n",
              "      width: 32px;\n",
              "    }\n",
              "\n",
              "    .colab-df-convert:hover {\n",
              "      background-color: #E2EBFA;\n",
              "      box-shadow: 0px 1px 2px rgba(60, 64, 67, 0.3), 0px 1px 3px 1px rgba(60, 64, 67, 0.15);\n",
              "      fill: #174EA6;\n",
              "    }\n",
              "\n",
              "    [theme=dark] .colab-df-convert {\n",
              "      background-color: #3B4455;\n",
              "      fill: #D2E3FC;\n",
              "    }\n",
              "\n",
              "    [theme=dark] .colab-df-convert:hover {\n",
              "      background-color: #434B5C;\n",
              "      box-shadow: 0px 1px 3px 1px rgba(0, 0, 0, 0.15);\n",
              "      filter: drop-shadow(0px 1px 2px rgba(0, 0, 0, 0.3));\n",
              "      fill: #FFFFFF;\n",
              "    }\n",
              "  </style>\n",
              "\n",
              "      <script>\n",
              "        const buttonEl =\n",
              "          document.querySelector('#df-fdfcb369-9f22-4dc4-b9d7-88c035ceb9b1 button.colab-df-convert');\n",
              "        buttonEl.style.display =\n",
              "          google.colab.kernel.accessAllowed ? 'block' : 'none';\n",
              "\n",
              "        async function convertToInteractive(key) {\n",
              "          const element = document.querySelector('#df-fdfcb369-9f22-4dc4-b9d7-88c035ceb9b1');\n",
              "          const dataTable =\n",
              "            await google.colab.kernel.invokeFunction('convertToInteractive',\n",
              "                                                     [key], {});\n",
              "          if (!dataTable) return;\n",
              "\n",
              "          const docLinkHtml = 'Like what you see? Visit the ' +\n",
              "            '<a target=\"_blank\" href=https://colab.research.google.com/notebooks/data_table.ipynb>data table notebook</a>'\n",
              "            + ' to learn more about interactive tables.';\n",
              "          element.innerHTML = '';\n",
              "          dataTable['output_type'] = 'display_data';\n",
              "          await google.colab.output.renderOutput(dataTable, element);\n",
              "          const docLink = document.createElement('div');\n",
              "          docLink.innerHTML = docLinkHtml;\n",
              "          element.appendChild(docLink);\n",
              "        }\n",
              "      </script>\n",
              "    </div>\n",
              "  </div>\n",
              "  "
            ]
          },
          "metadata": {},
          "execution_count": 106
        }
      ]
    },
    {
      "cell_type": "code",
      "source": [
        "print(ratings.shape)\n",
        "ratings.head()"
      ],
      "metadata": {
        "colab": {
          "base_uri": "https://localhost:8080/",
          "height": 224
        },
        "id": "SKwIL5YsUutW",
        "outputId": "b6746427-cfbe-40cd-d9a7-5d2e80fa3544"
      },
      "execution_count": 107,
      "outputs": [
        {
          "output_type": "stream",
          "name": "stdout",
          "text": [
            "(1000209, 4)\n"
          ]
        },
        {
          "output_type": "execute_result",
          "data": {
            "text/plain": [
              "   uID   mID  rating  timestamp\n",
              "0    1  1193       5  978300760\n",
              "1    1   661       3  978302109\n",
              "2    1   914       3  978301968\n",
              "3    1  3408       4  978300275\n",
              "4    1  2355       5  978824291"
            ],
            "text/html": [
              "\n",
              "  <div id=\"df-703400c0-b291-4fd6-a52c-55b29eeafbdd\">\n",
              "    <div class=\"colab-df-container\">\n",
              "      <div>\n",
              "<style scoped>\n",
              "    .dataframe tbody tr th:only-of-type {\n",
              "        vertical-align: middle;\n",
              "    }\n",
              "\n",
              "    .dataframe tbody tr th {\n",
              "        vertical-align: top;\n",
              "    }\n",
              "\n",
              "    .dataframe thead th {\n",
              "        text-align: right;\n",
              "    }\n",
              "</style>\n",
              "<table border=\"1\" class=\"dataframe\">\n",
              "  <thead>\n",
              "    <tr style=\"text-align: right;\">\n",
              "      <th></th>\n",
              "      <th>uID</th>\n",
              "      <th>mID</th>\n",
              "      <th>rating</th>\n",
              "      <th>timestamp</th>\n",
              "    </tr>\n",
              "  </thead>\n",
              "  <tbody>\n",
              "    <tr>\n",
              "      <th>0</th>\n",
              "      <td>1</td>\n",
              "      <td>1193</td>\n",
              "      <td>5</td>\n",
              "      <td>978300760</td>\n",
              "    </tr>\n",
              "    <tr>\n",
              "      <th>1</th>\n",
              "      <td>1</td>\n",
              "      <td>661</td>\n",
              "      <td>3</td>\n",
              "      <td>978302109</td>\n",
              "    </tr>\n",
              "    <tr>\n",
              "      <th>2</th>\n",
              "      <td>1</td>\n",
              "      <td>914</td>\n",
              "      <td>3</td>\n",
              "      <td>978301968</td>\n",
              "    </tr>\n",
              "    <tr>\n",
              "      <th>3</th>\n",
              "      <td>1</td>\n",
              "      <td>3408</td>\n",
              "      <td>4</td>\n",
              "      <td>978300275</td>\n",
              "    </tr>\n",
              "    <tr>\n",
              "      <th>4</th>\n",
              "      <td>1</td>\n",
              "      <td>2355</td>\n",
              "      <td>5</td>\n",
              "      <td>978824291</td>\n",
              "    </tr>\n",
              "  </tbody>\n",
              "</table>\n",
              "</div>\n",
              "      <button class=\"colab-df-convert\" onclick=\"convertToInteractive('df-703400c0-b291-4fd6-a52c-55b29eeafbdd')\"\n",
              "              title=\"Convert this dataframe to an interactive table.\"\n",
              "              style=\"display:none;\">\n",
              "        \n",
              "  <svg xmlns=\"http://www.w3.org/2000/svg\" height=\"24px\"viewBox=\"0 0 24 24\"\n",
              "       width=\"24px\">\n",
              "    <path d=\"M0 0h24v24H0V0z\" fill=\"none\"/>\n",
              "    <path d=\"M18.56 5.44l.94 2.06.94-2.06 2.06-.94-2.06-.94-.94-2.06-.94 2.06-2.06.94zm-11 1L8.5 8.5l.94-2.06 2.06-.94-2.06-.94L8.5 2.5l-.94 2.06-2.06.94zm10 10l.94 2.06.94-2.06 2.06-.94-2.06-.94-.94-2.06-.94 2.06-2.06.94z\"/><path d=\"M17.41 7.96l-1.37-1.37c-.4-.4-.92-.59-1.43-.59-.52 0-1.04.2-1.43.59L10.3 9.45l-7.72 7.72c-.78.78-.78 2.05 0 2.83L4 21.41c.39.39.9.59 1.41.59.51 0 1.02-.2 1.41-.59l7.78-7.78 2.81-2.81c.8-.78.8-2.07 0-2.86zM5.41 20L4 18.59l7.72-7.72 1.47 1.35L5.41 20z\"/>\n",
              "  </svg>\n",
              "      </button>\n",
              "      \n",
              "  <style>\n",
              "    .colab-df-container {\n",
              "      display:flex;\n",
              "      flex-wrap:wrap;\n",
              "      gap: 12px;\n",
              "    }\n",
              "\n",
              "    .colab-df-convert {\n",
              "      background-color: #E8F0FE;\n",
              "      border: none;\n",
              "      border-radius: 50%;\n",
              "      cursor: pointer;\n",
              "      display: none;\n",
              "      fill: #1967D2;\n",
              "      height: 32px;\n",
              "      padding: 0 0 0 0;\n",
              "      width: 32px;\n",
              "    }\n",
              "\n",
              "    .colab-df-convert:hover {\n",
              "      background-color: #E2EBFA;\n",
              "      box-shadow: 0px 1px 2px rgba(60, 64, 67, 0.3), 0px 1px 3px 1px rgba(60, 64, 67, 0.15);\n",
              "      fill: #174EA6;\n",
              "    }\n",
              "\n",
              "    [theme=dark] .colab-df-convert {\n",
              "      background-color: #3B4455;\n",
              "      fill: #D2E3FC;\n",
              "    }\n",
              "\n",
              "    [theme=dark] .colab-df-convert:hover {\n",
              "      background-color: #434B5C;\n",
              "      box-shadow: 0px 1px 3px 1px rgba(0, 0, 0, 0.15);\n",
              "      filter: drop-shadow(0px 1px 2px rgba(0, 0, 0, 0.3));\n",
              "      fill: #FFFFFF;\n",
              "    }\n",
              "  </style>\n",
              "\n",
              "      <script>\n",
              "        const buttonEl =\n",
              "          document.querySelector('#df-703400c0-b291-4fd6-a52c-55b29eeafbdd button.colab-df-convert');\n",
              "        buttonEl.style.display =\n",
              "          google.colab.kernel.accessAllowed ? 'block' : 'none';\n",
              "\n",
              "        async function convertToInteractive(key) {\n",
              "          const element = document.querySelector('#df-703400c0-b291-4fd6-a52c-55b29eeafbdd');\n",
              "          const dataTable =\n",
              "            await google.colab.kernel.invokeFunction('convertToInteractive',\n",
              "                                                     [key], {});\n",
              "          if (!dataTable) return;\n",
              "\n",
              "          const docLinkHtml = 'Like what you see? Visit the ' +\n",
              "            '<a target=\"_blank\" href=https://colab.research.google.com/notebooks/data_table.ipynb>data table notebook</a>'\n",
              "            + ' to learn more about interactive tables.';\n",
              "          element.innerHTML = '';\n",
              "          dataTable['output_type'] = 'display_data';\n",
              "          await google.colab.output.renderOutput(dataTable, element);\n",
              "          const docLink = document.createElement('div');\n",
              "          docLink.innerHTML = docLinkHtml;\n",
              "          element.appendChild(docLink);\n",
              "        }\n",
              "      </script>\n",
              "    </div>\n",
              "  </div>\n",
              "  "
            ]
          },
          "metadata": {},
          "execution_count": 107
        }
      ]
    },
    {
      "cell_type": "code",
      "source": [
        "print(users.shape)\n",
        "users.head()"
      ],
      "metadata": {
        "colab": {
          "base_uri": "https://localhost:8080/",
          "height": 224
        },
        "id": "gjK49bhrUwgv",
        "outputId": "affb4412-40b3-45c0-c2c0-198b6575351d"
      },
      "execution_count": 108,
      "outputs": [
        {
          "output_type": "stream",
          "name": "stdout",
          "text": [
            "(6040, 5)\n"
          ]
        },
        {
          "output_type": "execute_result",
          "data": {
            "text/plain": [
              "   uID gender  age  occupation    zip\n",
              "0    1      F    1          10  48067\n",
              "1    2      M   56          16  70072\n",
              "2    3      M   25          15  55117\n",
              "3    4      M   45           7  02460\n",
              "4    5      M   25          20  55455"
            ],
            "text/html": [
              "\n",
              "  <div id=\"df-89275681-9e02-49bb-aeea-e33c8afd7e74\">\n",
              "    <div class=\"colab-df-container\">\n",
              "      <div>\n",
              "<style scoped>\n",
              "    .dataframe tbody tr th:only-of-type {\n",
              "        vertical-align: middle;\n",
              "    }\n",
              "\n",
              "    .dataframe tbody tr th {\n",
              "        vertical-align: top;\n",
              "    }\n",
              "\n",
              "    .dataframe thead th {\n",
              "        text-align: right;\n",
              "    }\n",
              "</style>\n",
              "<table border=\"1\" class=\"dataframe\">\n",
              "  <thead>\n",
              "    <tr style=\"text-align: right;\">\n",
              "      <th></th>\n",
              "      <th>uID</th>\n",
              "      <th>gender</th>\n",
              "      <th>age</th>\n",
              "      <th>occupation</th>\n",
              "      <th>zip</th>\n",
              "    </tr>\n",
              "  </thead>\n",
              "  <tbody>\n",
              "    <tr>\n",
              "      <th>0</th>\n",
              "      <td>1</td>\n",
              "      <td>F</td>\n",
              "      <td>1</td>\n",
              "      <td>10</td>\n",
              "      <td>48067</td>\n",
              "    </tr>\n",
              "    <tr>\n",
              "      <th>1</th>\n",
              "      <td>2</td>\n",
              "      <td>M</td>\n",
              "      <td>56</td>\n",
              "      <td>16</td>\n",
              "      <td>70072</td>\n",
              "    </tr>\n",
              "    <tr>\n",
              "      <th>2</th>\n",
              "      <td>3</td>\n",
              "      <td>M</td>\n",
              "      <td>25</td>\n",
              "      <td>15</td>\n",
              "      <td>55117</td>\n",
              "    </tr>\n",
              "    <tr>\n",
              "      <th>3</th>\n",
              "      <td>4</td>\n",
              "      <td>M</td>\n",
              "      <td>45</td>\n",
              "      <td>7</td>\n",
              "      <td>02460</td>\n",
              "    </tr>\n",
              "    <tr>\n",
              "      <th>4</th>\n",
              "      <td>5</td>\n",
              "      <td>M</td>\n",
              "      <td>25</td>\n",
              "      <td>20</td>\n",
              "      <td>55455</td>\n",
              "    </tr>\n",
              "  </tbody>\n",
              "</table>\n",
              "</div>\n",
              "      <button class=\"colab-df-convert\" onclick=\"convertToInteractive('df-89275681-9e02-49bb-aeea-e33c8afd7e74')\"\n",
              "              title=\"Convert this dataframe to an interactive table.\"\n",
              "              style=\"display:none;\">\n",
              "        \n",
              "  <svg xmlns=\"http://www.w3.org/2000/svg\" height=\"24px\"viewBox=\"0 0 24 24\"\n",
              "       width=\"24px\">\n",
              "    <path d=\"M0 0h24v24H0V0z\" fill=\"none\"/>\n",
              "    <path d=\"M18.56 5.44l.94 2.06.94-2.06 2.06-.94-2.06-.94-.94-2.06-.94 2.06-2.06.94zm-11 1L8.5 8.5l.94-2.06 2.06-.94-2.06-.94L8.5 2.5l-.94 2.06-2.06.94zm10 10l.94 2.06.94-2.06 2.06-.94-2.06-.94-.94-2.06-.94 2.06-2.06.94z\"/><path d=\"M17.41 7.96l-1.37-1.37c-.4-.4-.92-.59-1.43-.59-.52 0-1.04.2-1.43.59L10.3 9.45l-7.72 7.72c-.78.78-.78 2.05 0 2.83L4 21.41c.39.39.9.59 1.41.59.51 0 1.02-.2 1.41-.59l7.78-7.78 2.81-2.81c.8-.78.8-2.07 0-2.86zM5.41 20L4 18.59l7.72-7.72 1.47 1.35L5.41 20z\"/>\n",
              "  </svg>\n",
              "      </button>\n",
              "      \n",
              "  <style>\n",
              "    .colab-df-container {\n",
              "      display:flex;\n",
              "      flex-wrap:wrap;\n",
              "      gap: 12px;\n",
              "    }\n",
              "\n",
              "    .colab-df-convert {\n",
              "      background-color: #E8F0FE;\n",
              "      border: none;\n",
              "      border-radius: 50%;\n",
              "      cursor: pointer;\n",
              "      display: none;\n",
              "      fill: #1967D2;\n",
              "      height: 32px;\n",
              "      padding: 0 0 0 0;\n",
              "      width: 32px;\n",
              "    }\n",
              "\n",
              "    .colab-df-convert:hover {\n",
              "      background-color: #E2EBFA;\n",
              "      box-shadow: 0px 1px 2px rgba(60, 64, 67, 0.3), 0px 1px 3px 1px rgba(60, 64, 67, 0.15);\n",
              "      fill: #174EA6;\n",
              "    }\n",
              "\n",
              "    [theme=dark] .colab-df-convert {\n",
              "      background-color: #3B4455;\n",
              "      fill: #D2E3FC;\n",
              "    }\n",
              "\n",
              "    [theme=dark] .colab-df-convert:hover {\n",
              "      background-color: #434B5C;\n",
              "      box-shadow: 0px 1px 3px 1px rgba(0, 0, 0, 0.15);\n",
              "      filter: drop-shadow(0px 1px 2px rgba(0, 0, 0, 0.3));\n",
              "      fill: #FFFFFF;\n",
              "    }\n",
              "  </style>\n",
              "\n",
              "      <script>\n",
              "        const buttonEl =\n",
              "          document.querySelector('#df-89275681-9e02-49bb-aeea-e33c8afd7e74 button.colab-df-convert');\n",
              "        buttonEl.style.display =\n",
              "          google.colab.kernel.accessAllowed ? 'block' : 'none';\n",
              "\n",
              "        async function convertToInteractive(key) {\n",
              "          const element = document.querySelector('#df-89275681-9e02-49bb-aeea-e33c8afd7e74');\n",
              "          const dataTable =\n",
              "            await google.colab.kernel.invokeFunction('convertToInteractive',\n",
              "                                                     [key], {});\n",
              "          if (!dataTable) return;\n",
              "\n",
              "          const docLinkHtml = 'Like what you see? Visit the ' +\n",
              "            '<a target=\"_blank\" href=https://colab.research.google.com/notebooks/data_table.ipynb>data table notebook</a>'\n",
              "            + ' to learn more about interactive tables.';\n",
              "          element.innerHTML = '';\n",
              "          dataTable['output_type'] = 'display_data';\n",
              "          await google.colab.output.renderOutput(dataTable, element);\n",
              "          const docLink = document.createElement('div');\n",
              "          docLink.innerHTML = docLinkHtml;\n",
              "          element.appendChild(docLink);\n",
              "        }\n",
              "      </script>\n",
              "    </div>\n",
              "  </div>\n",
              "  "
            ]
          },
          "metadata": {},
          "execution_count": 108
        }
      ]
    },
    {
      "cell_type": "markdown",
      "source": [
        "## Preprocessing"
      ],
      "metadata": {
        "id": "AsP9HV5TVK0N"
      }
    },
    {
      "cell_type": "code",
      "source": [
        "from sklearn.preprocessing import LabelEncoder"
      ],
      "metadata": {
        "id": "bKisRi8_cMqk"
      },
      "execution_count": 109,
      "outputs": []
    },
    {
      "cell_type": "markdown",
      "source": [
        "### Movies table\n",
        "\n",
        "Omit the title column. We will use it later.\n",
        "\n",
        "Each movie can have multiple genres, sorted in alphabetical order. \n",
        "To simplify our process, we just use the first assigned genre.\n",
        "Otherwise we will have to incorporate more feature vectors.\n",
        "While this would work fine with machine learning, it is ineffiient for our purposes with multi-dimensional indexing."
      ],
      "metadata": {
        "id": "CvfRVd90csYb"
      }
    },
    {
      "cell_type": "code",
      "source": [
        "# Omit title column\n",
        "m_df = movies.copy(deep=True)\n",
        "m_df = m_df[['mID','genres']]\n",
        "# Simplify genres column\n",
        "m_df['genres'] = m_df['genres'].map(lambda genres: genres.split('|')[0])\n",
        "\n",
        "# Encode the genres as integers\n",
        "mle = LabelEncoder()\n",
        "m_df['genres'] = mle.fit_transform(m_df['genres'])\n",
        "\n",
        "m_df.head()"
      ],
      "metadata": {
        "colab": {
          "base_uri": "https://localhost:8080/",
          "height": 206
        },
        "id": "tYRmIGfKXAZr",
        "outputId": "bd3117fd-00d0-474b-e99d-ee02a27e0cc6"
      },
      "execution_count": 110,
      "outputs": [
        {
          "output_type": "execute_result",
          "data": {
            "text/plain": [
              "   mID  genres\n",
              "0    1       2\n",
              "1    2       1\n",
              "2    3       4\n",
              "3    4       4\n",
              "4    5       4"
            ],
            "text/html": [
              "\n",
              "  <div id=\"df-7a57acde-da48-492d-ab01-3cb09018df2b\">\n",
              "    <div class=\"colab-df-container\">\n",
              "      <div>\n",
              "<style scoped>\n",
              "    .dataframe tbody tr th:only-of-type {\n",
              "        vertical-align: middle;\n",
              "    }\n",
              "\n",
              "    .dataframe tbody tr th {\n",
              "        vertical-align: top;\n",
              "    }\n",
              "\n",
              "    .dataframe thead th {\n",
              "        text-align: right;\n",
              "    }\n",
              "</style>\n",
              "<table border=\"1\" class=\"dataframe\">\n",
              "  <thead>\n",
              "    <tr style=\"text-align: right;\">\n",
              "      <th></th>\n",
              "      <th>mID</th>\n",
              "      <th>genres</th>\n",
              "    </tr>\n",
              "  </thead>\n",
              "  <tbody>\n",
              "    <tr>\n",
              "      <th>0</th>\n",
              "      <td>1</td>\n",
              "      <td>2</td>\n",
              "    </tr>\n",
              "    <tr>\n",
              "      <th>1</th>\n",
              "      <td>2</td>\n",
              "      <td>1</td>\n",
              "    </tr>\n",
              "    <tr>\n",
              "      <th>2</th>\n",
              "      <td>3</td>\n",
              "      <td>4</td>\n",
              "    </tr>\n",
              "    <tr>\n",
              "      <th>3</th>\n",
              "      <td>4</td>\n",
              "      <td>4</td>\n",
              "    </tr>\n",
              "    <tr>\n",
              "      <th>4</th>\n",
              "      <td>5</td>\n",
              "      <td>4</td>\n",
              "    </tr>\n",
              "  </tbody>\n",
              "</table>\n",
              "</div>\n",
              "      <button class=\"colab-df-convert\" onclick=\"convertToInteractive('df-7a57acde-da48-492d-ab01-3cb09018df2b')\"\n",
              "              title=\"Convert this dataframe to an interactive table.\"\n",
              "              style=\"display:none;\">\n",
              "        \n",
              "  <svg xmlns=\"http://www.w3.org/2000/svg\" height=\"24px\"viewBox=\"0 0 24 24\"\n",
              "       width=\"24px\">\n",
              "    <path d=\"M0 0h24v24H0V0z\" fill=\"none\"/>\n",
              "    <path d=\"M18.56 5.44l.94 2.06.94-2.06 2.06-.94-2.06-.94-.94-2.06-.94 2.06-2.06.94zm-11 1L8.5 8.5l.94-2.06 2.06-.94-2.06-.94L8.5 2.5l-.94 2.06-2.06.94zm10 10l.94 2.06.94-2.06 2.06-.94-2.06-.94-.94-2.06-.94 2.06-2.06.94z\"/><path d=\"M17.41 7.96l-1.37-1.37c-.4-.4-.92-.59-1.43-.59-.52 0-1.04.2-1.43.59L10.3 9.45l-7.72 7.72c-.78.78-.78 2.05 0 2.83L4 21.41c.39.39.9.59 1.41.59.51 0 1.02-.2 1.41-.59l7.78-7.78 2.81-2.81c.8-.78.8-2.07 0-2.86zM5.41 20L4 18.59l7.72-7.72 1.47 1.35L5.41 20z\"/>\n",
              "  </svg>\n",
              "      </button>\n",
              "      \n",
              "  <style>\n",
              "    .colab-df-container {\n",
              "      display:flex;\n",
              "      flex-wrap:wrap;\n",
              "      gap: 12px;\n",
              "    }\n",
              "\n",
              "    .colab-df-convert {\n",
              "      background-color: #E8F0FE;\n",
              "      border: none;\n",
              "      border-radius: 50%;\n",
              "      cursor: pointer;\n",
              "      display: none;\n",
              "      fill: #1967D2;\n",
              "      height: 32px;\n",
              "      padding: 0 0 0 0;\n",
              "      width: 32px;\n",
              "    }\n",
              "\n",
              "    .colab-df-convert:hover {\n",
              "      background-color: #E2EBFA;\n",
              "      box-shadow: 0px 1px 2px rgba(60, 64, 67, 0.3), 0px 1px 3px 1px rgba(60, 64, 67, 0.15);\n",
              "      fill: #174EA6;\n",
              "    }\n",
              "\n",
              "    [theme=dark] .colab-df-convert {\n",
              "      background-color: #3B4455;\n",
              "      fill: #D2E3FC;\n",
              "    }\n",
              "\n",
              "    [theme=dark] .colab-df-convert:hover {\n",
              "      background-color: #434B5C;\n",
              "      box-shadow: 0px 1px 3px 1px rgba(0, 0, 0, 0.15);\n",
              "      filter: drop-shadow(0px 1px 2px rgba(0, 0, 0, 0.3));\n",
              "      fill: #FFFFFF;\n",
              "    }\n",
              "  </style>\n",
              "\n",
              "      <script>\n",
              "        const buttonEl =\n",
              "          document.querySelector('#df-7a57acde-da48-492d-ab01-3cb09018df2b button.colab-df-convert');\n",
              "        buttonEl.style.display =\n",
              "          google.colab.kernel.accessAllowed ? 'block' : 'none';\n",
              "\n",
              "        async function convertToInteractive(key) {\n",
              "          const element = document.querySelector('#df-7a57acde-da48-492d-ab01-3cb09018df2b');\n",
              "          const dataTable =\n",
              "            await google.colab.kernel.invokeFunction('convertToInteractive',\n",
              "                                                     [key], {});\n",
              "          if (!dataTable) return;\n",
              "\n",
              "          const docLinkHtml = 'Like what you see? Visit the ' +\n",
              "            '<a target=\"_blank\" href=https://colab.research.google.com/notebooks/data_table.ipynb>data table notebook</a>'\n",
              "            + ' to learn more about interactive tables.';\n",
              "          element.innerHTML = '';\n",
              "          dataTable['output_type'] = 'display_data';\n",
              "          await google.colab.output.renderOutput(dataTable, element);\n",
              "          const docLink = document.createElement('div');\n",
              "          docLink.innerHTML = docLinkHtml;\n",
              "          element.appendChild(docLink);\n",
              "        }\n",
              "      </script>\n",
              "    </div>\n",
              "  </div>\n",
              "  "
            ]
          },
          "metadata": {},
          "execution_count": 110
        }
      ]
    },
    {
      "cell_type": "markdown",
      "source": [
        "### Ratings table\n",
        "\n",
        "Omit the timestamp column. This feature is uselesss.\n",
        "\n",
        "Omit the rating column. We may use it later."
      ],
      "metadata": {
        "id": "9uVtgZ0SgKxi"
      }
    },
    {
      "cell_type": "code",
      "source": [
        "r_df = ratings.copy(deep=True)\n",
        "r_df = r_df[['uID','mID']]\n",
        "r_df.head()"
      ],
      "metadata": {
        "colab": {
          "base_uri": "https://localhost:8080/",
          "height": 206
        },
        "id": "9wkAnhpnVIJQ",
        "outputId": "046edc8e-9887-4940-a031-2904ca1573da"
      },
      "execution_count": 111,
      "outputs": [
        {
          "output_type": "execute_result",
          "data": {
            "text/plain": [
              "   uID   mID\n",
              "0    1  1193\n",
              "1    1   661\n",
              "2    1   914\n",
              "3    1  3408\n",
              "4    1  2355"
            ],
            "text/html": [
              "\n",
              "  <div id=\"df-0f4cb56f-4451-420f-8460-24aa8024b11a\">\n",
              "    <div class=\"colab-df-container\">\n",
              "      <div>\n",
              "<style scoped>\n",
              "    .dataframe tbody tr th:only-of-type {\n",
              "        vertical-align: middle;\n",
              "    }\n",
              "\n",
              "    .dataframe tbody tr th {\n",
              "        vertical-align: top;\n",
              "    }\n",
              "\n",
              "    .dataframe thead th {\n",
              "        text-align: right;\n",
              "    }\n",
              "</style>\n",
              "<table border=\"1\" class=\"dataframe\">\n",
              "  <thead>\n",
              "    <tr style=\"text-align: right;\">\n",
              "      <th></th>\n",
              "      <th>uID</th>\n",
              "      <th>mID</th>\n",
              "    </tr>\n",
              "  </thead>\n",
              "  <tbody>\n",
              "    <tr>\n",
              "      <th>0</th>\n",
              "      <td>1</td>\n",
              "      <td>1193</td>\n",
              "    </tr>\n",
              "    <tr>\n",
              "      <th>1</th>\n",
              "      <td>1</td>\n",
              "      <td>661</td>\n",
              "    </tr>\n",
              "    <tr>\n",
              "      <th>2</th>\n",
              "      <td>1</td>\n",
              "      <td>914</td>\n",
              "    </tr>\n",
              "    <tr>\n",
              "      <th>3</th>\n",
              "      <td>1</td>\n",
              "      <td>3408</td>\n",
              "    </tr>\n",
              "    <tr>\n",
              "      <th>4</th>\n",
              "      <td>1</td>\n",
              "      <td>2355</td>\n",
              "    </tr>\n",
              "  </tbody>\n",
              "</table>\n",
              "</div>\n",
              "      <button class=\"colab-df-convert\" onclick=\"convertToInteractive('df-0f4cb56f-4451-420f-8460-24aa8024b11a')\"\n",
              "              title=\"Convert this dataframe to an interactive table.\"\n",
              "              style=\"display:none;\">\n",
              "        \n",
              "  <svg xmlns=\"http://www.w3.org/2000/svg\" height=\"24px\"viewBox=\"0 0 24 24\"\n",
              "       width=\"24px\">\n",
              "    <path d=\"M0 0h24v24H0V0z\" fill=\"none\"/>\n",
              "    <path d=\"M18.56 5.44l.94 2.06.94-2.06 2.06-.94-2.06-.94-.94-2.06-.94 2.06-2.06.94zm-11 1L8.5 8.5l.94-2.06 2.06-.94-2.06-.94L8.5 2.5l-.94 2.06-2.06.94zm10 10l.94 2.06.94-2.06 2.06-.94-2.06-.94-.94-2.06-.94 2.06-2.06.94z\"/><path d=\"M17.41 7.96l-1.37-1.37c-.4-.4-.92-.59-1.43-.59-.52 0-1.04.2-1.43.59L10.3 9.45l-7.72 7.72c-.78.78-.78 2.05 0 2.83L4 21.41c.39.39.9.59 1.41.59.51 0 1.02-.2 1.41-.59l7.78-7.78 2.81-2.81c.8-.78.8-2.07 0-2.86zM5.41 20L4 18.59l7.72-7.72 1.47 1.35L5.41 20z\"/>\n",
              "  </svg>\n",
              "      </button>\n",
              "      \n",
              "  <style>\n",
              "    .colab-df-container {\n",
              "      display:flex;\n",
              "      flex-wrap:wrap;\n",
              "      gap: 12px;\n",
              "    }\n",
              "\n",
              "    .colab-df-convert {\n",
              "      background-color: #E8F0FE;\n",
              "      border: none;\n",
              "      border-radius: 50%;\n",
              "      cursor: pointer;\n",
              "      display: none;\n",
              "      fill: #1967D2;\n",
              "      height: 32px;\n",
              "      padding: 0 0 0 0;\n",
              "      width: 32px;\n",
              "    }\n",
              "\n",
              "    .colab-df-convert:hover {\n",
              "      background-color: #E2EBFA;\n",
              "      box-shadow: 0px 1px 2px rgba(60, 64, 67, 0.3), 0px 1px 3px 1px rgba(60, 64, 67, 0.15);\n",
              "      fill: #174EA6;\n",
              "    }\n",
              "\n",
              "    [theme=dark] .colab-df-convert {\n",
              "      background-color: #3B4455;\n",
              "      fill: #D2E3FC;\n",
              "    }\n",
              "\n",
              "    [theme=dark] .colab-df-convert:hover {\n",
              "      background-color: #434B5C;\n",
              "      box-shadow: 0px 1px 3px 1px rgba(0, 0, 0, 0.15);\n",
              "      filter: drop-shadow(0px 1px 2px rgba(0, 0, 0, 0.3));\n",
              "      fill: #FFFFFF;\n",
              "    }\n",
              "  </style>\n",
              "\n",
              "      <script>\n",
              "        const buttonEl =\n",
              "          document.querySelector('#df-0f4cb56f-4451-420f-8460-24aa8024b11a button.colab-df-convert');\n",
              "        buttonEl.style.display =\n",
              "          google.colab.kernel.accessAllowed ? 'block' : 'none';\n",
              "\n",
              "        async function convertToInteractive(key) {\n",
              "          const element = document.querySelector('#df-0f4cb56f-4451-420f-8460-24aa8024b11a');\n",
              "          const dataTable =\n",
              "            await google.colab.kernel.invokeFunction('convertToInteractive',\n",
              "                                                     [key], {});\n",
              "          if (!dataTable) return;\n",
              "\n",
              "          const docLinkHtml = 'Like what you see? Visit the ' +\n",
              "            '<a target=\"_blank\" href=https://colab.research.google.com/notebooks/data_table.ipynb>data table notebook</a>'\n",
              "            + ' to learn more about interactive tables.';\n",
              "          element.innerHTML = '';\n",
              "          dataTable['output_type'] = 'display_data';\n",
              "          await google.colab.output.renderOutput(dataTable, element);\n",
              "          const docLink = document.createElement('div');\n",
              "          docLink.innerHTML = docLinkHtml;\n",
              "          element.appendChild(docLink);\n",
              "        }\n",
              "      </script>\n",
              "    </div>\n",
              "  </div>\n",
              "  "
            ]
          },
          "metadata": {},
          "execution_count": 111
        }
      ]
    },
    {
      "cell_type": "markdown",
      "source": [
        "### Users table\n",
        "\n",
        "Because many ratings come from the same user, we may not want to use every user feature.\n",
        "Otherwise, we may get recommendations from the same user."
      ],
      "metadata": {
        "id": "jJ0qTpkAgp-i"
      }
    },
    {
      "cell_type": "code",
      "source": [
        "# Omit occupation and zip columns\n",
        "u_df = users.copy(deep=True)\n",
        "\n",
        "# Omit occupation and zip columns\n",
        "u_df = u_df[['uID','gender','age']]\n",
        "\n",
        "# Omit zip column\n",
        "# u_df = u_df[['uID','gender','age','occupation']]\n",
        "\n",
        "# Keep all columns\n",
        "# u_df = u_df[['uID','gender','age','occupation','zip']]\n",
        "\n",
        "# Encode the genders as integers\n",
        "ule = LabelEncoder()\n",
        "u_df['gender'] = ule.fit_transform(u_df['gender'])\n",
        "\n",
        "u_df.head()"
      ],
      "metadata": {
        "colab": {
          "base_uri": "https://localhost:8080/",
          "height": 206
        },
        "id": "5jx6ZtNXXAul",
        "outputId": "9e414a49-9a23-47b5-fcfc-c8392d9d5165"
      },
      "execution_count": 112,
      "outputs": [
        {
          "output_type": "execute_result",
          "data": {
            "text/plain": [
              "   uID  gender  age\n",
              "0    1       0    1\n",
              "1    2       1   56\n",
              "2    3       1   25\n",
              "3    4       1   45\n",
              "4    5       1   25"
            ],
            "text/html": [
              "\n",
              "  <div id=\"df-ccc0bcc3-393f-4950-adb1-3003581f3510\">\n",
              "    <div class=\"colab-df-container\">\n",
              "      <div>\n",
              "<style scoped>\n",
              "    .dataframe tbody tr th:only-of-type {\n",
              "        vertical-align: middle;\n",
              "    }\n",
              "\n",
              "    .dataframe tbody tr th {\n",
              "        vertical-align: top;\n",
              "    }\n",
              "\n",
              "    .dataframe thead th {\n",
              "        text-align: right;\n",
              "    }\n",
              "</style>\n",
              "<table border=\"1\" class=\"dataframe\">\n",
              "  <thead>\n",
              "    <tr style=\"text-align: right;\">\n",
              "      <th></th>\n",
              "      <th>uID</th>\n",
              "      <th>gender</th>\n",
              "      <th>age</th>\n",
              "    </tr>\n",
              "  </thead>\n",
              "  <tbody>\n",
              "    <tr>\n",
              "      <th>0</th>\n",
              "      <td>1</td>\n",
              "      <td>0</td>\n",
              "      <td>1</td>\n",
              "    </tr>\n",
              "    <tr>\n",
              "      <th>1</th>\n",
              "      <td>2</td>\n",
              "      <td>1</td>\n",
              "      <td>56</td>\n",
              "    </tr>\n",
              "    <tr>\n",
              "      <th>2</th>\n",
              "      <td>3</td>\n",
              "      <td>1</td>\n",
              "      <td>25</td>\n",
              "    </tr>\n",
              "    <tr>\n",
              "      <th>3</th>\n",
              "      <td>4</td>\n",
              "      <td>1</td>\n",
              "      <td>45</td>\n",
              "    </tr>\n",
              "    <tr>\n",
              "      <th>4</th>\n",
              "      <td>5</td>\n",
              "      <td>1</td>\n",
              "      <td>25</td>\n",
              "    </tr>\n",
              "  </tbody>\n",
              "</table>\n",
              "</div>\n",
              "      <button class=\"colab-df-convert\" onclick=\"convertToInteractive('df-ccc0bcc3-393f-4950-adb1-3003581f3510')\"\n",
              "              title=\"Convert this dataframe to an interactive table.\"\n",
              "              style=\"display:none;\">\n",
              "        \n",
              "  <svg xmlns=\"http://www.w3.org/2000/svg\" height=\"24px\"viewBox=\"0 0 24 24\"\n",
              "       width=\"24px\">\n",
              "    <path d=\"M0 0h24v24H0V0z\" fill=\"none\"/>\n",
              "    <path d=\"M18.56 5.44l.94 2.06.94-2.06 2.06-.94-2.06-.94-.94-2.06-.94 2.06-2.06.94zm-11 1L8.5 8.5l.94-2.06 2.06-.94-2.06-.94L8.5 2.5l-.94 2.06-2.06.94zm10 10l.94 2.06.94-2.06 2.06-.94-2.06-.94-.94-2.06-.94 2.06-2.06.94z\"/><path d=\"M17.41 7.96l-1.37-1.37c-.4-.4-.92-.59-1.43-.59-.52 0-1.04.2-1.43.59L10.3 9.45l-7.72 7.72c-.78.78-.78 2.05 0 2.83L4 21.41c.39.39.9.59 1.41.59.51 0 1.02-.2 1.41-.59l7.78-7.78 2.81-2.81c.8-.78.8-2.07 0-2.86zM5.41 20L4 18.59l7.72-7.72 1.47 1.35L5.41 20z\"/>\n",
              "  </svg>\n",
              "      </button>\n",
              "      \n",
              "  <style>\n",
              "    .colab-df-container {\n",
              "      display:flex;\n",
              "      flex-wrap:wrap;\n",
              "      gap: 12px;\n",
              "    }\n",
              "\n",
              "    .colab-df-convert {\n",
              "      background-color: #E8F0FE;\n",
              "      border: none;\n",
              "      border-radius: 50%;\n",
              "      cursor: pointer;\n",
              "      display: none;\n",
              "      fill: #1967D2;\n",
              "      height: 32px;\n",
              "      padding: 0 0 0 0;\n",
              "      width: 32px;\n",
              "    }\n",
              "\n",
              "    .colab-df-convert:hover {\n",
              "      background-color: #E2EBFA;\n",
              "      box-shadow: 0px 1px 2px rgba(60, 64, 67, 0.3), 0px 1px 3px 1px rgba(60, 64, 67, 0.15);\n",
              "      fill: #174EA6;\n",
              "    }\n",
              "\n",
              "    [theme=dark] .colab-df-convert {\n",
              "      background-color: #3B4455;\n",
              "      fill: #D2E3FC;\n",
              "    }\n",
              "\n",
              "    [theme=dark] .colab-df-convert:hover {\n",
              "      background-color: #434B5C;\n",
              "      box-shadow: 0px 1px 3px 1px rgba(0, 0, 0, 0.15);\n",
              "      filter: drop-shadow(0px 1px 2px rgba(0, 0, 0, 0.3));\n",
              "      fill: #FFFFFF;\n",
              "    }\n",
              "  </style>\n",
              "\n",
              "      <script>\n",
              "        const buttonEl =\n",
              "          document.querySelector('#df-ccc0bcc3-393f-4950-adb1-3003581f3510 button.colab-df-convert');\n",
              "        buttonEl.style.display =\n",
              "          google.colab.kernel.accessAllowed ? 'block' : 'none';\n",
              "\n",
              "        async function convertToInteractive(key) {\n",
              "          const element = document.querySelector('#df-ccc0bcc3-393f-4950-adb1-3003581f3510');\n",
              "          const dataTable =\n",
              "            await google.colab.kernel.invokeFunction('convertToInteractive',\n",
              "                                                     [key], {});\n",
              "          if (!dataTable) return;\n",
              "\n",
              "          const docLinkHtml = 'Like what you see? Visit the ' +\n",
              "            '<a target=\"_blank\" href=https://colab.research.google.com/notebooks/data_table.ipynb>data table notebook</a>'\n",
              "            + ' to learn more about interactive tables.';\n",
              "          element.innerHTML = '';\n",
              "          dataTable['output_type'] = 'display_data';\n",
              "          await google.colab.output.renderOutput(dataTable, element);\n",
              "          const docLink = document.createElement('div');\n",
              "          docLink.innerHTML = docLinkHtml;\n",
              "          element.appendChild(docLink);\n",
              "        }\n",
              "      </script>\n",
              "    </div>\n",
              "  </div>\n",
              "  "
            ]
          },
          "metadata": {},
          "execution_count": 112
        }
      ]
    },
    {
      "cell_type": "markdown",
      "source": [
        "### Combined table\n",
        "\n",
        "Combine all three tables into one"
      ],
      "metadata": {
        "id": "fb8VoF5mg4wp"
      }
    },
    {
      "cell_type": "code",
      "source": [
        "result = pd.merge(r_df, m_df, left_on='mID', right_on='mID')\n",
        "result = pd.merge(result, u_df, left_on='uID', right_on='uID')\n",
        "\n",
        "# Omit uID and mID\n",
        "result = result[['genres','gender','age']]\n",
        "feature_count = result.shape[1]\n",
        "print(result.shape)\n",
        "result.head()"
      ],
      "metadata": {
        "colab": {
          "base_uri": "https://localhost:8080/",
          "height": 224
        },
        "id": "PCL-ANQAinRJ",
        "outputId": "8795d2d2-5f71-4ffd-d975-42b8c0f45ef2"
      },
      "execution_count": 113,
      "outputs": [
        {
          "output_type": "stream",
          "name": "stdout",
          "text": [
            "(1000209, 3)\n"
          ]
        },
        {
          "output_type": "execute_result",
          "data": {
            "text/plain": [
              "   genres  gender  age\n",
              "0       7       0    1\n",
              "1       2       0    1\n",
              "2      11       0    1\n",
              "3       7       0    1\n",
              "4       2       0    1"
            ],
            "text/html": [
              "\n",
              "  <div id=\"df-f1a25eb8-7be0-4ec9-b0f8-d3da59190620\">\n",
              "    <div class=\"colab-df-container\">\n",
              "      <div>\n",
              "<style scoped>\n",
              "    .dataframe tbody tr th:only-of-type {\n",
              "        vertical-align: middle;\n",
              "    }\n",
              "\n",
              "    .dataframe tbody tr th {\n",
              "        vertical-align: top;\n",
              "    }\n",
              "\n",
              "    .dataframe thead th {\n",
              "        text-align: right;\n",
              "    }\n",
              "</style>\n",
              "<table border=\"1\" class=\"dataframe\">\n",
              "  <thead>\n",
              "    <tr style=\"text-align: right;\">\n",
              "      <th></th>\n",
              "      <th>genres</th>\n",
              "      <th>gender</th>\n",
              "      <th>age</th>\n",
              "    </tr>\n",
              "  </thead>\n",
              "  <tbody>\n",
              "    <tr>\n",
              "      <th>0</th>\n",
              "      <td>7</td>\n",
              "      <td>0</td>\n",
              "      <td>1</td>\n",
              "    </tr>\n",
              "    <tr>\n",
              "      <th>1</th>\n",
              "      <td>2</td>\n",
              "      <td>0</td>\n",
              "      <td>1</td>\n",
              "    </tr>\n",
              "    <tr>\n",
              "      <th>2</th>\n",
              "      <td>11</td>\n",
              "      <td>0</td>\n",
              "      <td>1</td>\n",
              "    </tr>\n",
              "    <tr>\n",
              "      <th>3</th>\n",
              "      <td>7</td>\n",
              "      <td>0</td>\n",
              "      <td>1</td>\n",
              "    </tr>\n",
              "    <tr>\n",
              "      <th>4</th>\n",
              "      <td>2</td>\n",
              "      <td>0</td>\n",
              "      <td>1</td>\n",
              "    </tr>\n",
              "  </tbody>\n",
              "</table>\n",
              "</div>\n",
              "      <button class=\"colab-df-convert\" onclick=\"convertToInteractive('df-f1a25eb8-7be0-4ec9-b0f8-d3da59190620')\"\n",
              "              title=\"Convert this dataframe to an interactive table.\"\n",
              "              style=\"display:none;\">\n",
              "        \n",
              "  <svg xmlns=\"http://www.w3.org/2000/svg\" height=\"24px\"viewBox=\"0 0 24 24\"\n",
              "       width=\"24px\">\n",
              "    <path d=\"M0 0h24v24H0V0z\" fill=\"none\"/>\n",
              "    <path d=\"M18.56 5.44l.94 2.06.94-2.06 2.06-.94-2.06-.94-.94-2.06-.94 2.06-2.06.94zm-11 1L8.5 8.5l.94-2.06 2.06-.94-2.06-.94L8.5 2.5l-.94 2.06-2.06.94zm10 10l.94 2.06.94-2.06 2.06-.94-2.06-.94-.94-2.06-.94 2.06-2.06.94z\"/><path d=\"M17.41 7.96l-1.37-1.37c-.4-.4-.92-.59-1.43-.59-.52 0-1.04.2-1.43.59L10.3 9.45l-7.72 7.72c-.78.78-.78 2.05 0 2.83L4 21.41c.39.39.9.59 1.41.59.51 0 1.02-.2 1.41-.59l7.78-7.78 2.81-2.81c.8-.78.8-2.07 0-2.86zM5.41 20L4 18.59l7.72-7.72 1.47 1.35L5.41 20z\"/>\n",
              "  </svg>\n",
              "      </button>\n",
              "      \n",
              "  <style>\n",
              "    .colab-df-container {\n",
              "      display:flex;\n",
              "      flex-wrap:wrap;\n",
              "      gap: 12px;\n",
              "    }\n",
              "\n",
              "    .colab-df-convert {\n",
              "      background-color: #E8F0FE;\n",
              "      border: none;\n",
              "      border-radius: 50%;\n",
              "      cursor: pointer;\n",
              "      display: none;\n",
              "      fill: #1967D2;\n",
              "      height: 32px;\n",
              "      padding: 0 0 0 0;\n",
              "      width: 32px;\n",
              "    }\n",
              "\n",
              "    .colab-df-convert:hover {\n",
              "      background-color: #E2EBFA;\n",
              "      box-shadow: 0px 1px 2px rgba(60, 64, 67, 0.3), 0px 1px 3px 1px rgba(60, 64, 67, 0.15);\n",
              "      fill: #174EA6;\n",
              "    }\n",
              "\n",
              "    [theme=dark] .colab-df-convert {\n",
              "      background-color: #3B4455;\n",
              "      fill: #D2E3FC;\n",
              "    }\n",
              "\n",
              "    [theme=dark] .colab-df-convert:hover {\n",
              "      background-color: #434B5C;\n",
              "      box-shadow: 0px 1px 3px 1px rgba(0, 0, 0, 0.15);\n",
              "      filter: drop-shadow(0px 1px 2px rgba(0, 0, 0, 0.3));\n",
              "      fill: #FFFFFF;\n",
              "    }\n",
              "  </style>\n",
              "\n",
              "      <script>\n",
              "        const buttonEl =\n",
              "          document.querySelector('#df-f1a25eb8-7be0-4ec9-b0f8-d3da59190620 button.colab-df-convert');\n",
              "        buttonEl.style.display =\n",
              "          google.colab.kernel.accessAllowed ? 'block' : 'none';\n",
              "\n",
              "        async function convertToInteractive(key) {\n",
              "          const element = document.querySelector('#df-f1a25eb8-7be0-4ec9-b0f8-d3da59190620');\n",
              "          const dataTable =\n",
              "            await google.colab.kernel.invokeFunction('convertToInteractive',\n",
              "                                                     [key], {});\n",
              "          if (!dataTable) return;\n",
              "\n",
              "          const docLinkHtml = 'Like what you see? Visit the ' +\n",
              "            '<a target=\"_blank\" href=https://colab.research.google.com/notebooks/data_table.ipynb>data table notebook</a>'\n",
              "            + ' to learn more about interactive tables.';\n",
              "          element.innerHTML = '';\n",
              "          dataTable['output_type'] = 'display_data';\n",
              "          await google.colab.output.renderOutput(dataTable, element);\n",
              "          const docLink = document.createElement('div');\n",
              "          docLink.innerHTML = docLinkHtml;\n",
              "          element.appendChild(docLink);\n",
              "        }\n",
              "      </script>\n",
              "    </div>\n",
              "  </div>\n",
              "  "
            ]
          },
          "metadata": {},
          "execution_count": 113
        }
      ]
    },
    {
      "cell_type": "markdown",
      "source": [
        "# Multi-dimensional Indexing"
      ],
      "metadata": {
        "id": "2t58bNbsjcYp"
      }
    },
    {
      "cell_type": "markdown",
      "source": [
        "## KD Tree\n",
        "\n",
        "Insert our combined table into a KD-Tree."
      ],
      "metadata": {
        "id": "PgJxg2LSj7kA"
      }
    },
    {
      "cell_type": "code",
      "source": [
        "from sklearn.metrics.pairwise import distance_metrics\n",
        "from sklearn.neighbors import KDTree"
      ],
      "metadata": {
        "id": "9F1QCGisj6JR"
      },
      "execution_count": 114,
      "outputs": []
    },
    {
      "cell_type": "code",
      "source": [
        "KDTree.valid_metrics"
      ],
      "metadata": {
        "colab": {
          "base_uri": "https://localhost:8080/"
        },
        "id": "c934vn3TnyzG",
        "outputId": "fdcab401-4b59-4a52-ede1-cd5e49ea2316"
      },
      "execution_count": 115,
      "outputs": [
        {
          "output_type": "execute_result",
          "data": {
            "text/plain": [
              "['euclidean',\n",
              " 'l2',\n",
              " 'minkowski',\n",
              " 'p',\n",
              " 'manhattan',\n",
              " 'cityblock',\n",
              " 'l1',\n",
              " 'chebyshev',\n",
              " 'infinity']"
            ]
          },
          "metadata": {},
          "execution_count": 115
        }
      ]
    },
    {
      "cell_type": "code",
      "source": [
        "# Default similarity metric is minkowski.\n",
        "\n",
        "# Create two trees for comparision\n",
        "kdt2 = KDTree(result, leaf_size=2, metric='euclidean')\n",
        "\n",
        "kdt4 = KDTree(result, leaf_size=4, metric='euclidean')"
      ],
      "metadata": {
        "id": "wOsQt9XokJcx"
      },
      "execution_count": 116,
      "outputs": []
    },
    {
      "cell_type": "markdown",
      "source": [
        "## LSH"
      ],
      "metadata": {
        "id": "jzJyiwfnj9To"
      }
    },
    {
      "cell_type": "code",
      "source": [
        "# If using Colab\n",
        "import sys\n",
        "#sys.path.insert(0,'/content/gdrive/My Drive/Colab Notebooks/CMPE 266')\n",
        "sys.path.insert(0,'/content/gdrive/My Drive/CMPE 266/Group Project')"
      ],
      "metadata": {
        "id": "b2aOu5mwZuU1"
      },
      "execution_count": 117,
      "outputs": []
    },
    {
      "cell_type": "code",
      "source": [
        "# Reuse lsh library provided from previous class activity\n",
        "# NOTE: This LSH library states that it is not the most optimal\n",
        "from lsh import clsh"
      ],
      "metadata": {
        "id": "eKJBrHYSmIOq"
      },
      "execution_count": 118,
      "outputs": []
    },
    {
      "cell_type": "code",
      "source": [
        "# Create two lsh for comparison\n",
        "\n",
        "# 2 functions\n",
        "lsh2 = clsh(result.to_numpy(), ntables=1, nfunctions=2)\n",
        "\n",
        "# 4 functions\n",
        "lsh4 = clsh(result.to_numpy(), ntables=1, nfunctions=4)"
      ],
      "metadata": {
        "id": "-WVMN1YEZ3vP"
      },
      "execution_count": 119,
      "outputs": []
    },
    {
      "cell_type": "markdown",
      "source": [
        "# NN Querying"
      ],
      "metadata": {
        "id": "N9AiKXT6j2aT"
      }
    },
    {
      "cell_type": "markdown",
      "source": [
        "### Setup"
      ],
      "metadata": {
        "id": "Ohb4Zrwmis4y"
      }
    },
    {
      "cell_type": "code",
      "source": [
        "import time"
      ],
      "metadata": {
        "id": "fcL8-BWNtkkV"
      },
      "execution_count": 120,
      "outputs": []
    },
    {
      "cell_type": "code",
      "source": [
        "# Get the corresponding movies from a list of indices\n",
        "def get_recommendations(ind):\n",
        "  print(\"\\nRecommended movies:\")\n",
        "  for i in ind[0]:\n",
        "    mID = ratings.iloc[i]['mID']\n",
        "    movie = movies.loc[movies['mID'] == mID].iloc[0]['title']\n",
        "    print(movie)"
      ],
      "metadata": {
        "id": "c4yAnz0a3awv"
      },
      "execution_count": 121,
      "outputs": []
    },
    {
      "cell_type": "markdown",
      "source": [
        "## Define our user(s)"
      ],
      "metadata": {
        "id": "a762ra7U2Ary"
      }
    },
    {
      "cell_type": "code",
      "source": [
        "# Show query input parameters\n",
        "result.head(1)"
      ],
      "metadata": {
        "colab": {
          "base_uri": "https://localhost:8080/",
          "height": 81
        },
        "id": "ez6A1UiDuhIM",
        "outputId": "ab7dba7c-fdb8-4413-ee4a-8228112ba468"
      },
      "execution_count": 122,
      "outputs": [
        {
          "output_type": "execute_result",
          "data": {
            "text/plain": [
              "   genres  gender  age\n",
              "0       7       0    1"
            ],
            "text/html": [
              "\n",
              "  <div id=\"df-ccaa7b6b-b2e0-4626-8449-52eb946e2b20\">\n",
              "    <div class=\"colab-df-container\">\n",
              "      <div>\n",
              "<style scoped>\n",
              "    .dataframe tbody tr th:only-of-type {\n",
              "        vertical-align: middle;\n",
              "    }\n",
              "\n",
              "    .dataframe tbody tr th {\n",
              "        vertical-align: top;\n",
              "    }\n",
              "\n",
              "    .dataframe thead th {\n",
              "        text-align: right;\n",
              "    }\n",
              "</style>\n",
              "<table border=\"1\" class=\"dataframe\">\n",
              "  <thead>\n",
              "    <tr style=\"text-align: right;\">\n",
              "      <th></th>\n",
              "      <th>genres</th>\n",
              "      <th>gender</th>\n",
              "      <th>age</th>\n",
              "    </tr>\n",
              "  </thead>\n",
              "  <tbody>\n",
              "    <tr>\n",
              "      <th>0</th>\n",
              "      <td>7</td>\n",
              "      <td>0</td>\n",
              "      <td>1</td>\n",
              "    </tr>\n",
              "  </tbody>\n",
              "</table>\n",
              "</div>\n",
              "      <button class=\"colab-df-convert\" onclick=\"convertToInteractive('df-ccaa7b6b-b2e0-4626-8449-52eb946e2b20')\"\n",
              "              title=\"Convert this dataframe to an interactive table.\"\n",
              "              style=\"display:none;\">\n",
              "        \n",
              "  <svg xmlns=\"http://www.w3.org/2000/svg\" height=\"24px\"viewBox=\"0 0 24 24\"\n",
              "       width=\"24px\">\n",
              "    <path d=\"M0 0h24v24H0V0z\" fill=\"none\"/>\n",
              "    <path d=\"M18.56 5.44l.94 2.06.94-2.06 2.06-.94-2.06-.94-.94-2.06-.94 2.06-2.06.94zm-11 1L8.5 8.5l.94-2.06 2.06-.94-2.06-.94L8.5 2.5l-.94 2.06-2.06.94zm10 10l.94 2.06.94-2.06 2.06-.94-2.06-.94-.94-2.06-.94 2.06-2.06.94z\"/><path d=\"M17.41 7.96l-1.37-1.37c-.4-.4-.92-.59-1.43-.59-.52 0-1.04.2-1.43.59L10.3 9.45l-7.72 7.72c-.78.78-.78 2.05 0 2.83L4 21.41c.39.39.9.59 1.41.59.51 0 1.02-.2 1.41-.59l7.78-7.78 2.81-2.81c.8-.78.8-2.07 0-2.86zM5.41 20L4 18.59l7.72-7.72 1.47 1.35L5.41 20z\"/>\n",
              "  </svg>\n",
              "      </button>\n",
              "      \n",
              "  <style>\n",
              "    .colab-df-container {\n",
              "      display:flex;\n",
              "      flex-wrap:wrap;\n",
              "      gap: 12px;\n",
              "    }\n",
              "\n",
              "    .colab-df-convert {\n",
              "      background-color: #E8F0FE;\n",
              "      border: none;\n",
              "      border-radius: 50%;\n",
              "      cursor: pointer;\n",
              "      display: none;\n",
              "      fill: #1967D2;\n",
              "      height: 32px;\n",
              "      padding: 0 0 0 0;\n",
              "      width: 32px;\n",
              "    }\n",
              "\n",
              "    .colab-df-convert:hover {\n",
              "      background-color: #E2EBFA;\n",
              "      box-shadow: 0px 1px 2px rgba(60, 64, 67, 0.3), 0px 1px 3px 1px rgba(60, 64, 67, 0.15);\n",
              "      fill: #174EA6;\n",
              "    }\n",
              "\n",
              "    [theme=dark] .colab-df-convert {\n",
              "      background-color: #3B4455;\n",
              "      fill: #D2E3FC;\n",
              "    }\n",
              "\n",
              "    [theme=dark] .colab-df-convert:hover {\n",
              "      background-color: #434B5C;\n",
              "      box-shadow: 0px 1px 3px 1px rgba(0, 0, 0, 0.15);\n",
              "      filter: drop-shadow(0px 1px 2px rgba(0, 0, 0, 0.3));\n",
              "      fill: #FFFFFF;\n",
              "    }\n",
              "  </style>\n",
              "\n",
              "      <script>\n",
              "        const buttonEl =\n",
              "          document.querySelector('#df-ccaa7b6b-b2e0-4626-8449-52eb946e2b20 button.colab-df-convert');\n",
              "        buttonEl.style.display =\n",
              "          google.colab.kernel.accessAllowed ? 'block' : 'none';\n",
              "\n",
              "        async function convertToInteractive(key) {\n",
              "          const element = document.querySelector('#df-ccaa7b6b-b2e0-4626-8449-52eb946e2b20');\n",
              "          const dataTable =\n",
              "            await google.colab.kernel.invokeFunction('convertToInteractive',\n",
              "                                                     [key], {});\n",
              "          if (!dataTable) return;\n",
              "\n",
              "          const docLinkHtml = 'Like what you see? Visit the ' +\n",
              "            '<a target=\"_blank\" href=https://colab.research.google.com/notebooks/data_table.ipynb>data table notebook</a>'\n",
              "            + ' to learn more about interactive tables.';\n",
              "          element.innerHTML = '';\n",
              "          dataTable['output_type'] = 'display_data';\n",
              "          await google.colab.output.renderOutput(dataTable, element);\n",
              "          const docLink = document.createElement('div');\n",
              "          docLink.innerHTML = docLinkHtml;\n",
              "          element.appendChild(docLink);\n",
              "        }\n",
              "      </script>\n",
              "    </div>\n",
              "  </div>\n",
              "  "
            ]
          },
          "metadata": {},
          "execution_count": 122
        }
      ]
    },
    {
      "cell_type": "code",
      "source": [
        "#Show genre mapping\n",
        "print(dict(zip(mle.classes_, mle.transform(mle.classes_))))"
      ],
      "metadata": {
        "colab": {
          "base_uri": "https://localhost:8080/"
        },
        "id": "Kc6Y9V7Hunm9",
        "outputId": "f7438ac8-58a1-4c38-98e7-09d6e0d49b33"
      },
      "execution_count": 123,
      "outputs": [
        {
          "output_type": "stream",
          "name": "stdout",
          "text": [
            "{'Action': 0, 'Adventure': 1, 'Animation': 2, \"Children's\": 3, 'Comedy': 4, 'Crime': 5, 'Documentary': 6, 'Drama': 7, 'Fantasy': 8, 'Film-Noir': 9, 'Horror': 10, 'Musical': 11, 'Mystery': 12, 'Romance': 13, 'Sci-Fi': 14, 'Thriller': 15, 'War': 16, 'Western': 17}\n"
          ]
        }
      ]
    },
    {
      "cell_type": "code",
      "source": [
        "# Show gender mapping\n",
        "print(dict(zip(ule.classes_, ule.transform(ule.classes_))))"
      ],
      "metadata": {
        "colab": {
          "base_uri": "https://localhost:8080/"
        },
        "id": "InUvh2dvutql",
        "outputId": "5ab17d5a-2733-4c89-ae51-88e05d063a3e"
      },
      "execution_count": 124,
      "outputs": [
        {
          "output_type": "stream",
          "name": "stdout",
          "text": [
            "{'F': 0, 'M': 1}\n"
          ]
        }
      ]
    },
    {
      "cell_type": "markdown",
      "source": [
        "Age and occupation mappings can be found here: https://files.grouplens.org/datasets/movielens/ml-1m-README.txt\n",
        "\n",
        "under the USERS FILE DESCRIPTION section"
      ],
      "metadata": {
        "id": "RIJ9j17YvCx0"
      }
    },
    {
      "cell_type": "code",
      "source": [
        "# Define our user(s)\n",
        "user1 = [13, 0, 18] # Female, age 18-24, looking for Romance films\n",
        "user2 = [6, 1, 45] # Male, age 45-49, looking for Documentaries\n",
        "user3 = [1, 1, 25] # Male, age 25-43, looking for Adventure films\n",
        "\n",
        "# Define how many movies we want\n",
        "K = 5"
      ],
      "metadata": {
        "id": "7IimXKt4t_WN"
      },
      "execution_count": 125,
      "outputs": []
    },
    {
      "cell_type": "markdown",
      "source": [
        "## KD Tree"
      ],
      "metadata": {
        "id": "veJlAHFctW8g"
      }
    },
    {
      "cell_type": "code",
      "source": [
        "# Cound time of KDTree query, and return indices of similar user/preference\n",
        "def run_KD(tree, user, k):\n",
        "  start = time.time()\n",
        "  dist, ind = tree.query([user], k=k)\n",
        "  end = time.time()\n",
        "  print(\"Time: \", end - start)\n",
        "  return ind, end - start"
      ],
      "metadata": {
        "id": "GNXBZywY35r2"
      },
      "execution_count": 126,
      "outputs": []
    },
    {
      "cell_type": "code",
      "source": [
        "# Run query on user1, using KD-Tree with leaf-size=2\n",
        "print(\"Run query on user1, using KD-Tree with leaf-size=2\")\n",
        "ind, k12 = run_KD(kdt2, user1, K)\n",
        "get_recommendations(ind)\n",
        "\n",
        "# Run query on user1, using KD-Tree with leaf-size=4\n",
        "print(\"\\nRun query on user1, using KD-Tree with leaf-size=4\")\n",
        "ind, k14 = run_KD(kdt4, user1, K)\n",
        "get_recommendations(ind)"
      ],
      "metadata": {
        "colab": {
          "base_uri": "https://localhost:8080/"
        },
        "id": "QjkjEKV66ecY",
        "outputId": "b6cb8e07-93e4-425b-e9f4-f53da9faa22e"
      },
      "execution_count": 127,
      "outputs": [
        {
          "output_type": "stream",
          "name": "stdout",
          "text": [
            "Run query on user1, using KD-Tree with leaf-size=2\n",
            "Time:  0.0005621910095214844\n",
            "\n",
            "Recommended movies:\n",
            "Dark Crystal, The (1982)\n",
            "All About My Mother (Todo Sobre Mi Madre) (1999)\n",
            "Time Bandits (1981)\n",
            "Game, The (1997)\n",
            "Donnie Brasco (1997)\n",
            "\n",
            "Run query on user1, using KD-Tree with leaf-size=4\n",
            "Time:  0.0004048347473144531\n",
            "\n",
            "Recommended movies:\n",
            "Dark Crystal, The (1982)\n",
            "Time Bandits (1981)\n",
            "Braveheart (1995)\n",
            "Game, The (1997)\n",
            "Donnie Brasco (1997)\n"
          ]
        }
      ]
    },
    {
      "cell_type": "code",
      "source": [
        "# Run query on user2, using KD-Tree with leaf-size=2\n",
        "print(\"Run query on user2, using KD-Tree with leaf-size=2\")\n",
        "ind, k22 = run_KD(kdt2, user2, K)\n",
        "get_recommendations(ind)\n",
        "\n",
        "# Run query on user2, using KD-Tree with leaf-size=4\n",
        "print(\"\\nRun query on user2, using KD-Tree with leaf-size=4\")\n",
        "ind, k24 = run_KD(kdt4, user2, K)\n",
        "get_recommendations(ind)"
      ],
      "metadata": {
        "colab": {
          "base_uri": "https://localhost:8080/"
        },
        "id": "0TVK0ibx6eFw",
        "outputId": "59fa48d0-5972-400d-d3e0-41cb84586360"
      },
      "execution_count": 128,
      "outputs": [
        {
          "output_type": "stream",
          "name": "stdout",
          "text": [
            "Run query on user2, using KD-Tree with leaf-size=2\n",
            "Time:  0.0005266666412353516\n",
            "\n",
            "Recommended movies:\n",
            "Mystery Science Theater 3000: The Movie (1996)\n",
            "Little Big Man (1970)\n",
            "Haunting, The (1999)\n",
            "Creepshow (1982)\n",
            "Lost in Space (1998)\n",
            "\n",
            "Run query on user2, using KD-Tree with leaf-size=4\n",
            "Time:  0.0003960132598876953\n",
            "\n",
            "Recommended movies:\n",
            "Creepshow (1982)\n",
            "Little Big Man (1970)\n",
            "Lost in Space (1998)\n",
            "Haunting, The (1999)\n",
            "Mystery Science Theater 3000: The Movie (1996)\n"
          ]
        }
      ]
    },
    {
      "cell_type": "code",
      "source": [
        "# Run query on user3, using KD-Tree with leaf-size=2\n",
        "print(\"Run query on user3, using KD-Tree with leaf-size=2\")\n",
        "ind, k32 = run_KD(kdt2, user3, K)\n",
        "get_recommendations(ind)\n",
        "\n",
        "# Run query on user3, using KD-Tree with leaf-size=4\n",
        "print(\"\\nRun query on user3, using KD-Tree with leaf-size=4\")\n",
        "ind, k34 = run_KD(kdt4, user3, K)\n",
        "get_recommendations(ind)"
      ],
      "metadata": {
        "colab": {
          "base_uri": "https://localhost:8080/"
        },
        "id": "-NSdVmvMj5IY",
        "outputId": "5caaf497-e250-4fd2-c6d6-a3034093e974"
      },
      "execution_count": 129,
      "outputs": [
        {
          "output_type": "stream",
          "name": "stdout",
          "text": [
            "Run query on user3, using KD-Tree with leaf-size=2\n",
            "Time:  0.002537965774536133\n",
            "\n",
            "Recommended movies:\n",
            "Natural Born Killers (1994)\n",
            "Tender Mercies (1983)\n",
            "Mission: Impossible (1996)\n",
            "Star Wars: Episode IV - A New Hope (1977)\n",
            "Abyss, The (1989)\n",
            "\n",
            "Run query on user3, using KD-Tree with leaf-size=4\n",
            "Time:  0.001636505126953125\n",
            "\n",
            "Recommended movies:\n",
            "Star Wars: Episode IV - A New Hope (1977)\n",
            "Fast, Cheap & Out of Control (1997)\n",
            "Abyss, The (1989)\n",
            "Mission: Impossible (1996)\n",
            "Natural Born Killers (1994)\n"
          ]
        }
      ]
    },
    {
      "cell_type": "markdown",
      "source": [
        "## LSH"
      ],
      "metadata": {
        "id": "y6GL4cI9taTV"
      }
    },
    {
      "cell_type": "code",
      "source": [
        "import numpy as np"
      ],
      "metadata": {
        "id": "xc0ufxQMvpu8"
      },
      "execution_count": 130,
      "outputs": []
    },
    {
      "cell_type": "code",
      "source": [
        "# Count time of LSH query\n",
        "def run_lsh(lsh, user, k):\n",
        "  start = time.time()\n",
        "  ind = lsh.findNeighbors(user, k=k)\n",
        "  end = time.time()\n",
        "  print(\"Time: \", end - start)\n",
        "  return ind, end - start"
      ],
      "metadata": {
        "id": "NY2vijzrdzec"
      },
      "execution_count": 131,
      "outputs": []
    },
    {
      "cell_type": "code",
      "source": [
        "# Run query on user1, using LSH with 2 functions\n",
        "print(\"Run query on user1, using LSH with 2 functions\")\n",
        "ind, l12 = run_lsh(lsh2, np.array([user1]), K)\n",
        "get_recommendations(ind)\n",
        "\n",
        "# Run query on user1, using LSH with 4 functions\n",
        "print(\"\\nRun query on user1, using LSH with 4 functions\")\n",
        "ind, l14 = run_lsh(lsh4, np.array([user1]), K)\n",
        "get_recommendations(ind)"
      ],
      "metadata": {
        "colab": {
          "base_uri": "https://localhost:8080/"
        },
        "id": "WeS3DkMaCcLd",
        "outputId": "ae074810-9eb8-4677-d801-d61d5e3491f4"
      },
      "execution_count": 132,
      "outputs": [
        {
          "output_type": "stream",
          "name": "stdout",
          "text": [
            "Run query on user1, using LSH with 2 functions\n",
            "Time:  17.345328330993652\n",
            "\n",
            "Recommended movies:\n",
            "Game, The (1997)\n",
            "Dark Crystal, The (1982)\n",
            "Donnie Brasco (1997)\n",
            "All About My Mother (Todo Sobre Mi Madre) (1999)\n",
            "Time Bandits (1981)\n",
            "\n",
            "Run query on user1, using LSH with 4 functions\n",
            "Time:  17.325838804244995\n",
            "\n",
            "Recommended movies:\n",
            "Game, The (1997)\n",
            "Dark Crystal, The (1982)\n",
            "Donnie Brasco (1997)\n",
            "All About My Mother (Todo Sobre Mi Madre) (1999)\n",
            "Time Bandits (1981)\n"
          ]
        }
      ]
    },
    {
      "cell_type": "code",
      "source": [
        "# Run query on user2, using LSH with 2 functions\n",
        "print(\"Run query on user2, using LSH with 2 functions\")\n",
        "ind, l22 = run_lsh(lsh2, np.array([user2]), K)\n",
        "get_recommendations(ind)\n",
        "\n",
        "# Run query on user2, using LSH with 4 functions\n",
        "print(\"\\nRun query on user2, using LSH with 4 functions\")\n",
        "ind, l24 = run_lsh(lsh4, np.array([user2]), K)\n",
        "get_recommendations(ind)"
      ],
      "metadata": {
        "colab": {
          "base_uri": "https://localhost:8080/"
        },
        "id": "lk1ftFA6Cb1f",
        "outputId": "8709dc30-f83c-4d1a-dc24-d7e9139a16af"
      },
      "execution_count": 133,
      "outputs": [
        {
          "output_type": "stream",
          "name": "stdout",
          "text": [
            "Run query on user2, using LSH with 2 functions\n",
            "Time:  20.17832350730896\n",
            "\n",
            "Recommended movies:\n",
            "Haunting, The (1999)\n",
            "Creepshow (1982)\n",
            "Mystery Science Theater 3000: The Movie (1996)\n",
            "Lost in Space (1998)\n",
            "Little Big Man (1970)\n",
            "\n",
            "Run query on user2, using LSH with 4 functions\n",
            "Time:  17.957716941833496\n",
            "\n",
            "Recommended movies:\n",
            "Haunting, The (1999)\n",
            "Creepshow (1982)\n",
            "Mystery Science Theater 3000: The Movie (1996)\n",
            "Lost in Space (1998)\n",
            "Little Big Man (1970)\n"
          ]
        }
      ]
    },
    {
      "cell_type": "code",
      "source": [
        "# Run query on user3, using LSH with 2 functions\n",
        "print(\"Run query on user3, using LSH with 2 functions\")\n",
        "ind, l32 = run_lsh(lsh2, np.array([user3]), K)\n",
        "get_recommendations(ind)\n",
        "\n",
        "# Run query on user3, using LSH with 4 functions\n",
        "print(\"\\nRun query on user3, using LSH with 4 functions\")\n",
        "ind, l34 = run_lsh(lsh4, np.array([user3]), K)\n",
        "get_recommendations(ind)"
      ],
      "metadata": {
        "colab": {
          "base_uri": "https://localhost:8080/"
        },
        "id": "551yObrNtbwR",
        "outputId": "b3bd71a3-8b41-4c4c-ac8b-43f56accc8e1"
      },
      "execution_count": 134,
      "outputs": [
        {
          "output_type": "stream",
          "name": "stdout",
          "text": [
            "Run query on user3, using LSH with 2 functions\n",
            "Time:  17.104443788528442\n",
            "\n",
            "Recommended movies:\n",
            "Mission: Impossible (1996)\n",
            "Star Wars: Episode IV - A New Hope (1977)\n",
            "Natural Born Killers (1994)\n",
            "Abyss, The (1989)\n",
            "Tender Mercies (1983)\n",
            "\n",
            "Run query on user3, using LSH with 4 functions\n",
            "Time:  17.580716848373413\n",
            "\n",
            "Recommended movies:\n",
            "Mission: Impossible (1996)\n",
            "Star Wars: Episode IV - A New Hope (1977)\n",
            "Natural Born Killers (1994)\n",
            "Abyss, The (1989)\n",
            "Tender Mercies (1983)\n"
          ]
        }
      ]
    },
    {
      "cell_type": "markdown",
      "source": [
        "# No multi-dimensional index"
      ],
      "metadata": {
        "id": "oN4-fPM9zHg7"
      }
    },
    {
      "cell_type": "code",
      "source": [
        "from sklearn.neighbors import NearestNeighbors"
      ],
      "metadata": {
        "id": "O7TsfMw_0pTL"
      },
      "execution_count": 135,
      "outputs": []
    },
    {
      "cell_type": "code",
      "source": [
        "# Count time of regular NN query\n",
        "# Note that changing the algorithm to 'kd_tree' or 'ball_tree' gives similar results\n",
        "# to LSH and KD trees, but brute force is different. Is brute force more accurate\n",
        "# due to pairwise comparison with all points?\n",
        "def run_Brute(result, user, k):\n",
        "  nrst_neigh = NearestNeighbors(n_neighbors = k, algorithm = 'brute')\n",
        "  nrst_neigh.fit(result)\n",
        "  start = time.time()\n",
        "  dist, ind = nrst_neigh.kneighbors(user)\n",
        "  end = time.time()\n",
        "  print(\"Time: \", end - start)\n",
        "  return ind, end - start"
      ],
      "metadata": {
        "id": "I4fDgVfVzR4q"
      },
      "execution_count": 136,
      "outputs": []
    },
    {
      "cell_type": "code",
      "source": [
        "print(\"Run query on user1, using brute force\")\n",
        "ind, b1 = run_Brute(result.values, np.array([user1]), K)\n",
        "get_recommendations(ind)"
      ],
      "metadata": {
        "colab": {
          "base_uri": "https://localhost:8080/"
        },
        "id": "cZqSI0Ht3p9V",
        "outputId": "e6fec135-bb29-4e47-a793-a2d5cd1231e6"
      },
      "execution_count": 137,
      "outputs": [
        {
          "output_type": "stream",
          "name": "stdout",
          "text": [
            "Run query on user1, using brute force\n",
            "Time:  0.034354209899902344\n",
            "\n",
            "Recommended movies:\n",
            "Creepshow (1982)\n",
            "Animal House (1978)\n",
            "Trading Places (1983)\n",
            "Backdraft (1991)\n",
            "Wild Wild West (1999)\n"
          ]
        }
      ]
    },
    {
      "cell_type": "code",
      "source": [
        "print(\"Run query on user2, using brute force\")\n",
        "ind, b2 = run_Brute(result.values, np.array([user2]), K)\n",
        "get_recommendations(ind)"
      ],
      "metadata": {
        "colab": {
          "base_uri": "https://localhost:8080/"
        },
        "id": "UM5RQ2iEBDEt",
        "outputId": "768dbe8e-4ee9-4a8a-e873-6c217a0388ce"
      },
      "execution_count": 138,
      "outputs": [
        {
          "output_type": "stream",
          "name": "stdout",
          "text": [
            "Run query on user2, using brute force\n",
            "Time:  0.04035449028015137\n",
            "\n",
            "Recommended movies:\n",
            "In the Line of Fire (1993)\n",
            "Rain Man (1988)\n",
            "They Shoot Horses, Don't They? (1969)\n",
            "Courage Under Fire (1996)\n",
            "Supercop (1992)\n"
          ]
        }
      ]
    },
    {
      "cell_type": "code",
      "source": [
        "print(\"Run query on user3, using brute force\")\n",
        "ind, b3 = run_Brute(result.values, np.array([user3]), K)\n",
        "get_recommendations(ind)"
      ],
      "metadata": {
        "colab": {
          "base_uri": "https://localhost:8080/"
        },
        "id": "s1xrfDt4BHSS",
        "outputId": "1c0cafe2-9e3d-48fc-c7fd-8c0365d2e89f"
      },
      "execution_count": 139,
      "outputs": [
        {
          "output_type": "stream",
          "name": "stdout",
          "text": [
            "Run query on user3, using brute force\n",
            "Time:  0.04591107368469238\n",
            "\n",
            "Recommended movies:\n",
            "Hustler, The (1961)\n",
            "Mask, The (1994)\n",
            "Dirty Dancing (1987)\n",
            "Superman II (1980)\n",
            "Manchurian Candidate, The (1962)\n"
          ]
        }
      ]
    },
    {
      "cell_type": "markdown",
      "source": [
        "# Results / Analysis"
      ],
      "metadata": {
        "id": "XZtYOTcp68lg"
      }
    },
    {
      "cell_type": "markdown",
      "source": [
        "Due to the limitations of our indexes and the number of total parameters we used, our recommendation system is neither optimal nor very accurate. \n",
        "Although, we should take note that the query results from the KDTrees and the LSHs are similar.\n",
        "\n",
        "Regardless, our main goal is to measure the performances of the two different multidimensional indexes."
      ],
      "metadata": {
        "id": "W7MJoU3bFAqE"
      }
    },
    {
      "cell_type": "code",
      "source": [
        "print(\"Using KD-Tree leaf-size 2, our NN query averaged:\")\n",
        "print((k12 + k22 + k32)/3,\"seconds of runtime.\")"
      ],
      "metadata": {
        "colab": {
          "base_uri": "https://localhost:8080/"
        },
        "id": "4Upepa_bBVkF",
        "outputId": "ea75d0c2-b87d-467e-bd58-317b00a89919"
      },
      "execution_count": 140,
      "outputs": [
        {
          "output_type": "stream",
          "name": "stdout",
          "text": [
            "Using KD-Tree leaf-size 2, our NN query averaged:\n",
            "0.001208941141764323 seconds of runtime.\n"
          ]
        }
      ]
    },
    {
      "cell_type": "code",
      "source": [
        "print(\"Using KD-Tree leaf-size 4, our NN query averaged:\")\n",
        "print((k14 + k24 + k34)/3,\"seconds of runtime.\")"
      ],
      "metadata": {
        "colab": {
          "base_uri": "https://localhost:8080/"
        },
        "id": "VF3ivl4WBm3u",
        "outputId": "903b8dd4-3569-4d61-ded8-c53001019526"
      },
      "execution_count": 141,
      "outputs": [
        {
          "output_type": "stream",
          "name": "stdout",
          "text": [
            "Using KD-Tree leaf-size 4, our NN query averaged:\n",
            "0.0008124510447184244 seconds of runtime.\n"
          ]
        }
      ]
    },
    {
      "cell_type": "code",
      "source": [
        "print(\"Using LSH with 2 functions, our NN query averaged:\")\n",
        "print((l12 + l22 + l32)/3,\"seconds of runtime.\")"
      ],
      "metadata": {
        "colab": {
          "base_uri": "https://localhost:8080/"
        },
        "id": "qhK8u7YZB3HO",
        "outputId": "916d9b46-18d3-4ad9-e226-161101605563"
      },
      "execution_count": 142,
      "outputs": [
        {
          "output_type": "stream",
          "name": "stdout",
          "text": [
            "Using LSH with 2 functions, our NN query averaged:\n",
            "18.209365208943684 seconds of runtime.\n"
          ]
        }
      ]
    },
    {
      "cell_type": "code",
      "source": [
        "print(\"Using LSH with 4 functions, our NN query averaged:\")\n",
        "print((l14 + l24 + l34)/3,\"seconds of runtime.\")"
      ],
      "metadata": {
        "colab": {
          "base_uri": "https://localhost:8080/"
        },
        "id": "0oN07suiCqee",
        "outputId": "cf072efe-e408-42be-f10a-26312f42c79b"
      },
      "execution_count": 143,
      "outputs": [
        {
          "output_type": "stream",
          "name": "stdout",
          "text": [
            "Using LSH with 4 functions, our NN query averaged:\n",
            "17.621424198150635 seconds of runtime.\n"
          ]
        }
      ]
    },
    {
      "cell_type": "code",
      "source": [
        "print(\"Using brute force, our NN query averaged:\")\n",
        "print((b1 + b2 + b3)/3,\"seconds of runtime.\")"
      ],
      "metadata": {
        "colab": {
          "base_uri": "https://localhost:8080/"
        },
        "id": "g8Pei7Y5ByuI",
        "outputId": "1c17b596-539f-4cd6-be9d-1c116ad97496"
      },
      "execution_count": 144,
      "outputs": [
        {
          "output_type": "stream",
          "name": "stdout",
          "text": [
            "Using brute force, our NN query averaged:\n",
            "0.040206591288248696 seconds of runtime.\n"
          ]
        }
      ]
    },
    {
      "cell_type": "markdown",
      "source": [
        "From our KD-Tree, we can see that using a larger leaf-size may help speed up our performance.\n",
        "\n",
        "From our LSH, using more functions may or may not slow down our performance.\n",
        "\n", 
        "The time results vary per instance."
      ],
      "metadata": {
        "id": "4cXzhOIiCt0h"
      }
    },
    {
      "cell_type": "markdown",
      "source": [
        "Comparing KD-Tree to LSH, our KD-tree performed significantly faster.\n",
        "\n",
        "Using brute force was also faster than LSH, but slower than the KD-Tree\n",
        "\n",
        "It is important to note that the LSH library used in our implementation is not optimal.\n",
        "\n",
        "Despite this, the results we have are expected. LSH addresses curse of dimensionality in KD-Trees. However, we are using a very low number of dimensions. With a low number of dimensions, a KD-Tree can outperform LSH. "
      ],
      "metadata": {
        "id": "weoAl9iZn1r_"
      }
    }
  ]
}
